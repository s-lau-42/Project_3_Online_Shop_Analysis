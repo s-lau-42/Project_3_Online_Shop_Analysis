{
 "cells": [
  {
   "cell_type": "markdown",
   "metadata": {},
   "source": [
    "<html>\n",
    "   <head>\n",
    "      <title>Customer Life Time Value</title>\n",
    "   </head>\n",
    "   <body>\n",
    "      <h1><font size=\"5\">Part 4: Customer Lifetime Value</font></h1>\n",
    "      <ul style=\"list-style-type:none;line-height: 2;\">\n",
    "         <li><font size=\"3\"><a href='#1'>1. Clustering of User Data</a></font></li>\n",
    "             <ul style=\"margin-left: 1em; padding-left: 1em;list-style-type:none\">\n",
    "             <li><font size=\"3\"><a href='#1.1'>1.1 Preparation for Kmeans</a></font></li>\n",
    "             <li><font size=\"3\"><a href='#1.2'>1.2 Elbow Method</a></font></li>\n",
    "             <li><font size=\"3\"><a href='#1.3'>1.3 Score Function</a></font></li>\n",
    "             <li><font size=\"3\"><a href='#1.4'>1.4 Clustering and Evalutation</a></font></li>\n",
    "                 <ul style=\"margin-left: 1em; padding-left: 1em;list-style-type:none\">\n",
    "                 <li><font size=\"3\"><a href='#1.4.1'>1.4.1 Unscaled</a></font></li>\n",
    "                 <li><font size=\"3\"><a href='#1.4.2'>1.4.2 Standard Scaled</a></font></li>\n",
    "                 <li><font size=\"3\"><a href='#1.4.3'>1.4.3 MinMax Scaled</a></font></li>\n",
    "                 </ul> \n",
    "             </ul>          \n",
    "         <li><font size=\"3\"><a href='#2'>2. Segmenting Customers by RFM</a></font></li>\n",
    "             <ul style=\"margin-left: 1em; padding-left: 1em;list-style-type:none\">\n",
    "             <li><font size=\"3\"><a href='#2.1'>2.1 Recency</a></font></li>\n",
    "             <li><font size=\"3\"><a href='#2.2'>2.2 Frequency</a></font></li>\n",
    "             <li><font size=\"3\"><a href='#2.3'>2.3 Monetary Value</a></font></li>\n",
    "             <li><font size=\"3\"><a href='#2.4'>2.4 Overall User Score</a></font></li>\n",
    "             </ul>          \n",
    "      </ul>\n",
    "   </body>\n",
    "</html>"
   ]
  },
  {
   "cell_type": "code",
   "execution_count": 1,
   "metadata": {},
   "outputs": [],
   "source": [
    "# Importing the necessary libraries\n",
    "import re\n",
    "import numpy as np\n",
    "import pandas as pd\n",
    "import matplotlib.pyplot as plt\n",
    "%matplotlib inline\n",
    "import seaborn as sns\n",
    "import glob\n",
    "import datetime\n",
    "from operator import itemgetter\n",
    "from sklearn.cluster import KMeans\n",
    "from sklearn.preprocessing import StandardScaler\n",
    "from sklearn.model_selection import train_test_split\n",
    "from sklearn.model_selection import StratifiedKFold\n",
    "from sklearn.model_selection import KFold\n",
    "import xgboost as xgb\n",
    "from sklearn.metrics import roc_auc_score\n",
    "from sklearn.metrics import roc_curve, auc\n",
    "from sklearn.linear_model import LogisticRegression\n",
    "from sklearn.metrics import classification_report\n",
    "from sklearn.decomposition import PCA\n",
    "from sklearn.pipeline import Pipeline\n",
    "from sklearn.ensemble import RandomForestClassifier\n",
    "from sklearn.model_selection import GridSearchCV\n",
    "from sklearn.metrics import confusion_matrix, f1_score, precision_recall_fscore_support\n",
    "from sklearn import preprocessing\n",
    "from sklearn.model_selection import cross_val_score, cross_val_predict\n",
    "from sklearn.metrics import silhouette_score, davies_bouldin_score,v_measure_score\n",
    "from sklearn.mixture import GaussianMixture"
   ]
  },
  {
   "cell_type": "code",
   "execution_count": 2,
   "metadata": {},
   "outputs": [],
   "source": [
    "pd.set_option('display.max_columns', 300)\n",
    "pd.set_option('display.max_rows', 400)"
   ]
  },
  {
   "cell_type": "markdown",
   "metadata": {},
   "source": [
    "## Loading Dataframes"
   ]
  },
  {
   "cell_type": "code",
   "execution_count": 6,
   "metadata": {},
   "outputs": [],
   "source": [
    "df = pd.read_pickle(\"./Data/dataframefull.pickle\")\n",
    "df_userscr = pd.read_pickle(\"./Data/users_with_score.pickle\")"
   ]
  },
  {
   "cell_type": "code",
   "execution_count": null,
   "metadata": {},
   "outputs": [],
   "source": []
  }
 ],
 "metadata": {
  "kernelspec": {
   "display_name": "Python 3",
   "language": "python",
   "name": "python3"
  },
  "language_info": {
   "codemirror_mode": {
    "name": "ipython",
    "version": 3
   },
   "file_extension": ".py",
   "mimetype": "text/x-python",
   "name": "python",
   "nbconvert_exporter": "python",
   "pygments_lexer": "ipython3",
   "version": "3.6.6"
  }
 },
 "nbformat": 4,
 "nbformat_minor": 2
}
