{
 "cells": [
  {
   "cell_type": "markdown",
   "metadata": {},
   "source": [
    "<html>\n",
    "   <head>\n",
    "      <title>Customer Life Time Value</title>\n",
    "   </head>\n",
    "   <body>\n",
    "      <h1><font size=\"6\">Part 4: Customer Lifetime Value</font></h1>\n",
    "      <ul style=\"list-style-type:none;line-height: 2;\">\n",
    "         <li><font size=\"3\"><a href='#1'>1. Lifetime Value Calculation by hand</a></font></li>\n",
    "             <ul style=\"margin-left: 1em; padding-left: 1em;list-style-type:none\">\n",
    "             <li><font size=\"3\"><a href='#1.1'>1.1 Calculate rates</a></font></li>\n",
    "             <li><font size=\"3\"><a href='#1.2'>1.2 Customer Lifetime Value</a></font></li>\n",
    "          </ul>\n",
    "         <li><font size=\"3\"><a href='#2'>2. Lifetime Value Prediction</a></font></li>\n",
    "             <ul style=\"margin-left: 1em; padding-left: 1em;list-style-type:none\">\n",
    "             <li><font size=\"3\"><a href='#2.1'>2.1 Data Preparation</a></font></li>\n",
    "             <li><font size=\"3\"><a href='#2.2'>2.2 Model 1</a></font></li>\n",
    "             <li><font size=\"3\"><a href='#2.3'>2.3 Model 2 (CSV)</a></font></li> \n",
    "          </ul>\n",
    "      </ul>\n",
    "   </body>\n",
    "</html>"
   ]
  },
  {
   "cell_type": "markdown",
   "metadata": {},
   "source": [
    "## Importing libraries"
   ]
  },
  {
   "cell_type": "code",
   "execution_count": 1,
   "metadata": {},
   "outputs": [],
   "source": [
    "# Importing the necessary libraries\n",
    "import re\n",
    "import numpy as np\n",
    "import pandas as pd\n",
    "import matplotlib.pyplot as plt\n",
    "%matplotlib inline\n",
    "import seaborn as sns\n",
    "import glob\n",
    "import datetime\n",
    "from operator import itemgetter\n",
    "from sklearn.cluster import KMeans\n",
    "from sklearn.preprocessing import StandardScaler\n",
    "from sklearn.model_selection import train_test_split\n",
    "from sklearn.model_selection import StratifiedKFold\n",
    "from sklearn.model_selection import KFold\n",
    "import xgboost as xgb\n",
    "from sklearn.metrics import roc_auc_score\n",
    "from sklearn.metrics import roc_curve, auc\n",
    "from sklearn.linear_model import LogisticRegression\n",
    "from sklearn.metrics import classification_report\n",
    "from sklearn.decomposition import PCA\n",
    "from sklearn.pipeline import Pipeline\n",
    "from sklearn.ensemble import RandomForestClassifier\n",
    "from sklearn.model_selection import GridSearchCV\n",
    "from sklearn.metrics import confusion_matrix, f1_score, precision_recall_fscore_support\n",
    "from sklearn import preprocessing\n",
    "from sklearn.model_selection import cross_val_score, cross_val_predict\n",
    "from sklearn.metrics import silhouette_score, davies_bouldin_score,v_measure_score\n",
    "from sklearn.mixture import GaussianMixture"
   ]
  },
  {
   "cell_type": "markdown",
   "metadata": {},
   "source": [
    "## Setting options"
   ]
  },
  {
   "cell_type": "code",
   "execution_count": 2,
   "metadata": {},
   "outputs": [],
   "source": [
    "pd.set_option('display.max_columns', 300)\n",
    "pd.set_option('display.max_rows', 400)"
   ]
  },
  {
   "cell_type": "markdown",
   "metadata": {},
   "source": [
    "## Loading Dataframes"
   ]
  },
  {
   "cell_type": "code",
   "execution_count": 3,
   "metadata": {},
   "outputs": [],
   "source": [
    "df = pd.read_pickle(\"./Data/dataframefull.pickle\")\n",
    "df_userscr = pd.read_pickle(\"./Data/users_with_score.pickle\")"
   ]
  },
  {
   "cell_type": "markdown",
   "metadata": {},
   "source": [
    "<a id='1'></a>"
   ]
  },
  {
   "cell_type": "markdown",
   "metadata": {},
   "source": [
    "# 1. Lifetime Value Calculation by hand"
   ]
  },
  {
   "cell_type": "markdown",
   "metadata": {},
   "source": [
    "<a id='1.1'></a>"
   ]
  },
  {
   "cell_type": "markdown",
   "metadata": {},
   "source": [
    "### 1.1 Calculate rates (assuming constants)"
   ]
  },
  {
   "cell_type": "code",
   "execution_count": 4,
   "metadata": {},
   "outputs": [],
   "source": [
    "#overall purchase frequency\n",
    "purchase_frequency = sum(df_userscr['total_purchases']) / df_userscr.shape[0]"
   ]
  },
  {
   "cell_type": "code",
   "execution_count": 5,
   "metadata": {},
   "outputs": [],
   "source": [
    "#overall repetition rate\n",
    "repeat_rate = df_userscr[df_userscr.total_purchases > 1].shape[0] / df_userscr.shape[0]"
   ]
  },
  {
   "cell_type": "code",
   "execution_count": 6,
   "metadata": {},
   "outputs": [],
   "source": [
    "#churn rate\n",
    "churn_rate = 1 - repeat_rate"
   ]
  },
  {
   "cell_type": "code",
   "execution_count": 7,
   "metadata": {
    "scrolled": true
   },
   "outputs": [
    {
     "data": {
      "text/plain": [
       "(1.3411856727329963, 0.17860578814905473, 0.8213942118509453)"
      ]
     },
     "execution_count": 7,
     "metadata": {},
     "output_type": "execute_result"
    }
   ],
   "source": [
    "purchase_frequency,repeat_rate,churn_rate"
   ]
  },
  {
   "cell_type": "markdown",
   "metadata": {},
   "source": [
    "<a id='1.2'></a>"
   ]
  },
  {
   "cell_type": "markdown",
   "metadata": {},
   "source": [
    "### 1.2 Customer Lifetime Value"
   ]
  },
  {
   "cell_type": "code",
   "execution_count": 8,
   "metadata": {},
   "outputs": [],
   "source": [
    "df_constant_ltv = df_userscr.copy()"
   ]
  },
  {
   "cell_type": "code",
   "execution_count": 9,
   "metadata": {},
   "outputs": [],
   "source": [
    "#customer value\n",
    "df_constant_ltv['c_value'] = round((df_constant_ltv['avg_shop_cart'] * purchase_frequency) / churn_rate, 2)"
   ]
  },
  {
   "cell_type": "code",
   "execution_count": 10,
   "metadata": {},
   "outputs": [],
   "source": [
    "#profit variable, here arbitrarily assume that 6% of sales is profit\n",
    "df_constant_ltv['profit_margin'] = df_constant_ltv['revenue'] * 0.06"
   ]
  },
  {
   "cell_type": "code",
   "execution_count": 11,
   "metadata": {},
   "outputs": [],
   "source": [
    "#lifetime value\n",
    "df_constant_ltv['clv'] = (df_constant_ltv['c_value'] * df_constant_ltv['profit_margin']).round(2)"
   ]
  },
  {
   "cell_type": "code",
   "execution_count": 12,
   "metadata": {
    "scrolled": true
   },
   "outputs": [
    {
     "data": {
      "text/html": [
       "<div>\n",
       "<style scoped>\n",
       "    .dataframe tbody tr th:only-of-type {\n",
       "        vertical-align: middle;\n",
       "    }\n",
       "\n",
       "    .dataframe tbody tr th {\n",
       "        vertical-align: top;\n",
       "    }\n",
       "\n",
       "    .dataframe thead th {\n",
       "        text-align: right;\n",
       "    }\n",
       "</style>\n",
       "<table border=\"1\" class=\"dataframe\">\n",
       "  <thead>\n",
       "    <tr style=\"text-align: right;\">\n",
       "      <th></th>\n",
       "      <th>user_id</th>\n",
       "      <th>revenue</th>\n",
       "      <th>women_article</th>\n",
       "      <th>men_article</th>\n",
       "      <th>kids_article</th>\n",
       "      <th>homeandliving_article</th>\n",
       "      <th>avg_shop_cart</th>\n",
       "      <th>total_purchases</th>\n",
       "      <th>avg_cart_itemcount</th>\n",
       "      <th>monday</th>\n",
       "      <th>times_bought_monday</th>\n",
       "      <th>tuesday</th>\n",
       "      <th>times_bought_tuesday</th>\n",
       "      <th>wednesday</th>\n",
       "      <th>times_bought_wednesday</th>\n",
       "      <th>thursday</th>\n",
       "      <th>times_bought_thursday</th>\n",
       "      <th>friday</th>\n",
       "      <th>times_bought_friday</th>\n",
       "      <th>saturday</th>\n",
       "      <th>times_bought_saturday</th>\n",
       "      <th>sunday</th>\n",
       "      <th>times_bought_sunday</th>\n",
       "      <th>user_type</th>\n",
       "      <th>country</th>\n",
       "      <th>region</th>\n",
       "      <th>city</th>\n",
       "      <th>device_category</th>\n",
       "      <th>device_browser</th>\n",
       "      <th>device_os</th>\n",
       "      <th>country_slim</th>\n",
       "      <th>cluster</th>\n",
       "      <th>recency</th>\n",
       "      <th>frequency</th>\n",
       "      <th>score</th>\n",
       "      <th>value_segment</th>\n",
       "      <th>c_value</th>\n",
       "      <th>profit_margin</th>\n",
       "      <th>clv</th>\n",
       "    </tr>\n",
       "  </thead>\n",
       "  <tbody>\n",
       "    <tr>\n",
       "      <th>0</th>\n",
       "      <td>1</td>\n",
       "      <td>147.01</td>\n",
       "      <td>6</td>\n",
       "      <td>1</td>\n",
       "      <td>0</td>\n",
       "      <td>0</td>\n",
       "      <td>73.505</td>\n",
       "      <td>2</td>\n",
       "      <td>3.5</td>\n",
       "      <td>0.0</td>\n",
       "      <td>0.0</td>\n",
       "      <td>0.0</td>\n",
       "      <td>0.0</td>\n",
       "      <td>0.0</td>\n",
       "      <td>0.0</td>\n",
       "      <td>0.0</td>\n",
       "      <td>0.0</td>\n",
       "      <td>1.0</td>\n",
       "      <td>1.0</td>\n",
       "      <td>0.0</td>\n",
       "      <td>0.0</td>\n",
       "      <td>1.0</td>\n",
       "      <td>1.0</td>\n",
       "      <td>first</td>\n",
       "      <td>Germany</td>\n",
       "      <td>Lower Saxony</td>\n",
       "      <td>Varel</td>\n",
       "      <td>desktop</td>\n",
       "      <td>Firefox</td>\n",
       "      <td>Windows</td>\n",
       "      <td>Germany</td>\n",
       "      <td>0</td>\n",
       "      <td>216</td>\n",
       "      <td>2</td>\n",
       "      <td>1</td>\n",
       "      <td>low</td>\n",
       "      <td>120.02</td>\n",
       "      <td>8.8206</td>\n",
       "      <td>1058.65</td>\n",
       "    </tr>\n",
       "    <tr>\n",
       "      <th>1</th>\n",
       "      <td>3</td>\n",
       "      <td>84.11</td>\n",
       "      <td>0</td>\n",
       "      <td>1</td>\n",
       "      <td>0</td>\n",
       "      <td>0</td>\n",
       "      <td>84.110</td>\n",
       "      <td>1</td>\n",
       "      <td>1.0</td>\n",
       "      <td>1.0</td>\n",
       "      <td>1.0</td>\n",
       "      <td>0.0</td>\n",
       "      <td>0.0</td>\n",
       "      <td>0.0</td>\n",
       "      <td>0.0</td>\n",
       "      <td>0.0</td>\n",
       "      <td>0.0</td>\n",
       "      <td>0.0</td>\n",
       "      <td>0.0</td>\n",
       "      <td>0.0</td>\n",
       "      <td>0.0</td>\n",
       "      <td>0.0</td>\n",
       "      <td>0.0</td>\n",
       "      <td>first</td>\n",
       "      <td>Germany</td>\n",
       "      <td>Lower Saxony</td>\n",
       "      <td>Buchholz in der Nordheide</td>\n",
       "      <td>tablet</td>\n",
       "      <td>Safari</td>\n",
       "      <td>iOS</td>\n",
       "      <td>Germany</td>\n",
       "      <td>0</td>\n",
       "      <td>339</td>\n",
       "      <td>1</td>\n",
       "      <td>0</td>\n",
       "      <td>low</td>\n",
       "      <td>137.34</td>\n",
       "      <td>5.0466</td>\n",
       "      <td>693.10</td>\n",
       "    </tr>\n",
       "    <tr>\n",
       "      <th>2</th>\n",
       "      <td>4</td>\n",
       "      <td>62.32</td>\n",
       "      <td>1</td>\n",
       "      <td>4</td>\n",
       "      <td>0</td>\n",
       "      <td>0</td>\n",
       "      <td>62.320</td>\n",
       "      <td>1</td>\n",
       "      <td>4.0</td>\n",
       "      <td>0.0</td>\n",
       "      <td>0.0</td>\n",
       "      <td>0.0</td>\n",
       "      <td>0.0</td>\n",
       "      <td>0.0</td>\n",
       "      <td>0.0</td>\n",
       "      <td>1.0</td>\n",
       "      <td>1.0</td>\n",
       "      <td>0.0</td>\n",
       "      <td>0.0</td>\n",
       "      <td>0.0</td>\n",
       "      <td>0.0</td>\n",
       "      <td>0.0</td>\n",
       "      <td>0.0</td>\n",
       "      <td>first</td>\n",
       "      <td>Germany</td>\n",
       "      <td>Berlin</td>\n",
       "      <td>Berlin</td>\n",
       "      <td>desktop</td>\n",
       "      <td>Chrome</td>\n",
       "      <td>Windows</td>\n",
       "      <td>Germany</td>\n",
       "      <td>0</td>\n",
       "      <td>42</td>\n",
       "      <td>1</td>\n",
       "      <td>2</td>\n",
       "      <td>low</td>\n",
       "      <td>101.76</td>\n",
       "      <td>3.7392</td>\n",
       "      <td>380.50</td>\n",
       "    </tr>\n",
       "    <tr>\n",
       "      <th>3</th>\n",
       "      <td>5</td>\n",
       "      <td>89.89</td>\n",
       "      <td>0</td>\n",
       "      <td>0</td>\n",
       "      <td>4</td>\n",
       "      <td>0</td>\n",
       "      <td>44.945</td>\n",
       "      <td>2</td>\n",
       "      <td>2.0</td>\n",
       "      <td>2.0</td>\n",
       "      <td>1.0</td>\n",
       "      <td>0.0</td>\n",
       "      <td>0.0</td>\n",
       "      <td>0.0</td>\n",
       "      <td>0.0</td>\n",
       "      <td>0.0</td>\n",
       "      <td>0.0</td>\n",
       "      <td>0.0</td>\n",
       "      <td>0.0</td>\n",
       "      <td>0.0</td>\n",
       "      <td>0.0</td>\n",
       "      <td>0.0</td>\n",
       "      <td>0.0</td>\n",
       "      <td>first</td>\n",
       "      <td>Germany</td>\n",
       "      <td>Schleswig-Holstein</td>\n",
       "      <td>Neumunster</td>\n",
       "      <td>tablet</td>\n",
       "      <td>Safari</td>\n",
       "      <td>iOS</td>\n",
       "      <td>Germany</td>\n",
       "      <td>0</td>\n",
       "      <td>185</td>\n",
       "      <td>2</td>\n",
       "      <td>1</td>\n",
       "      <td>low</td>\n",
       "      <td>73.39</td>\n",
       "      <td>5.3934</td>\n",
       "      <td>395.82</td>\n",
       "    </tr>\n",
       "    <tr>\n",
       "      <th>4</th>\n",
       "      <td>6</td>\n",
       "      <td>25.20</td>\n",
       "      <td>1</td>\n",
       "      <td>0</td>\n",
       "      <td>0</td>\n",
       "      <td>0</td>\n",
       "      <td>25.200</td>\n",
       "      <td>1</td>\n",
       "      <td>1.0</td>\n",
       "      <td>0.0</td>\n",
       "      <td>0.0</td>\n",
       "      <td>0.0</td>\n",
       "      <td>0.0</td>\n",
       "      <td>1.0</td>\n",
       "      <td>1.0</td>\n",
       "      <td>0.0</td>\n",
       "      <td>0.0</td>\n",
       "      <td>0.0</td>\n",
       "      <td>0.0</td>\n",
       "      <td>0.0</td>\n",
       "      <td>0.0</td>\n",
       "      <td>0.0</td>\n",
       "      <td>0.0</td>\n",
       "      <td>first</td>\n",
       "      <td>Germany</td>\n",
       "      <td>North Rhine-Westphalia</td>\n",
       "      <td>Meinerzhagen</td>\n",
       "      <td>mobile</td>\n",
       "      <td>Chrome</td>\n",
       "      <td>Android</td>\n",
       "      <td>Germany</td>\n",
       "      <td>0</td>\n",
       "      <td>71</td>\n",
       "      <td>1</td>\n",
       "      <td>2</td>\n",
       "      <td>low</td>\n",
       "      <td>41.15</td>\n",
       "      <td>1.5120</td>\n",
       "      <td>62.22</td>\n",
       "    </tr>\n",
       "  </tbody>\n",
       "</table>\n",
       "</div>"
      ],
      "text/plain": [
       "   user_id  revenue  women_article  men_article  kids_article  \\\n",
       "0        1   147.01              6            1             0   \n",
       "1        3    84.11              0            1             0   \n",
       "2        4    62.32              1            4             0   \n",
       "3        5    89.89              0            0             4   \n",
       "4        6    25.20              1            0             0   \n",
       "\n",
       "   homeandliving_article  avg_shop_cart  total_purchases  avg_cart_itemcount  \\\n",
       "0                      0         73.505                2                 3.5   \n",
       "1                      0         84.110                1                 1.0   \n",
       "2                      0         62.320                1                 4.0   \n",
       "3                      0         44.945                2                 2.0   \n",
       "4                      0         25.200                1                 1.0   \n",
       "\n",
       "   monday  times_bought_monday  tuesday  times_bought_tuesday  wednesday  \\\n",
       "0     0.0                  0.0      0.0                   0.0        0.0   \n",
       "1     1.0                  1.0      0.0                   0.0        0.0   \n",
       "2     0.0                  0.0      0.0                   0.0        0.0   \n",
       "3     2.0                  1.0      0.0                   0.0        0.0   \n",
       "4     0.0                  0.0      0.0                   0.0        1.0   \n",
       "\n",
       "   times_bought_wednesday  thursday  times_bought_thursday  friday  \\\n",
       "0                     0.0       0.0                    0.0     1.0   \n",
       "1                     0.0       0.0                    0.0     0.0   \n",
       "2                     0.0       1.0                    1.0     0.0   \n",
       "3                     0.0       0.0                    0.0     0.0   \n",
       "4                     1.0       0.0                    0.0     0.0   \n",
       "\n",
       "   times_bought_friday  saturday  times_bought_saturday  sunday  \\\n",
       "0                  1.0       0.0                    0.0     1.0   \n",
       "1                  0.0       0.0                    0.0     0.0   \n",
       "2                  0.0       0.0                    0.0     0.0   \n",
       "3                  0.0       0.0                    0.0     0.0   \n",
       "4                  0.0       0.0                    0.0     0.0   \n",
       "\n",
       "   times_bought_sunday user_type  country                  region  \\\n",
       "0                  1.0     first  Germany            Lower Saxony   \n",
       "1                  0.0     first  Germany            Lower Saxony   \n",
       "2                  0.0     first  Germany                  Berlin   \n",
       "3                  0.0     first  Germany      Schleswig-Holstein   \n",
       "4                  0.0     first  Germany  North Rhine-Westphalia   \n",
       "\n",
       "                        city device_category device_browser device_os  \\\n",
       "0                      Varel         desktop        Firefox   Windows   \n",
       "1  Buchholz in der Nordheide          tablet         Safari       iOS   \n",
       "2                     Berlin         desktop         Chrome   Windows   \n",
       "3                 Neumunster          tablet         Safari       iOS   \n",
       "4               Meinerzhagen          mobile         Chrome   Android   \n",
       "\n",
       "  country_slim  cluster  recency  frequency  score value_segment  c_value  \\\n",
       "0      Germany        0      216          2      1           low   120.02   \n",
       "1      Germany        0      339          1      0           low   137.34   \n",
       "2      Germany        0       42          1      2           low   101.76   \n",
       "3      Germany        0      185          2      1           low    73.39   \n",
       "4      Germany        0       71          1      2           low    41.15   \n",
       "\n",
       "   profit_margin      clv  \n",
       "0         8.8206  1058.65  \n",
       "1         5.0466   693.10  \n",
       "2         3.7392   380.50  \n",
       "3         5.3934   395.82  \n",
       "4         1.5120    62.22  "
      ]
     },
     "execution_count": 12,
     "metadata": {},
     "output_type": "execute_result"
    }
   ],
   "source": [
    "df_constant_ltv.head()"
   ]
  },
  {
   "cell_type": "markdown",
   "metadata": {},
   "source": [
    "<a id='2'></a>"
   ]
  },
  {
   "cell_type": "markdown",
   "metadata": {},
   "source": [
    "# 2. Lifetime Value Prediction"
   ]
  },
  {
   "cell_type": "markdown",
   "metadata": {},
   "source": [
    "<a id='2.1'></a>"
   ]
  },
  {
   "cell_type": "markdown",
   "metadata": {},
   "source": [
    "### 2.1 Data Preparation"
   ]
  },
  {
   "cell_type": "code",
   "execution_count": 13,
   "metadata": {},
   "outputs": [],
   "source": [
    "#dataframe copy to save prediction results\n",
    "df_pred_clv_1 = df_userscr.copy()"
   ]
  },
  {
   "cell_type": "code",
   "execution_count": 14,
   "metadata": {},
   "outputs": [],
   "source": [
    "#dataframe copy to save prediction results\n",
    "df_pred_clv_2 = df_userscr.copy()"
   ]
  },
  {
   "cell_type": "code",
   "execution_count": 15,
   "metadata": {},
   "outputs": [],
   "source": [
    "#Here I will use the Lifetimes package which finds\n",
    "#frequent use in predicting lifetime value of customers\n",
    "from lifetimes.utils import summary_data_from_transaction_data"
   ]
  },
  {
   "cell_type": "code",
   "execution_count": 17,
   "metadata": {
    "scrolled": false
   },
   "outputs": [
    {
     "data": {
      "text/html": [
       "<div>\n",
       "<style scoped>\n",
       "    .dataframe tbody tr th:only-of-type {\n",
       "        vertical-align: middle;\n",
       "    }\n",
       "\n",
       "    .dataframe tbody tr th {\n",
       "        vertical-align: top;\n",
       "    }\n",
       "\n",
       "    .dataframe thead th {\n",
       "        text-align: right;\n",
       "    }\n",
       "</style>\n",
       "<table border=\"1\" class=\"dataframe\">\n",
       "  <thead>\n",
       "    <tr style=\"text-align: right;\">\n",
       "      <th></th>\n",
       "      <th>frequency</th>\n",
       "      <th>recency</th>\n",
       "      <th>T</th>\n",
       "      <th>monetary_value</th>\n",
       "    </tr>\n",
       "    <tr>\n",
       "      <th>user_id</th>\n",
       "      <th></th>\n",
       "      <th></th>\n",
       "      <th></th>\n",
       "      <th></th>\n",
       "    </tr>\n",
       "  </thead>\n",
       "  <tbody>\n",
       "    <tr>\n",
       "      <th>1</th>\n",
       "      <td>1.0</td>\n",
       "      <td>19.0</td>\n",
       "      <td>235.0</td>\n",
       "      <td>15.96</td>\n",
       "    </tr>\n",
       "    <tr>\n",
       "      <th>2</th>\n",
       "      <td>0.0</td>\n",
       "      <td>0.0</td>\n",
       "      <td>454.0</td>\n",
       "      <td>0.00</td>\n",
       "    </tr>\n",
       "    <tr>\n",
       "      <th>3</th>\n",
       "      <td>0.0</td>\n",
       "      <td>0.0</td>\n",
       "      <td>339.0</td>\n",
       "      <td>0.00</td>\n",
       "    </tr>\n",
       "    <tr>\n",
       "      <th>4</th>\n",
       "      <td>0.0</td>\n",
       "      <td>0.0</td>\n",
       "      <td>42.0</td>\n",
       "      <td>0.00</td>\n",
       "    </tr>\n",
       "    <tr>\n",
       "      <th>5</th>\n",
       "      <td>1.0</td>\n",
       "      <td>21.0</td>\n",
       "      <td>206.0</td>\n",
       "      <td>26.88</td>\n",
       "    </tr>\n",
       "  </tbody>\n",
       "</table>\n",
       "</div>"
      ],
      "text/plain": [
       "         frequency  recency      T  monetary_value\n",
       "user_id                                           \n",
       "1              1.0     19.0  235.0           15.96\n",
       "2              0.0      0.0  454.0            0.00\n",
       "3              0.0      0.0  339.0            0.00\n",
       "4              0.0      0.0   42.0            0.00\n",
       "5              1.0     21.0  206.0           26.88"
      ]
     },
     "execution_count": 17,
     "metadata": {},
     "output_type": "execute_result"
    }
   ],
   "source": [
    "#fit the data to the custom frame needed in the package\n",
    "#it sets frequency, recency, length, and monetary value\n",
    "data = summary_data_from_transaction_data(df.drop_duplicates(subset =\"visit_id\"),\n",
    "                                          'user_id',\n",
    "                                          'date', \n",
    "                                          monetary_value_col='total_price',\n",
    "                                          observation_period_end = df[\"date\"].max())\n",
    "data.head()"
   ]
  },
  {
   "cell_type": "markdown",
   "metadata": {},
   "source": [
    "<a id='2.2'></a>"
   ]
  },
  {
   "cell_type": "markdown",
   "metadata": {},
   "source": [
    "### 2.2 Model 1"
   ]
  },
  {
   "cell_type": "code",
   "execution_count": 18,
   "metadata": {},
   "outputs": [
    {
     "data": {
      "text/plain": [
       "<lifetimes.BetaGeoFitter: fitted with 622617 subjects, a: 1.27, alpha: 13.28, b: 1.24, r: 0.07>"
      ]
     },
     "execution_count": 18,
     "metadata": {},
     "output_type": "execute_result"
    }
   ],
   "source": [
    "#init and fit the prediction model on the data above\n",
    "from lifetimes import BetaGeoFitter\n",
    " \n",
    "bgf = BetaGeoFitter(penalizer_coef=0.0)\n",
    "bgf.fit(data['frequency'], data['recency'], data['T'])"
   ]
  },
  {
   "cell_type": "code",
   "execution_count": 19,
   "metadata": {
    "scrolled": true
   },
   "outputs": [
    {
     "data": {
      "text/plain": [
       "<matplotlib.axes._subplots.AxesSubplot at 0x1a1f2afa58>"
      ]
     },
     "execution_count": 19,
     "metadata": {},
     "output_type": "execute_result"
    },
    {
     "data": {
      "image/png": "[encoded data removed]",
      "text/plain": [
       "<Figure size 432x288 with 2 Axes>"
      ]
     },
     "metadata": {
      "needs_background": "light"
     },
     "output_type": "display_data"
    }
   ],
   "source": [
    "#heatmap plot for frequency to recency and expected number of future purchase\n",
    "from lifetimes.plotting import plot_frequency_recency_matrix\n",
    "\n",
    "plot_frequency_recency_matrix(bgf)"
   ]
  },
  {
   "cell_type": "code",
   "execution_count": 20,
   "metadata": {},
   "outputs": [
    {
     "data": {
      "text/plain": [
       "<matplotlib.axes._subplots.AxesSubplot at 0x1a24fec710>"
      ]
     },
     "execution_count": 20,
     "metadata": {},
     "output_type": "execute_result"
    },
    {
     "data": {
      "image/png": "[encoded data removed]",
      "text/plain": [
       "<Figure size 432x288 with 2 Axes>"
      ]
     },
     "metadata": {
      "needs_background": "light"
     },
     "output_type": "display_data"
    }
   ],
   "source": [
    "#heatmap plot for frequency to recency and probability if the customer is still \"alive\"\n",
    "from lifetimes.plotting import plot_probability_alive_matrix\n",
    "\n",
    "plot_probability_alive_matrix(bgf)"
   ]
  },
  {
   "cell_type": "code",
   "execution_count": 22,
   "metadata": {},
   "outputs": [
    {
     "data": {
      "text/plain": [
       "<matplotlib.axes._subplots.AxesSubplot at 0x1a22cfbac8>"
      ]
     },
     "execution_count": 22,
     "metadata": {},
     "output_type": "execute_result"
    },
    {
     "data": {
      "image/png": "[encoded data removed]",
      "text/plain": [
       "<Figure size 432x288 with 1 Axes>"
      ]
     },
     "metadata": {
      "needs_background": "light"
     },
     "output_type": "display_data"
    }
   ],
   "source": [
    "#assess how good the model fits; do actual and model data line up\n",
    "from lifetimes.plotting import plot_period_transactions\n",
    "plot_period_transactions(bgf)"
   ]
  },
  {
   "cell_type": "code",
   "execution_count": 21,
   "metadata": {},
   "outputs": [],
   "source": [
    "#predict data for 365 days\n",
    "t = 365\n",
    "data['predicted_purchases_oneyear'] = bgf.predict(t,\n",
    "                                          data['frequency'],\n",
    "                                          data['recency'],\n",
    "                                          data['T'])"
   ]
  },
  {
   "cell_type": "code",
   "execution_count": 22,
   "metadata": {},
   "outputs": [],
   "source": [
    "#predict alive probability\n",
    "data[\"status_alive\"] = bgf.conditional_probability_alive(data['frequency'],\n",
    "                                                         data['recency'],\n",
    "                                                         data['T'])"
   ]
  },
  {
   "cell_type": "code",
   "execution_count": 23,
   "metadata": {},
   "outputs": [
    {
     "data": {
      "text/html": [
       "<div>\n",
       "<style scoped>\n",
       "    .dataframe tbody tr th:only-of-type {\n",
       "        vertical-align: middle;\n",
       "    }\n",
       "\n",
       "    .dataframe tbody tr th {\n",
       "        vertical-align: top;\n",
       "    }\n",
       "\n",
       "    .dataframe thead th {\n",
       "        text-align: right;\n",
       "    }\n",
       "</style>\n",
       "<table border=\"1\" class=\"dataframe\">\n",
       "  <thead>\n",
       "    <tr style=\"text-align: right;\">\n",
       "      <th></th>\n",
       "      <th>frequency</th>\n",
       "      <th>recency</th>\n",
       "      <th>T</th>\n",
       "      <th>monetary_value</th>\n",
       "      <th>predicted_purchases_oneyear</th>\n",
       "      <th>status_alive</th>\n",
       "    </tr>\n",
       "    <tr>\n",
       "      <th>user_id</th>\n",
       "      <th></th>\n",
       "      <th></th>\n",
       "      <th></th>\n",
       "      <th></th>\n",
       "      <th></th>\n",
       "      <th></th>\n",
       "    </tr>\n",
       "  </thead>\n",
       "  <tbody>\n",
       "    <tr>\n",
       "      <th>1</th>\n",
       "      <td>1.0</td>\n",
       "      <td>19.0</td>\n",
       "      <td>235.0</td>\n",
       "      <td>15.96</td>\n",
       "      <td>0.105631</td>\n",
       "      <td>0.099336</td>\n",
       "    </tr>\n",
       "    <tr>\n",
       "      <th>2</th>\n",
       "      <td>0.0</td>\n",
       "      <td>0.0</td>\n",
       "      <td>454.0</td>\n",
       "      <td>0.00</td>\n",
       "      <td>0.045886</td>\n",
       "      <td>1.000000</td>\n",
       "    </tr>\n",
       "    <tr>\n",
       "      <th>3</th>\n",
       "      <td>0.0</td>\n",
       "      <td>0.0</td>\n",
       "      <td>339.0</td>\n",
       "      <td>0.00</td>\n",
       "      <td>0.058171</td>\n",
       "      <td>1.000000</td>\n",
       "    </tr>\n",
       "    <tr>\n",
       "      <th>4</th>\n",
       "      <td>0.0</td>\n",
       "      <td>0.0</td>\n",
       "      <td>42.0</td>\n",
       "      <td>0.00</td>\n",
       "      <td>0.214214</td>\n",
       "      <td>1.000000</td>\n",
       "    </tr>\n",
       "    <tr>\n",
       "      <th>5</th>\n",
       "      <td>1.0</td>\n",
       "      <td>21.0</td>\n",
       "      <td>206.0</td>\n",
       "      <td>26.88</td>\n",
       "      <td>0.137319</td>\n",
       "      <td>0.118424</td>\n",
       "    </tr>\n",
       "  </tbody>\n",
       "</table>\n",
       "</div>"
      ],
      "text/plain": [
       "         frequency  recency      T  monetary_value  \\\n",
       "user_id                                              \n",
       "1              1.0     19.0  235.0           15.96   \n",
       "2              0.0      0.0  454.0            0.00   \n",
       "3              0.0      0.0  339.0            0.00   \n",
       "4              0.0      0.0   42.0            0.00   \n",
       "5              1.0     21.0  206.0           26.88   \n",
       "\n",
       "         predicted_purchases_oneyear  status_alive  \n",
       "user_id                                             \n",
       "1                           0.105631      0.099336  \n",
       "2                           0.045886      1.000000  \n",
       "3                           0.058171      1.000000  \n",
       "4                           0.214214      1.000000  \n",
       "5                           0.137319      0.118424  "
      ]
     },
     "execution_count": 23,
     "metadata": {},
     "output_type": "execute_result"
    }
   ],
   "source": [
    "data.head()"
   ]
  },
  {
   "cell_type": "markdown",
   "metadata": {},
   "source": [
    "<a id='2.3'></a>"
   ]
  },
  {
   "cell_type": "markdown",
   "metadata": {},
   "source": [
    "### 2.3 Model 2 (CLV)"
   ]
  },
  {
   "cell_type": "code",
   "execution_count": 24,
   "metadata": {
    "scrolled": true
   },
   "outputs": [
    {
     "data": {
      "text/html": [
       "<div>\n",
       "<style scoped>\n",
       "    .dataframe tbody tr th:only-of-type {\n",
       "        vertical-align: middle;\n",
       "    }\n",
       "\n",
       "    .dataframe tbody tr th {\n",
       "        vertical-align: top;\n",
       "    }\n",
       "\n",
       "    .dataframe thead th {\n",
       "        text-align: right;\n",
       "    }\n",
       "</style>\n",
       "<table border=\"1\" class=\"dataframe\">\n",
       "  <thead>\n",
       "    <tr style=\"text-align: right;\">\n",
       "      <th></th>\n",
       "      <th>monetary_value</th>\n",
       "      <th>frequency</th>\n",
       "    </tr>\n",
       "  </thead>\n",
       "  <tbody>\n",
       "    <tr>\n",
       "      <th>monetary_value</th>\n",
       "      <td>1.000000</td>\n",
       "      <td>0.513453</td>\n",
       "    </tr>\n",
       "    <tr>\n",
       "      <th>frequency</th>\n",
       "      <td>0.513453</td>\n",
       "      <td>1.000000</td>\n",
       "    </tr>\n",
       "  </tbody>\n",
       "</table>\n",
       "</div>"
      ],
      "text/plain": [
       "                monetary_value  frequency\n",
       "monetary_value        1.000000   0.513453\n",
       "frequency             0.513453   1.000000"
      ]
     },
     "execution_count": 24,
     "metadata": {},
     "output_type": "execute_result"
    }
   ],
   "source": [
    "#check how correlated monetary value and frequency are\n",
    "#to use the model we would want a value close to 0\n",
    "data[['monetary_value', 'frequency']].corr()"
   ]
  },
  {
   "cell_type": "markdown",
   "metadata": {},
   "source": [
    "The correlations are not in fact close to 0, though this might have something to do with the given dataset. I will still run the model, altough expect slightly less important results."
   ]
  },
  {
   "cell_type": "markdown",
   "metadata": {},
   "source": [
    "Note that customers who have only one purchase get a status prediction of one hence to the model. So we have to ignore values of one in further use of this."
   ]
  },
  {
   "cell_type": "code",
   "execution_count": 25,
   "metadata": {},
   "outputs": [],
   "source": [
    "#as the method that is beeing used below requires monetary values greater than zero\n",
    "#a arbitrarily small enough amount will be added to the zeroes \n",
    "def addfk(number):\n",
    "    return number + 0.01 if number == 0 else number"
   ]
  },
  {
   "cell_type": "code",
   "execution_count": 26,
   "metadata": {
    "scrolled": false
   },
   "outputs": [
    {
     "data": {
      "text/plain": [
       "<lifetimes.GammaGammaFitter: fitted with 107459 subjects, p: 2.85, q: 13.41, v: 131.65>"
      ]
     },
     "execution_count": 26,
     "metadata": {},
     "output_type": "execute_result"
    }
   ],
   "source": [
    "#build and fit model to get clv\n",
    "from lifetimes import GammaGammaFitter\n",
    "data[\"monetary_value_plchldr\"] = data[\"monetary_value\"].apply(addfk)\n",
    "returning_customers_summary = data[data['frequency'] > 0]\n",
    " \n",
    "ggf = GammaGammaFitter(penalizer_coef = 0)\n",
    "\n",
    "ggf.fit(returning_customers_summary['frequency'],\n",
    "        returning_customers_summary['monetary_value_plchldr'])\n"
   ]
  },
  {
   "cell_type": "code",
   "execution_count": 27,
   "metadata": {},
   "outputs": [
    {
     "name": "stdout",
     "output_type": "stream",
     "text": [
      "Expected conditional average profit: 30.234878076872228, Average profit: 30.50535815307611\n"
     ]
    }
   ],
   "source": [
    "#print the average predicted profit and average profit\n",
    "print(\"Expected conditional average profit: %s, Average profit: %s\" % (\n",
    "    ggf.conditional_expected_average_profit(data['frequency'],\n",
    "                                            data['monetary_value']).mean(),\n",
    "    data[data['frequency']>0]['monetary_value'].mean()\n",
    "))"
   ]
  },
  {
   "cell_type": "code",
   "execution_count": 28,
   "metadata": {},
   "outputs": [
    {
     "name": "stdout",
     "output_type": "stream",
     "text": [
      "user_id\n",
      "1     27.568351\n",
      "2     30.234303\n",
      "3     30.234303\n",
      "4     30.234303\n",
      "5     29.607834\n",
      "6     30.234303\n",
      "7     30.234303\n",
      "8     30.234303\n",
      "9     30.234303\n",
      "10    30.234303\n",
      "dtype: float64\n"
     ]
    }
   ],
   "source": [
    "#expected average profit by user\n",
    "print(ggf.conditional_expected_average_profit(\n",
    "        data['frequency'],\n",
    "        data['monetary_value']\n",
    "    ).head(10))"
   ]
  },
  {
   "cell_type": "code",
   "execution_count": 29,
   "metadata": {},
   "outputs": [],
   "source": [
    "transaction_spend = ggf.conditional_expected_average_profit(data['frequency'],\n",
    "                                                            data['monetary_value']).mean()"
   ]
  },
  {
   "cell_type": "code",
   "execution_count": 30,
   "metadata": {},
   "outputs": [],
   "source": [
    "df_pred_clv_1 = df_pred_clv_1.join(data[\"predicted_purchases_oneyear\"], on = \"user_id\", how = \"left\")"
   ]
  },
  {
   "cell_type": "code",
   "execution_count": 31,
   "metadata": {},
   "outputs": [],
   "source": [
    "df_pred_clv_1[\"clv\"] = df_pred_clv_1.apply(lambda x: x[\"predicted_purchases_oneyear\"] * transaction_spend, axis = 1)"
   ]
  },
  {
   "cell_type": "code",
   "execution_count": 32,
   "metadata": {},
   "outputs": [],
   "source": [
    "df_pred_clv_1[\"predicted_purchases_oneyear\"] = df_pred_clv_1[\"predicted_purchases_oneyear\"].round(2)"
   ]
  },
  {
   "cell_type": "code",
   "execution_count": 33,
   "metadata": {},
   "outputs": [],
   "source": [
    "df_pred_clv_1[\"clv\"] = df_pred_clv_1[\"clv\"].round(2)"
   ]
  },
  {
   "cell_type": "code",
   "execution_count": 34,
   "metadata": {},
   "outputs": [
    {
     "data": {
      "text/html": [
       "<div>\n",
       "<style scoped>\n",
       "    .dataframe tbody tr th:only-of-type {\n",
       "        vertical-align: middle;\n",
       "    }\n",
       "\n",
       "    .dataframe tbody tr th {\n",
       "        vertical-align: top;\n",
       "    }\n",
       "\n",
       "    .dataframe thead th {\n",
       "        text-align: right;\n",
       "    }\n",
       "</style>\n",
       "<table border=\"1\" class=\"dataframe\">\n",
       "  <thead>\n",
       "    <tr style=\"text-align: right;\">\n",
       "      <th></th>\n",
       "      <th>user_id</th>\n",
       "      <th>revenue</th>\n",
       "      <th>women_article</th>\n",
       "      <th>men_article</th>\n",
       "      <th>kids_article</th>\n",
       "      <th>homeandliving_article</th>\n",
       "      <th>avg_shop_cart</th>\n",
       "      <th>total_purchases</th>\n",
       "      <th>avg_cart_itemcount</th>\n",
       "      <th>monday</th>\n",
       "      <th>times_bought_monday</th>\n",
       "      <th>tuesday</th>\n",
       "      <th>times_bought_tuesday</th>\n",
       "      <th>wednesday</th>\n",
       "      <th>times_bought_wednesday</th>\n",
       "      <th>thursday</th>\n",
       "      <th>times_bought_thursday</th>\n",
       "      <th>friday</th>\n",
       "      <th>times_bought_friday</th>\n",
       "      <th>saturday</th>\n",
       "      <th>times_bought_saturday</th>\n",
       "      <th>sunday</th>\n",
       "      <th>times_bought_sunday</th>\n",
       "      <th>user_type</th>\n",
       "      <th>country</th>\n",
       "      <th>region</th>\n",
       "      <th>city</th>\n",
       "      <th>device_category</th>\n",
       "      <th>device_browser</th>\n",
       "      <th>device_os</th>\n",
       "      <th>country_slim</th>\n",
       "      <th>cluster</th>\n",
       "      <th>recency</th>\n",
       "      <th>frequency</th>\n",
       "      <th>score</th>\n",
       "      <th>value_segment</th>\n",
       "      <th>predicted_purchases_oneyear</th>\n",
       "      <th>clv</th>\n",
       "    </tr>\n",
       "  </thead>\n",
       "  <tbody>\n",
       "    <tr>\n",
       "      <th>0</th>\n",
       "      <td>1</td>\n",
       "      <td>147.01</td>\n",
       "      <td>6</td>\n",
       "      <td>1</td>\n",
       "      <td>0</td>\n",
       "      <td>0</td>\n",
       "      <td>73.505</td>\n",
       "      <td>2</td>\n",
       "      <td>3.5</td>\n",
       "      <td>0.0</td>\n",
       "      <td>0.0</td>\n",
       "      <td>0.0</td>\n",
       "      <td>0.0</td>\n",
       "      <td>0.0</td>\n",
       "      <td>0.0</td>\n",
       "      <td>0.0</td>\n",
       "      <td>0.0</td>\n",
       "      <td>1.0</td>\n",
       "      <td>1.0</td>\n",
       "      <td>0.0</td>\n",
       "      <td>0.0</td>\n",
       "      <td>1.0</td>\n",
       "      <td>1.0</td>\n",
       "      <td>first</td>\n",
       "      <td>Germany</td>\n",
       "      <td>Lower Saxony</td>\n",
       "      <td>Varel</td>\n",
       "      <td>desktop</td>\n",
       "      <td>Firefox</td>\n",
       "      <td>Windows</td>\n",
       "      <td>Germany</td>\n",
       "      <td>0</td>\n",
       "      <td>216</td>\n",
       "      <td>2</td>\n",
       "      <td>1</td>\n",
       "      <td>low</td>\n",
       "      <td>0.11</td>\n",
       "      <td>3.19</td>\n",
       "    </tr>\n",
       "    <tr>\n",
       "      <th>1</th>\n",
       "      <td>3</td>\n",
       "      <td>84.11</td>\n",
       "      <td>0</td>\n",
       "      <td>1</td>\n",
       "      <td>0</td>\n",
       "      <td>0</td>\n",
       "      <td>84.110</td>\n",
       "      <td>1</td>\n",
       "      <td>1.0</td>\n",
       "      <td>1.0</td>\n",
       "      <td>1.0</td>\n",
       "      <td>0.0</td>\n",
       "      <td>0.0</td>\n",
       "      <td>0.0</td>\n",
       "      <td>0.0</td>\n",
       "      <td>0.0</td>\n",
       "      <td>0.0</td>\n",
       "      <td>0.0</td>\n",
       "      <td>0.0</td>\n",
       "      <td>0.0</td>\n",
       "      <td>0.0</td>\n",
       "      <td>0.0</td>\n",
       "      <td>0.0</td>\n",
       "      <td>first</td>\n",
       "      <td>Germany</td>\n",
       "      <td>Lower Saxony</td>\n",
       "      <td>Buchholz in der Nordheide</td>\n",
       "      <td>tablet</td>\n",
       "      <td>Safari</td>\n",
       "      <td>iOS</td>\n",
       "      <td>Germany</td>\n",
       "      <td>0</td>\n",
       "      <td>339</td>\n",
       "      <td>1</td>\n",
       "      <td>0</td>\n",
       "      <td>low</td>\n",
       "      <td>0.06</td>\n",
       "      <td>1.76</td>\n",
       "    </tr>\n",
       "    <tr>\n",
       "      <th>2</th>\n",
       "      <td>4</td>\n",
       "      <td>62.32</td>\n",
       "      <td>1</td>\n",
       "      <td>4</td>\n",
       "      <td>0</td>\n",
       "      <td>0</td>\n",
       "      <td>62.320</td>\n",
       "      <td>1</td>\n",
       "      <td>4.0</td>\n",
       "      <td>0.0</td>\n",
       "      <td>0.0</td>\n",
       "      <td>0.0</td>\n",
       "      <td>0.0</td>\n",
       "      <td>0.0</td>\n",
       "      <td>0.0</td>\n",
       "      <td>1.0</td>\n",
       "      <td>1.0</td>\n",
       "      <td>0.0</td>\n",
       "      <td>0.0</td>\n",
       "      <td>0.0</td>\n",
       "      <td>0.0</td>\n",
       "      <td>0.0</td>\n",
       "      <td>0.0</td>\n",
       "      <td>first</td>\n",
       "      <td>Germany</td>\n",
       "      <td>Berlin</td>\n",
       "      <td>Berlin</td>\n",
       "      <td>desktop</td>\n",
       "      <td>Chrome</td>\n",
       "      <td>Windows</td>\n",
       "      <td>Germany</td>\n",
       "      <td>0</td>\n",
       "      <td>42</td>\n",
       "      <td>1</td>\n",
       "      <td>2</td>\n",
       "      <td>low</td>\n",
       "      <td>0.21</td>\n",
       "      <td>6.48</td>\n",
       "    </tr>\n",
       "    <tr>\n",
       "      <th>3</th>\n",
       "      <td>5</td>\n",
       "      <td>89.89</td>\n",
       "      <td>0</td>\n",
       "      <td>0</td>\n",
       "      <td>4</td>\n",
       "      <td>0</td>\n",
       "      <td>44.945</td>\n",
       "      <td>2</td>\n",
       "      <td>2.0</td>\n",
       "      <td>2.0</td>\n",
       "      <td>1.0</td>\n",
       "      <td>0.0</td>\n",
       "      <td>0.0</td>\n",
       "      <td>0.0</td>\n",
       "      <td>0.0</td>\n",
       "      <td>0.0</td>\n",
       "      <td>0.0</td>\n",
       "      <td>0.0</td>\n",
       "      <td>0.0</td>\n",
       "      <td>0.0</td>\n",
       "      <td>0.0</td>\n",
       "      <td>0.0</td>\n",
       "      <td>0.0</td>\n",
       "      <td>first</td>\n",
       "      <td>Germany</td>\n",
       "      <td>Schleswig-Holstein</td>\n",
       "      <td>Neumunster</td>\n",
       "      <td>tablet</td>\n",
       "      <td>Safari</td>\n",
       "      <td>iOS</td>\n",
       "      <td>Germany</td>\n",
       "      <td>0</td>\n",
       "      <td>185</td>\n",
       "      <td>2</td>\n",
       "      <td>1</td>\n",
       "      <td>low</td>\n",
       "      <td>0.14</td>\n",
       "      <td>4.15</td>\n",
       "    </tr>\n",
       "    <tr>\n",
       "      <th>4</th>\n",
       "      <td>6</td>\n",
       "      <td>25.20</td>\n",
       "      <td>1</td>\n",
       "      <td>0</td>\n",
       "      <td>0</td>\n",
       "      <td>0</td>\n",
       "      <td>25.200</td>\n",
       "      <td>1</td>\n",
       "      <td>1.0</td>\n",
       "      <td>0.0</td>\n",
       "      <td>0.0</td>\n",
       "      <td>0.0</td>\n",
       "      <td>0.0</td>\n",
       "      <td>1.0</td>\n",
       "      <td>1.0</td>\n",
       "      <td>0.0</td>\n",
       "      <td>0.0</td>\n",
       "      <td>0.0</td>\n",
       "      <td>0.0</td>\n",
       "      <td>0.0</td>\n",
       "      <td>0.0</td>\n",
       "      <td>0.0</td>\n",
       "      <td>0.0</td>\n",
       "      <td>first</td>\n",
       "      <td>Germany</td>\n",
       "      <td>North Rhine-Westphalia</td>\n",
       "      <td>Meinerzhagen</td>\n",
       "      <td>mobile</td>\n",
       "      <td>Chrome</td>\n",
       "      <td>Android</td>\n",
       "      <td>Germany</td>\n",
       "      <td>0</td>\n",
       "      <td>71</td>\n",
       "      <td>1</td>\n",
       "      <td>2</td>\n",
       "      <td>low</td>\n",
       "      <td>0.17</td>\n",
       "      <td>5.01</td>\n",
       "    </tr>\n",
       "    <tr>\n",
       "      <th>5</th>\n",
       "      <td>7</td>\n",
       "      <td>117.63</td>\n",
       "      <td>2</td>\n",
       "      <td>0</td>\n",
       "      <td>0</td>\n",
       "      <td>0</td>\n",
       "      <td>117.630</td>\n",
       "      <td>1</td>\n",
       "      <td>2.0</td>\n",
       "      <td>0.0</td>\n",
       "      <td>0.0</td>\n",
       "      <td>0.0</td>\n",
       "      <td>0.0</td>\n",
       "      <td>1.0</td>\n",
       "      <td>1.0</td>\n",
       "      <td>0.0</td>\n",
       "      <td>0.0</td>\n",
       "      <td>0.0</td>\n",
       "      <td>0.0</td>\n",
       "      <td>0.0</td>\n",
       "      <td>0.0</td>\n",
       "      <td>0.0</td>\n",
       "      <td>0.0</td>\n",
       "      <td>first</td>\n",
       "      <td>Germany</td>\n",
       "      <td>Bavaria</td>\n",
       "      <td>Munich</td>\n",
       "      <td>mobile</td>\n",
       "      <td>Samsung Internet</td>\n",
       "      <td>Android</td>\n",
       "      <td>Germany</td>\n",
       "      <td>0</td>\n",
       "      <td>169</td>\n",
       "      <td>1</td>\n",
       "      <td>2</td>\n",
       "      <td>low</td>\n",
       "      <td>0.10</td>\n",
       "      <td>2.95</td>\n",
       "    </tr>\n",
       "    <tr>\n",
       "      <th>6</th>\n",
       "      <td>8</td>\n",
       "      <td>22.98</td>\n",
       "      <td>0</td>\n",
       "      <td>1</td>\n",
       "      <td>0</td>\n",
       "      <td>0</td>\n",
       "      <td>22.980</td>\n",
       "      <td>1</td>\n",
       "      <td>1.0</td>\n",
       "      <td>0.0</td>\n",
       "      <td>0.0</td>\n",
       "      <td>0.0</td>\n",
       "      <td>0.0</td>\n",
       "      <td>0.0</td>\n",
       "      <td>0.0</td>\n",
       "      <td>1.0</td>\n",
       "      <td>1.0</td>\n",
       "      <td>0.0</td>\n",
       "      <td>0.0</td>\n",
       "      <td>0.0</td>\n",
       "      <td>0.0</td>\n",
       "      <td>0.0</td>\n",
       "      <td>0.0</td>\n",
       "      <td>first</td>\n",
       "      <td>Germany</td>\n",
       "      <td>North Rhine-Westphalia</td>\n",
       "      <td>Bochum</td>\n",
       "      <td>mobile</td>\n",
       "      <td>Chrome</td>\n",
       "      <td>Android</td>\n",
       "      <td>Germany</td>\n",
       "      <td>0</td>\n",
       "      <td>63</td>\n",
       "      <td>1</td>\n",
       "      <td>2</td>\n",
       "      <td>low</td>\n",
       "      <td>0.18</td>\n",
       "      <td>5.34</td>\n",
       "    </tr>\n",
       "    <tr>\n",
       "      <th>7</th>\n",
       "      <td>9</td>\n",
       "      <td>39.45</td>\n",
       "      <td>5</td>\n",
       "      <td>0</td>\n",
       "      <td>0</td>\n",
       "      <td>0</td>\n",
       "      <td>39.450</td>\n",
       "      <td>1</td>\n",
       "      <td>5.0</td>\n",
       "      <td>0.0</td>\n",
       "      <td>0.0</td>\n",
       "      <td>0.0</td>\n",
       "      <td>0.0</td>\n",
       "      <td>0.0</td>\n",
       "      <td>0.0</td>\n",
       "      <td>1.0</td>\n",
       "      <td>1.0</td>\n",
       "      <td>0.0</td>\n",
       "      <td>0.0</td>\n",
       "      <td>0.0</td>\n",
       "      <td>0.0</td>\n",
       "      <td>0.0</td>\n",
       "      <td>0.0</td>\n",
       "      <td>first</td>\n",
       "      <td>Germany</td>\n",
       "      <td>Berlin</td>\n",
       "      <td>Berlin</td>\n",
       "      <td>mobile</td>\n",
       "      <td>Safari</td>\n",
       "      <td>iOS</td>\n",
       "      <td>Germany</td>\n",
       "      <td>0</td>\n",
       "      <td>231</td>\n",
       "      <td>1</td>\n",
       "      <td>1</td>\n",
       "      <td>low</td>\n",
       "      <td>0.08</td>\n",
       "      <td>2.36</td>\n",
       "    </tr>\n",
       "    <tr>\n",
       "      <th>8</th>\n",
       "      <td>11</td>\n",
       "      <td>84.02</td>\n",
       "      <td>2</td>\n",
       "      <td>0</td>\n",
       "      <td>0</td>\n",
       "      <td>0</td>\n",
       "      <td>84.020</td>\n",
       "      <td>1</td>\n",
       "      <td>2.0</td>\n",
       "      <td>0.0</td>\n",
       "      <td>0.0</td>\n",
       "      <td>0.0</td>\n",
       "      <td>0.0</td>\n",
       "      <td>0.0</td>\n",
       "      <td>0.0</td>\n",
       "      <td>0.0</td>\n",
       "      <td>0.0</td>\n",
       "      <td>1.0</td>\n",
       "      <td>1.0</td>\n",
       "      <td>0.0</td>\n",
       "      <td>0.0</td>\n",
       "      <td>0.0</td>\n",
       "      <td>0.0</td>\n",
       "      <td>first</td>\n",
       "      <td>Germany</td>\n",
       "      <td>Bavaria</td>\n",
       "      <td>Augsburg</td>\n",
       "      <td>desktop</td>\n",
       "      <td>Firefox</td>\n",
       "      <td>Windows</td>\n",
       "      <td>Germany</td>\n",
       "      <td>0</td>\n",
       "      <td>251</td>\n",
       "      <td>1</td>\n",
       "      <td>1</td>\n",
       "      <td>low</td>\n",
       "      <td>0.07</td>\n",
       "      <td>2.22</td>\n",
       "    </tr>\n",
       "    <tr>\n",
       "      <th>9</th>\n",
       "      <td>12</td>\n",
       "      <td>62.48</td>\n",
       "      <td>2</td>\n",
       "      <td>0</td>\n",
       "      <td>0</td>\n",
       "      <td>0</td>\n",
       "      <td>62.480</td>\n",
       "      <td>1</td>\n",
       "      <td>2.0</td>\n",
       "      <td>0.0</td>\n",
       "      <td>0.0</td>\n",
       "      <td>0.0</td>\n",
       "      <td>0.0</td>\n",
       "      <td>1.0</td>\n",
       "      <td>1.0</td>\n",
       "      <td>0.0</td>\n",
       "      <td>0.0</td>\n",
       "      <td>0.0</td>\n",
       "      <td>0.0</td>\n",
       "      <td>0.0</td>\n",
       "      <td>0.0</td>\n",
       "      <td>0.0</td>\n",
       "      <td>0.0</td>\n",
       "      <td>first</td>\n",
       "      <td>Austria</td>\n",
       "      <td>Tyrol</td>\n",
       "      <td>Innsbruck</td>\n",
       "      <td>mobile</td>\n",
       "      <td>Chrome</td>\n",
       "      <td>Android</td>\n",
       "      <td>Austria</td>\n",
       "      <td>0</td>\n",
       "      <td>22</td>\n",
       "      <td>1</td>\n",
       "      <td>2</td>\n",
       "      <td>low</td>\n",
       "      <td>0.27</td>\n",
       "      <td>8.29</td>\n",
       "    </tr>\n",
       "  </tbody>\n",
       "</table>\n",
       "</div>"
      ],
      "text/plain": [
       "   user_id  revenue  women_article  men_article  kids_article  \\\n",
       "0        1   147.01              6            1             0   \n",
       "1        3    84.11              0            1             0   \n",
       "2        4    62.32              1            4             0   \n",
       "3        5    89.89              0            0             4   \n",
       "4        6    25.20              1            0             0   \n",
       "5        7   117.63              2            0             0   \n",
       "6        8    22.98              0            1             0   \n",
       "7        9    39.45              5            0             0   \n",
       "8       11    84.02              2            0             0   \n",
       "9       12    62.48              2            0             0   \n",
       "\n",
       "   homeandliving_article  avg_shop_cart  total_purchases  avg_cart_itemcount  \\\n",
       "0                      0         73.505                2                 3.5   \n",
       "1                      0         84.110                1                 1.0   \n",
       "2                      0         62.320                1                 4.0   \n",
       "3                      0         44.945                2                 2.0   \n",
       "4                      0         25.200                1                 1.0   \n",
       "5                      0        117.630                1                 2.0   \n",
       "6                      0         22.980                1                 1.0   \n",
       "7                      0         39.450                1                 5.0   \n",
       "8                      0         84.020                1                 2.0   \n",
       "9                      0         62.480                1                 2.0   \n",
       "\n",
       "   monday  times_bought_monday  tuesday  times_bought_tuesday  wednesday  \\\n",
       "0     0.0                  0.0      0.0                   0.0        0.0   \n",
       "1     1.0                  1.0      0.0                   0.0        0.0   \n",
       "2     0.0                  0.0      0.0                   0.0        0.0   \n",
       "3     2.0                  1.0      0.0                   0.0        0.0   \n",
       "4     0.0                  0.0      0.0                   0.0        1.0   \n",
       "5     0.0                  0.0      0.0                   0.0        1.0   \n",
       "6     0.0                  0.0      0.0                   0.0        0.0   \n",
       "7     0.0                  0.0      0.0                   0.0        0.0   \n",
       "8     0.0                  0.0      0.0                   0.0        0.0   \n",
       "9     0.0                  0.0      0.0                   0.0        1.0   \n",
       "\n",
       "   times_bought_wednesday  thursday  times_bought_thursday  friday  \\\n",
       "0                     0.0       0.0                    0.0     1.0   \n",
       "1                     0.0       0.0                    0.0     0.0   \n",
       "2                     0.0       1.0                    1.0     0.0   \n",
       "3                     0.0       0.0                    0.0     0.0   \n",
       "4                     1.0       0.0                    0.0     0.0   \n",
       "5                     1.0       0.0                    0.0     0.0   \n",
       "6                     0.0       1.0                    1.0     0.0   \n",
       "7                     0.0       1.0                    1.0     0.0   \n",
       "8                     0.0       0.0                    0.0     1.0   \n",
       "9                     1.0       0.0                    0.0     0.0   \n",
       "\n",
       "   times_bought_friday  saturday  times_bought_saturday  sunday  \\\n",
       "0                  1.0       0.0                    0.0     1.0   \n",
       "1                  0.0       0.0                    0.0     0.0   \n",
       "2                  0.0       0.0                    0.0     0.0   \n",
       "3                  0.0       0.0                    0.0     0.0   \n",
       "4                  0.0       0.0                    0.0     0.0   \n",
       "5                  0.0       0.0                    0.0     0.0   \n",
       "6                  0.0       0.0                    0.0     0.0   \n",
       "7                  0.0       0.0                    0.0     0.0   \n",
       "8                  1.0       0.0                    0.0     0.0   \n",
       "9                  0.0       0.0                    0.0     0.0   \n",
       "\n",
       "   times_bought_sunday user_type  country                  region  \\\n",
       "0                  1.0     first  Germany            Lower Saxony   \n",
       "1                  0.0     first  Germany            Lower Saxony   \n",
       "2                  0.0     first  Germany                  Berlin   \n",
       "3                  0.0     first  Germany      Schleswig-Holstein   \n",
       "4                  0.0     first  Germany  North Rhine-Westphalia   \n",
       "5                  0.0     first  Germany                 Bavaria   \n",
       "6                  0.0     first  Germany  North Rhine-Westphalia   \n",
       "7                  0.0     first  Germany                  Berlin   \n",
       "8                  0.0     first  Germany                 Bavaria   \n",
       "9                  0.0     first  Austria                   Tyrol   \n",
       "\n",
       "                        city device_category    device_browser device_os  \\\n",
       "0                      Varel         desktop           Firefox   Windows   \n",
       "1  Buchholz in der Nordheide          tablet            Safari       iOS   \n",
       "2                     Berlin         desktop            Chrome   Windows   \n",
       "3                 Neumunster          tablet            Safari       iOS   \n",
       "4               Meinerzhagen          mobile            Chrome   Android   \n",
       "5                     Munich          mobile  Samsung Internet   Android   \n",
       "6                     Bochum          mobile            Chrome   Android   \n",
       "7                     Berlin          mobile            Safari       iOS   \n",
       "8                   Augsburg         desktop           Firefox   Windows   \n",
       "9                  Innsbruck          mobile            Chrome   Android   \n",
       "\n",
       "  country_slim  cluster  recency  frequency  score value_segment  \\\n",
       "0      Germany        0      216          2      1           low   \n",
       "1      Germany        0      339          1      0           low   \n",
       "2      Germany        0       42          1      2           low   \n",
       "3      Germany        0      185          2      1           low   \n",
       "4      Germany        0       71          1      2           low   \n",
       "5      Germany        0      169          1      2           low   \n",
       "6      Germany        0       63          1      2           low   \n",
       "7      Germany        0      231          1      1           low   \n",
       "8      Germany        0      251          1      1           low   \n",
       "9      Austria        0       22          1      2           low   \n",
       "\n",
       "   predicted_purchases_oneyear   clv  \n",
       "0                         0.11  3.19  \n",
       "1                         0.06  1.76  \n",
       "2                         0.21  6.48  \n",
       "3                         0.14  4.15  \n",
       "4                         0.17  5.01  \n",
       "5                         0.10  2.95  \n",
       "6                         0.18  5.34  \n",
       "7                         0.08  2.36  \n",
       "8                         0.07  2.22  \n",
       "9                         0.27  8.29  "
      ]
     },
     "execution_count": 34,
     "metadata": {},
     "output_type": "execute_result"
    }
   ],
   "source": [
    "df_pred_clv_1.head(10)"
   ]
  },
  {
   "cell_type": "code",
   "execution_count": 35,
   "metadata": {
    "scrolled": true
   },
   "outputs": [
    {
     "name": "stdout",
     "output_type": "stream",
     "text": [
      "user_id\n",
      "1     2.724110\n",
      "2     1.290089\n",
      "3     1.637466\n",
      "4     6.100222\n",
      "5     3.806784\n",
      "6     4.708873\n",
      "7     2.754294\n",
      "8     5.017024\n",
      "9     2.200626\n",
      "10    1.645207\n",
      "Name: clv, dtype: float64\n"
     ]
    }
   ],
   "source": [
    "#predict clv with DCF method\n",
    "print(ggf.customer_lifetime_value(\n",
    "    bgf, #the model to use to predict the number of future transactions\n",
    "    data['frequency'],\n",
    "    data['recency'],\n",
    "    data['T'],\n",
    "    data['monetary_value'],\n",
    "    time=12, # months\n",
    "    discount_rate=0.01 # monthly discount rate ~ 12.7% annually\n",
    ").head(10))"
   ]
  },
  {
   "cell_type": "code",
   "execution_count": 36,
   "metadata": {},
   "outputs": [],
   "source": [
    "df_pred_clv_2 = df_pred_clv_2.join(data[\"predicted_purchases_oneyear\"], on = \"user_id\", how = \"left\")"
   ]
  },
  {
   "cell_type": "code",
   "execution_count": 37,
   "metadata": {},
   "outputs": [],
   "source": [
    "#save the above in the second dataframe\n",
    "df_pred_clv_2 = df_pred_clv_2.join(ggf.customer_lifetime_value(bgf,\n",
    "                                                               data['frequency'],\n",
    "                                                               data['recency'],\n",
    "                                                               data['T'],\n",
    "                                                               data['monetary_value'],\n",
    "                                                               time=12,\n",
    "                                                               discount_rate=0.01 ),\n",
    "                                   on = \"user_id\", how = \"left\")"
   ]
  },
  {
   "cell_type": "code",
   "execution_count": 38,
   "metadata": {},
   "outputs": [],
   "source": [
    "df_pred_clv_2[\"predicted_purchases_oneyear\"] = df_pred_clv_2[\"predicted_purchases_oneyear\"].round(2)\n",
    "df_pred_clv_2[\"clv\"] = df_pred_clv_2[\"clv\"].round(2)"
   ]
  },
  {
   "cell_type": "code",
   "execution_count": 39,
   "metadata": {},
   "outputs": [
    {
     "data": {
      "text/html": [
       "<div>\n",
       "<style scoped>\n",
       "    .dataframe tbody tr th:only-of-type {\n",
       "        vertical-align: middle;\n",
       "    }\n",
       "\n",
       "    .dataframe tbody tr th {\n",
       "        vertical-align: top;\n",
       "    }\n",
       "\n",
       "    .dataframe thead th {\n",
       "        text-align: right;\n",
       "    }\n",
       "</style>\n",
       "<table border=\"1\" class=\"dataframe\">\n",
       "  <thead>\n",
       "    <tr style=\"text-align: right;\">\n",
       "      <th></th>\n",
       "      <th>user_id</th>\n",
       "      <th>revenue</th>\n",
       "      <th>women_article</th>\n",
       "      <th>men_article</th>\n",
       "      <th>kids_article</th>\n",
       "      <th>homeandliving_article</th>\n",
       "      <th>avg_shop_cart</th>\n",
       "      <th>total_purchases</th>\n",
       "      <th>avg_cart_itemcount</th>\n",
       "      <th>monday</th>\n",
       "      <th>times_bought_monday</th>\n",
       "      <th>tuesday</th>\n",
       "      <th>times_bought_tuesday</th>\n",
       "      <th>wednesday</th>\n",
       "      <th>times_bought_wednesday</th>\n",
       "      <th>thursday</th>\n",
       "      <th>times_bought_thursday</th>\n",
       "      <th>friday</th>\n",
       "      <th>times_bought_friday</th>\n",
       "      <th>saturday</th>\n",
       "      <th>times_bought_saturday</th>\n",
       "      <th>sunday</th>\n",
       "      <th>times_bought_sunday</th>\n",
       "      <th>user_type</th>\n",
       "      <th>country</th>\n",
       "      <th>region</th>\n",
       "      <th>city</th>\n",
       "      <th>device_category</th>\n",
       "      <th>device_browser</th>\n",
       "      <th>device_os</th>\n",
       "      <th>country_slim</th>\n",
       "      <th>cluster</th>\n",
       "      <th>recency</th>\n",
       "      <th>frequency</th>\n",
       "      <th>score</th>\n",
       "      <th>value_segment</th>\n",
       "      <th>predicted_purchases_oneyear</th>\n",
       "      <th>clv</th>\n",
       "    </tr>\n",
       "  </thead>\n",
       "  <tbody>\n",
       "    <tr>\n",
       "      <th>0</th>\n",
       "      <td>1</td>\n",
       "      <td>147.01</td>\n",
       "      <td>6</td>\n",
       "      <td>1</td>\n",
       "      <td>0</td>\n",
       "      <td>0</td>\n",
       "      <td>73.505</td>\n",
       "      <td>2</td>\n",
       "      <td>3.5</td>\n",
       "      <td>0.0</td>\n",
       "      <td>0.0</td>\n",
       "      <td>0.0</td>\n",
       "      <td>0.0</td>\n",
       "      <td>0.0</td>\n",
       "      <td>0.0</td>\n",
       "      <td>0.0</td>\n",
       "      <td>0.0</td>\n",
       "      <td>1.0</td>\n",
       "      <td>1.0</td>\n",
       "      <td>0.0</td>\n",
       "      <td>0.0</td>\n",
       "      <td>1.0</td>\n",
       "      <td>1.0</td>\n",
       "      <td>first</td>\n",
       "      <td>Germany</td>\n",
       "      <td>Lower Saxony</td>\n",
       "      <td>Varel</td>\n",
       "      <td>desktop</td>\n",
       "      <td>Firefox</td>\n",
       "      <td>Windows</td>\n",
       "      <td>Germany</td>\n",
       "      <td>0</td>\n",
       "      <td>216</td>\n",
       "      <td>2</td>\n",
       "      <td>1</td>\n",
       "      <td>low</td>\n",
       "      <td>0.11</td>\n",
       "      <td>2.72</td>\n",
       "    </tr>\n",
       "    <tr>\n",
       "      <th>1</th>\n",
       "      <td>3</td>\n",
       "      <td>84.11</td>\n",
       "      <td>0</td>\n",
       "      <td>1</td>\n",
       "      <td>0</td>\n",
       "      <td>0</td>\n",
       "      <td>84.110</td>\n",
       "      <td>1</td>\n",
       "      <td>1.0</td>\n",
       "      <td>1.0</td>\n",
       "      <td>1.0</td>\n",
       "      <td>0.0</td>\n",
       "      <td>0.0</td>\n",
       "      <td>0.0</td>\n",
       "      <td>0.0</td>\n",
       "      <td>0.0</td>\n",
       "      <td>0.0</td>\n",
       "      <td>0.0</td>\n",
       "      <td>0.0</td>\n",
       "      <td>0.0</td>\n",
       "      <td>0.0</td>\n",
       "      <td>0.0</td>\n",
       "      <td>0.0</td>\n",
       "      <td>first</td>\n",
       "      <td>Germany</td>\n",
       "      <td>Lower Saxony</td>\n",
       "      <td>Buchholz in der Nordheide</td>\n",
       "      <td>tablet</td>\n",
       "      <td>Safari</td>\n",
       "      <td>iOS</td>\n",
       "      <td>Germany</td>\n",
       "      <td>0</td>\n",
       "      <td>339</td>\n",
       "      <td>1</td>\n",
       "      <td>0</td>\n",
       "      <td>low</td>\n",
       "      <td>0.06</td>\n",
       "      <td>1.64</td>\n",
       "    </tr>\n",
       "    <tr>\n",
       "      <th>2</th>\n",
       "      <td>4</td>\n",
       "      <td>62.32</td>\n",
       "      <td>1</td>\n",
       "      <td>4</td>\n",
       "      <td>0</td>\n",
       "      <td>0</td>\n",
       "      <td>62.320</td>\n",
       "      <td>1</td>\n",
       "      <td>4.0</td>\n",
       "      <td>0.0</td>\n",
       "      <td>0.0</td>\n",
       "      <td>0.0</td>\n",
       "      <td>0.0</td>\n",
       "      <td>0.0</td>\n",
       "      <td>0.0</td>\n",
       "      <td>1.0</td>\n",
       "      <td>1.0</td>\n",
       "      <td>0.0</td>\n",
       "      <td>0.0</td>\n",
       "      <td>0.0</td>\n",
       "      <td>0.0</td>\n",
       "      <td>0.0</td>\n",
       "      <td>0.0</td>\n",
       "      <td>first</td>\n",
       "      <td>Germany</td>\n",
       "      <td>Berlin</td>\n",
       "      <td>Berlin</td>\n",
       "      <td>desktop</td>\n",
       "      <td>Chrome</td>\n",
       "      <td>Windows</td>\n",
       "      <td>Germany</td>\n",
       "      <td>0</td>\n",
       "      <td>42</td>\n",
       "      <td>1</td>\n",
       "      <td>2</td>\n",
       "      <td>low</td>\n",
       "      <td>0.21</td>\n",
       "      <td>6.10</td>\n",
       "    </tr>\n",
       "    <tr>\n",
       "      <th>3</th>\n",
       "      <td>5</td>\n",
       "      <td>89.89</td>\n",
       "      <td>0</td>\n",
       "      <td>0</td>\n",
       "      <td>4</td>\n",
       "      <td>0</td>\n",
       "      <td>44.945</td>\n",
       "      <td>2</td>\n",
       "      <td>2.0</td>\n",
       "      <td>2.0</td>\n",
       "      <td>1.0</td>\n",
       "      <td>0.0</td>\n",
       "      <td>0.0</td>\n",
       "      <td>0.0</td>\n",
       "      <td>0.0</td>\n",
       "      <td>0.0</td>\n",
       "      <td>0.0</td>\n",
       "      <td>0.0</td>\n",
       "      <td>0.0</td>\n",
       "      <td>0.0</td>\n",
       "      <td>0.0</td>\n",
       "      <td>0.0</td>\n",
       "      <td>0.0</td>\n",
       "      <td>first</td>\n",
       "      <td>Germany</td>\n",
       "      <td>Schleswig-Holstein</td>\n",
       "      <td>Neumunster</td>\n",
       "      <td>tablet</td>\n",
       "      <td>Safari</td>\n",
       "      <td>iOS</td>\n",
       "      <td>Germany</td>\n",
       "      <td>0</td>\n",
       "      <td>185</td>\n",
       "      <td>2</td>\n",
       "      <td>1</td>\n",
       "      <td>low</td>\n",
       "      <td>0.14</td>\n",
       "      <td>3.81</td>\n",
       "    </tr>\n",
       "    <tr>\n",
       "      <th>4</th>\n",
       "      <td>6</td>\n",
       "      <td>25.20</td>\n",
       "      <td>1</td>\n",
       "      <td>0</td>\n",
       "      <td>0</td>\n",
       "      <td>0</td>\n",
       "      <td>25.200</td>\n",
       "      <td>1</td>\n",
       "      <td>1.0</td>\n",
       "      <td>0.0</td>\n",
       "      <td>0.0</td>\n",
       "      <td>0.0</td>\n",
       "      <td>0.0</td>\n",
       "      <td>1.0</td>\n",
       "      <td>1.0</td>\n",
       "      <td>0.0</td>\n",
       "      <td>0.0</td>\n",
       "      <td>0.0</td>\n",
       "      <td>0.0</td>\n",
       "      <td>0.0</td>\n",
       "      <td>0.0</td>\n",
       "      <td>0.0</td>\n",
       "      <td>0.0</td>\n",
       "      <td>first</td>\n",
       "      <td>Germany</td>\n",
       "      <td>North Rhine-Westphalia</td>\n",
       "      <td>Meinerzhagen</td>\n",
       "      <td>mobile</td>\n",
       "      <td>Chrome</td>\n",
       "      <td>Android</td>\n",
       "      <td>Germany</td>\n",
       "      <td>0</td>\n",
       "      <td>71</td>\n",
       "      <td>1</td>\n",
       "      <td>2</td>\n",
       "      <td>low</td>\n",
       "      <td>0.17</td>\n",
       "      <td>4.71</td>\n",
       "    </tr>\n",
       "  </tbody>\n",
       "</table>\n",
       "</div>"
      ],
      "text/plain": [
       "   user_id  revenue  women_article  men_article  kids_article  \\\n",
       "0        1   147.01              6            1             0   \n",
       "1        3    84.11              0            1             0   \n",
       "2        4    62.32              1            4             0   \n",
       "3        5    89.89              0            0             4   \n",
       "4        6    25.20              1            0             0   \n",
       "\n",
       "   homeandliving_article  avg_shop_cart  total_purchases  avg_cart_itemcount  \\\n",
       "0                      0         73.505                2                 3.5   \n",
       "1                      0         84.110                1                 1.0   \n",
       "2                      0         62.320                1                 4.0   \n",
       "3                      0         44.945                2                 2.0   \n",
       "4                      0         25.200                1                 1.0   \n",
       "\n",
       "   monday  times_bought_monday  tuesday  times_bought_tuesday  wednesday  \\\n",
       "0     0.0                  0.0      0.0                   0.0        0.0   \n",
       "1     1.0                  1.0      0.0                   0.0        0.0   \n",
       "2     0.0                  0.0      0.0                   0.0        0.0   \n",
       "3     2.0                  1.0      0.0                   0.0        0.0   \n",
       "4     0.0                  0.0      0.0                   0.0        1.0   \n",
       "\n",
       "   times_bought_wednesday  thursday  times_bought_thursday  friday  \\\n",
       "0                     0.0       0.0                    0.0     1.0   \n",
       "1                     0.0       0.0                    0.0     0.0   \n",
       "2                     0.0       1.0                    1.0     0.0   \n",
       "3                     0.0       0.0                    0.0     0.0   \n",
       "4                     1.0       0.0                    0.0     0.0   \n",
       "\n",
       "   times_bought_friday  saturday  times_bought_saturday  sunday  \\\n",
       "0                  1.0       0.0                    0.0     1.0   \n",
       "1                  0.0       0.0                    0.0     0.0   \n",
       "2                  0.0       0.0                    0.0     0.0   \n",
       "3                  0.0       0.0                    0.0     0.0   \n",
       "4                  0.0       0.0                    0.0     0.0   \n",
       "\n",
       "   times_bought_sunday user_type  country                  region  \\\n",
       "0                  1.0     first  Germany            Lower Saxony   \n",
       "1                  0.0     first  Germany            Lower Saxony   \n",
       "2                  0.0     first  Germany                  Berlin   \n",
       "3                  0.0     first  Germany      Schleswig-Holstein   \n",
       "4                  0.0     first  Germany  North Rhine-Westphalia   \n",
       "\n",
       "                        city device_category device_browser device_os  \\\n",
       "0                      Varel         desktop        Firefox   Windows   \n",
       "1  Buchholz in der Nordheide          tablet         Safari       iOS   \n",
       "2                     Berlin         desktop         Chrome   Windows   \n",
       "3                 Neumunster          tablet         Safari       iOS   \n",
       "4               Meinerzhagen          mobile         Chrome   Android   \n",
       "\n",
       "  country_slim  cluster  recency  frequency  score value_segment  \\\n",
       "0      Germany        0      216          2      1           low   \n",
       "1      Germany        0      339          1      0           low   \n",
       "2      Germany        0       42          1      2           low   \n",
       "3      Germany        0      185          2      1           low   \n",
       "4      Germany        0       71          1      2           low   \n",
       "\n",
       "   predicted_purchases_oneyear   clv  \n",
       "0                         0.11  2.72  \n",
       "1                         0.06  1.64  \n",
       "2                         0.21  6.10  \n",
       "3                         0.14  3.81  \n",
       "4                         0.17  4.71  "
      ]
     },
     "execution_count": 39,
     "metadata": {},
     "output_type": "execute_result"
    }
   ],
   "source": [
    "df_pred_clv_2.head()"
   ]
  },
  {
   "cell_type": "markdown",
   "metadata": {},
   "source": [
    "### Plots"
   ]
  },
  {
   "cell_type": "code",
   "execution_count": 40,
   "metadata": {
    "scrolled": true
   },
   "outputs": [
    {
     "name": "stdout",
     "output_type": "stream",
     "text": [
      "5.49838574918449\n",
      "2.57\n"
     ]
    }
   ],
   "source": [
    "clv_pm = df_pred_clv_1[\"clv\"]\n",
    "print(clv_pm.mean())\n",
    "print(clv_pm.median())"
   ]
  },
  {
   "cell_type": "code",
   "execution_count": 41,
   "metadata": {},
   "outputs": [
    {
     "data": {
      "image/png": "[encoded data removed]",
      "text/plain": [
       "<Figure size 432x288 with 1 Axes>"
      ]
     },
     "metadata": {
      "needs_background": "light"
     },
     "output_type": "display_data"
    }
   ],
   "source": [
    "plt.hist(clv_pm, range = (0,50))\n",
    "plt.title(\"Predictive Model CLV\")\n",
    "plt.xlabel(\"CLV (€)\")\n",
    "plt.show()"
   ]
  },
  {
   "cell_type": "code",
   "execution_count": 42,
   "metadata": {},
   "outputs": [
    {
     "name": "stdout",
     "output_type": "stream",
     "text": [
      "5.170076258759398\n",
      "2.4\n"
     ]
    }
   ],
   "source": [
    "clv_pm = df_pred_clv_2[\"clv\"]\n",
    "print(clv_pm.mean())\n",
    "print(clv_pm.median())"
   ]
  },
  {
   "cell_type": "code",
   "execution_count": 43,
   "metadata": {
    "scrolled": true
   },
   "outputs": [
    {
     "data": {
      "image/png": "[encoded data removed]",
      "text/plain": [
       "<Figure size 432x288 with 1 Axes>"
      ]
     },
     "metadata": {
      "needs_background": "light"
     },
     "output_type": "display_data"
    }
   ],
   "source": [
    "plt.hist(clv_pm, range = (0,50))\n",
    "plt.title(\"Predictive Model CLV\")\n",
    "plt.xlabel(\"CLV (€)\")\n",
    "plt.show()"
   ]
  },
  {
   "cell_type": "code",
   "execution_count": 44,
   "metadata": {},
   "outputs": [
    {
     "name": "stdout",
     "output_type": "stream",
     "text": [
      "2052.673773989467\n",
      "587.54\n"
     ]
    }
   ],
   "source": [
    "clv_pm = df_constant_ltv[\"clv\"]\n",
    "print(clv_pm.mean())\n",
    "print(clv_pm.median())"
   ]
  },
  {
   "cell_type": "code",
   "execution_count": 45,
   "metadata": {},
   "outputs": [
    {
     "data": {
      "image/png": "[encoded data removed]",
      "text/plain": [
       "<Figure size 432x288 with 1 Axes>"
      ]
     },
     "metadata": {
      "needs_background": "light"
     },
     "output_type": "display_data"
    }
   ],
   "source": [
    "plt.hist(clv_pm, range = (0,35000))\n",
    "plt.title(\"Predictive Model CLV\")\n",
    "plt.xlabel(\"CLV (€)\")\n",
    "plt.show()"
   ]
  },
  {
   "cell_type": "markdown",
   "metadata": {},
   "source": [
    "### save to pickle"
   ]
  },
  {
   "cell_type": "code",
   "execution_count": 46,
   "metadata": {},
   "outputs": [],
   "source": [
    "df_constant_ltv.to_pickle(\"Data/constant_clv.pickle\")\n",
    "df_pred_clv_1.to_pickle(\"Data/clv1.pickle\")\n",
    "df_pred_clv_2.to_pickle(\"Data/clv2u.pickle\")"
   ]
  },
  {
   "cell_type": "code",
   "execution_count": null,
   "metadata": {},
   "outputs": [],
   "source": []
  }
 ],
 "metadata": {
  "kernelspec": {
   "display_name": "Python [conda env:test]",
   "language": "python",
   "name": "conda-env-test-py"
  },
  "language_info": {
   "codemirror_mode": {
    "name": "ipython",
    "version": 3
   },
   "file_extension": ".py",
   "mimetype": "text/x-python",
   "name": "python",
   "nbconvert_exporter": "python",
   "pygments_lexer": "ipython3",
   "version": "3.6.10"
  }
 },
 "nbformat": 4,
 "nbformat_minor": 2
}
