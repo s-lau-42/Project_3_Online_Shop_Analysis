{
 "cells": [
  {
   "cell_type": "code",
   "execution_count": 1,
   "metadata": {},
   "outputs": [],
   "source": [
    "#TD for to dos"
   ]
  },
  {
   "cell_type": "markdown",
   "metadata": {},
   "source": [
    "# for timeline analysis : prophet"
   ]
  },
  {
   "cell_type": "markdown",
   "metadata": {},
   "source": [
    "# Part 1: Cleaning and Engineering"
   ]
  },
  {
   "cell_type": "markdown",
   "metadata": {},
   "source": [
    "<html>\n",
    "   <head>\n",
    "      <title>Table part1</title>\n",
    "   </head>\n",
    "   <body>\n",
    "      <h1><font size=\"4\">Table of content</font></h1>\n",
    "      <ul style=\"list-style-type:none;line-height: 2;\">\n",
    "         <li><font size=\"3\"><a href='#1'>1. Loading the Data</a></font></li>\n",
    "         <li><font size=\"3\"><a href='#2'>2. First Look at the Data</a></font></li>\n",
    "         <ul style=\"margin-left: 1em; padding-left: 1em;list-style-type:none\">\n",
    "         <li><font size=\"3\"><a href='#2.1'>2.1 Feature Dictionary</a></font></li>\n",
    "         </ul>\n",
    "         <li><font size=\"3\"><a href='#3'>3. Data Cleaning</a></font></li>\n",
    "         <ul style=\"margin-left: 1em; padding-left: 1em;list-style-type:none\">\n",
    "         <li><font size=\"3\"><a href='#3.1'>3.1 Correcting Visit ID</a></font></li>\n",
    "         <li><font size=\"3\"><a href='#3.2'>3.2 Correcting Product Group and Line</a></font></li>\n",
    "         <li><font size=\"3\"><a href='#3.3'>3.3 NaNs</a></font></li>\n",
    "         <li><font size=\"3\"><a href='#3.4'>3.4 Data Types</a></font></li>\n",
    "         <li><font size=\"3\"><a href='#3.5'>3.5 Duplicates</a></font></li>         \n",
    "         </ul>          \n",
    "         <li><font size=\"3\"><a href='#4'>4. Understanding particular Features in Detail</a></font></li>\n",
    "         <li><font size=\"3\"><a href='#5'>5. Feature Engineering</a></font></li>\n",
    "         <ul style=\"margin-left: 1em; padding-left: 1em;list-style-type:none\">\n",
    "         <li><font size=\"3\"><a href='#3.1'>5.1 Cities by Code</a></font></li>\n",
    "         <li><font size=\"3\"><a href='#3.2'>5.2 Timespan</a></font></li>\n",
    "         <li><font size=\"3\"><a href='#3.3'>5.3 Weekdays</a></font></li>\n",
    "         <li><font size=\"3\"><a href='#3.4'>5.4 Article Genres</a></font></li>\n",
    "         <li><font size=\"3\"><a href='#3.5'>5.5 Total price per article purchase</a></font></li>    \n",
    "         <li><font size=\"3\"><a href='#3.2'>5.6 Value and number of items of shopping carts</a></font></li>\n",
    "         <li><font size=\"3\"><a href='#3.3'>5.7 Stockprice per day</a></font></li>\n",
    "         <li><font size=\"3\"><a href='#3.4'>5.8 First date of purchase and purchase type</a></font></li>\n",
    "         <li><font size=\"3\"><a href='#3.5'>5.9 Final Feature Dictionary</a></font></li>               \n",
    "         </ul>            \n",
    "      </ul>\n",
    "   </body>\n",
    "</html>"
   ]
  },
  {
   "cell_type": "markdown",
   "metadata": {},
   "source": [
    "## Importing libraries"
   ]
  },
  {
   "cell_type": "code",
   "execution_count": 2,
   "metadata": {},
   "outputs": [],
   "source": [
    "# Importing the necessary libraries\n",
    "import re\n",
    "import numpy as np\n",
    "import pandas as pd\n",
    "import matplotlib.pyplot as plt\n",
    "%matplotlib inline\n",
    "import seaborn as sns\n",
    "import glob\n",
    "import datetime\n",
    "from sklearn.preprocessing import StandardScaler\n",
    "from sklearn.model_selection import train_test_split\n",
    "from sklearn.model_selection import StratifiedKFold\n",
    "from sklearn.metrics import roc_auc_score\n",
    "from sklearn.metrics import roc_curve, auc\n",
    "from sklearn.linear_model import LogisticRegression\n",
    "from sklearn.metrics import classification_report\n",
    "from sklearn.decomposition import PCA\n",
    "from sklearn.pipeline import Pipeline\n",
    "from sklearn.ensemble import RandomForestClassifier\n",
    "from sklearn.model_selection import GridSearchCV\n",
    "from sklearn.metrics import confusion_matrix, f1_score, precision_recall_fscore_support\n",
    "from sklearn import preprocessing\n",
    "from sklearn.model_selection import cross_val_score, cross_val_predict"
   ]
  },
  {
   "cell_type": "markdown",
   "metadata": {},
   "source": [
    "## Setting options"
   ]
  },
  {
   "cell_type": "code",
   "execution_count": 3,
   "metadata": {},
   "outputs": [],
   "source": [
    "pd.set_option('display.max_columns', 100)\n",
    "pd.set_option('display.max_rows', 400)"
   ]
  },
  {
   "cell_type": "code",
   "execution_count": 4,
   "metadata": {},
   "outputs": [],
   "source": [
    "#adjusting notebook width\n",
    "#from IPython.core.display import display, HTML\n",
    "#display(HTML(\"<style>.container { width:90% !important; }</style>\"))"
   ]
  },
  {
   "cell_type": "code",
   "execution_count": 5,
   "metadata": {},
   "outputs": [],
   "source": [
    "#markdowntables layout"
   ]
  },
  {
   "cell_type": "code",
   "execution_count": 6,
   "metadata": {},
   "outputs": [
    {
     "data": {
      "text/html": [
       "<style>\n",
       "table {float:left}\n",
       "table td, table th, table tr {text-align:left !important;}\n",
       "</style>"
      ],
      "text/plain": [
       "<IPython.core.display.HTML object>"
      ]
     },
     "metadata": {},
     "output_type": "display_data"
    }
   ],
   "source": [
    "%%html\n",
    "<style>\n",
    "table {float:left}\n",
    "table td, table th, table tr {text-align:left !important;}\n",
    "</style>"
   ]
  },
  {
   "cell_type": "markdown",
   "metadata": {},
   "source": [
    "<a id='1'></a>"
   ]
  },
  {
   "cell_type": "markdown",
   "metadata": {},
   "source": [
    "# 1. Loading the data"
   ]
  },
  {
   "cell_type": "code",
   "execution_count": 7,
   "metadata": {
    "scrolled": true
   },
   "outputs": [
    {
     "name": "stderr",
     "output_type": "stream",
     "text": [
      "//anaconda3/envs/nf2/lib/python3.6/site-packages/IPython/core/interactiveshell.py:2785: DtypeWarning: Columns (5,20) have mixed types. Specify dtype option on import or set low_memory=False.\n",
      "  interactivity=interactivity, compiler=compiler, result=result)\n"
     ]
    }
   ],
   "source": [
    "#sales dataframe\n",
    "df_base = pd.read_csv(\"./Data/TTdata.csv\")"
   ]
  },
  {
   "cell_type": "code",
   "execution_count": 8,
   "metadata": {},
   "outputs": [],
   "source": [
    "#copy for working\n",
    "df = df_base.copy()"
   ]
  },
  {
   "cell_type": "code",
   "execution_count": 9,
   "metadata": {},
   "outputs": [],
   "source": [
    "#dataframe with citynames\n",
    "#https://developers.google.com/adwords/api/docs/appendix/geotargeting\n",
    "df_geotargets = pd.read_csv(\"./Data/geotargets.csv\") "
   ]
  },
  {
   "cell_type": "code",
   "execution_count": 10,
   "metadata": {},
   "outputs": [],
   "source": [
    "df_stock = pd.read_csv(\"./Data/daily_TTI.DE.csv\")"
   ]
  },
  {
   "cell_type": "markdown",
   "metadata": {},
   "source": [
    "<a id='2'></a>"
   ]
  },
  {
   "cell_type": "markdown",
   "metadata": {},
   "source": [
    "# 2. First Look at the Data"
   ]
  },
  {
   "cell_type": "code",
   "execution_count": 11,
   "metadata": {
    "scrolled": false
   },
   "outputs": [
    {
     "data": {
      "text/html": [
       "<div>\n",
       "<style scoped>\n",
       "    .dataframe tbody tr th:only-of-type {\n",
       "        vertical-align: middle;\n",
       "    }\n",
       "\n",
       "    .dataframe tbody tr th {\n",
       "        vertical-align: top;\n",
       "    }\n",
       "\n",
       "    .dataframe thead th {\n",
       "        text-align: right;\n",
       "    }\n",
       "</style>\n",
       "<table border=\"1\" class=\"dataframe\">\n",
       "  <thead>\n",
       "    <tr style=\"text-align: right;\">\n",
       "      <th></th>\n",
       "      <th>visit_id_n</th>\n",
       "      <th>unser_id_n</th>\n",
       "      <th>visit_number</th>\n",
       "      <th>date</th>\n",
       "      <th>article_name</th>\n",
       "      <th>article_id</th>\n",
       "      <th>ga_category</th>\n",
       "      <th>brand</th>\n",
       "      <th>price</th>\n",
       "      <th>quantity</th>\n",
       "      <th>device_category</th>\n",
       "      <th>device_browser</th>\n",
       "      <th>device_os</th>\n",
       "      <th>country</th>\n",
       "      <th>region</th>\n",
       "      <th>city_id</th>\n",
       "      <th>product_line</th>\n",
       "      <th>product_group</th>\n",
       "      <th>product_line_r</th>\n",
       "      <th>product_group_r</th>\n",
       "      <th>campaign_involved</th>\n",
       "    </tr>\n",
       "  </thead>\n",
       "  <tbody>\n",
       "    <tr>\n",
       "      <th>0</th>\n",
       "      <td>551960</td>\n",
       "      <td>553811</td>\n",
       "      <td>1.0</td>\n",
       "      <td>20180910.0</td>\n",
       "      <td>Geschenk Gutschein 10 EUR</td>\n",
       "      <td>200000000010</td>\n",
       "      <td>Herren</td>\n",
       "      <td>(not set)</td>\n",
       "      <td>10.0</td>\n",
       "      <td>1.0</td>\n",
       "      <td>desktop</td>\n",
       "      <td>Firefox</td>\n",
       "      <td>Windows</td>\n",
       "      <td>Germany</td>\n",
       "      <td>Lower Saxony</td>\n",
       "      <td>1004478</td>\n",
       "      <td>Herren</td>\n",
       "      <td>Herren</td>\n",
       "      <td>Herren</td>\n",
       "      <td>Herren</td>\n",
       "      <td>False</td>\n",
       "    </tr>\n",
       "    <tr>\n",
       "      <th>1</th>\n",
       "      <td>242735</td>\n",
       "      <td>254033</td>\n",
       "      <td>1.0</td>\n",
       "      <td>20180104.0</td>\n",
       "      <td>Geschenkgutschein 10 EUR</td>\n",
       "      <td>200000000010</td>\n",
       "      <td>Damen/Geschenkgutscheine</td>\n",
       "      <td>(not set)</td>\n",
       "      <td>10.0</td>\n",
       "      <td>1.0</td>\n",
       "      <td>desktop</td>\n",
       "      <td>Firefox</td>\n",
       "      <td>Windows</td>\n",
       "      <td>Germany</td>\n",
       "      <td>Lower Saxony</td>\n",
       "      <td>9048892</td>\n",
       "      <td>Herren</td>\n",
       "      <td>Herren</td>\n",
       "      <td>Herren</td>\n",
       "      <td>Herren</td>\n",
       "      <td>True</td>\n",
       "    </tr>\n",
       "    <tr>\n",
       "      <th>2</th>\n",
       "      <td>680200</td>\n",
       "      <td>620544</td>\n",
       "      <td>2.0</td>\n",
       "      <td>20180612.0</td>\n",
       "      <td>Geschenk Gutschein 10 EUR</td>\n",
       "      <td>200000000010</td>\n",
       "      <td>Damen/Geschenkgutscheine</td>\n",
       "      <td>(not set)</td>\n",
       "      <td>10.0</td>\n",
       "      <td>1.0</td>\n",
       "      <td>desktop</td>\n",
       "      <td>Chrome</td>\n",
       "      <td>Windows</td>\n",
       "      <td>Germany</td>\n",
       "      <td>Berlin</td>\n",
       "      <td>1003854</td>\n",
       "      <td>Herren</td>\n",
       "      <td>Herren</td>\n",
       "      <td>Herren</td>\n",
       "      <td>Herren</td>\n",
       "      <td>True</td>\n",
       "    </tr>\n",
       "    <tr>\n",
       "      <th>3</th>\n",
       "      <td>44920</td>\n",
       "      <td>609593</td>\n",
       "      <td>46.0</td>\n",
       "      <td>20180913.0</td>\n",
       "      <td>Geschenk Gutschein 10 EUR</td>\n",
       "      <td>200000000010</td>\n",
       "      <td>Herren</td>\n",
       "      <td>(not set)</td>\n",
       "      <td>10.0</td>\n",
       "      <td>1.0</td>\n",
       "      <td>mobile</td>\n",
       "      <td>Safari</td>\n",
       "      <td>iOS</td>\n",
       "      <td>Germany</td>\n",
       "      <td>Lower Saxony</td>\n",
       "      <td>1004564</td>\n",
       "      <td>Herren</td>\n",
       "      <td>Herren</td>\n",
       "      <td>Herren</td>\n",
       "      <td>Herren</td>\n",
       "      <td>True</td>\n",
       "    </tr>\n",
       "    <tr>\n",
       "      <th>4</th>\n",
       "      <td>704159</td>\n",
       "      <td>73553</td>\n",
       "      <td>2.0</td>\n",
       "      <td>20180729.0</td>\n",
       "      <td>Geschenk Gutschein 10 EUR</td>\n",
       "      <td>200000000010</td>\n",
       "      <td>Herren</td>\n",
       "      <td>(not set)</td>\n",
       "      <td>10.0</td>\n",
       "      <td>1.0</td>\n",
       "      <td>desktop</td>\n",
       "      <td>Chrome</td>\n",
       "      <td>Windows</td>\n",
       "      <td>Germany</td>\n",
       "      <td>Bavaria</td>\n",
       "      <td>1004246</td>\n",
       "      <td>Herren</td>\n",
       "      <td>Herren</td>\n",
       "      <td>Herren</td>\n",
       "      <td>Herren</td>\n",
       "      <td>True</td>\n",
       "    </tr>\n",
       "  </tbody>\n",
       "</table>\n",
       "</div>"
      ],
      "text/plain": [
       "   visit_id_n  unser_id_n  visit_number        date  \\\n",
       "0      551960      553811           1.0  20180910.0   \n",
       "1      242735      254033           1.0  20180104.0   \n",
       "2      680200      620544           2.0  20180612.0   \n",
       "3       44920      609593          46.0  20180913.0   \n",
       "4      704159       73553           2.0  20180729.0   \n",
       "\n",
       "                article_name    article_id               ga_category  \\\n",
       "0  Geschenk Gutschein 10 EUR  200000000010                    Herren   \n",
       "1   Geschenkgutschein 10 EUR  200000000010  Damen/Geschenkgutscheine   \n",
       "2  Geschenk Gutschein 10 EUR  200000000010  Damen/Geschenkgutscheine   \n",
       "3  Geschenk Gutschein 10 EUR  200000000010                    Herren   \n",
       "4  Geschenk Gutschein 10 EUR  200000000010                    Herren   \n",
       "\n",
       "       brand  price  quantity device_category device_browser device_os  \\\n",
       "0  (not set)   10.0       1.0         desktop        Firefox   Windows   \n",
       "1  (not set)   10.0       1.0         desktop        Firefox   Windows   \n",
       "2  (not set)   10.0       1.0         desktop         Chrome   Windows   \n",
       "3  (not set)   10.0       1.0          mobile         Safari       iOS   \n",
       "4  (not set)   10.0       1.0         desktop         Chrome   Windows   \n",
       "\n",
       "   country        region  city_id product_line product_group product_line_r  \\\n",
       "0  Germany  Lower Saxony  1004478       Herren        Herren         Herren   \n",
       "1  Germany  Lower Saxony  9048892       Herren        Herren         Herren   \n",
       "2  Germany        Berlin  1003854       Herren        Herren         Herren   \n",
       "3  Germany  Lower Saxony  1004564       Herren        Herren         Herren   \n",
       "4  Germany       Bavaria  1004246       Herren        Herren         Herren   \n",
       "\n",
       "  product_group_r campaign_involved  \n",
       "0          Herren             False  \n",
       "1          Herren              True  \n",
       "2          Herren              True  \n",
       "3          Herren              True  \n",
       "4          Herren              True  "
      ]
     },
     "execution_count": 11,
     "metadata": {},
     "output_type": "execute_result"
    }
   ],
   "source": [
    "df.head()"
   ]
  },
  {
   "cell_type": "code",
   "execution_count": 12,
   "metadata": {},
   "outputs": [
    {
     "data": {
      "text/html": [
       "<div>\n",
       "<style scoped>\n",
       "    .dataframe tbody tr th:only-of-type {\n",
       "        vertical-align: middle;\n",
       "    }\n",
       "\n",
       "    .dataframe tbody tr th {\n",
       "        vertical-align: top;\n",
       "    }\n",
       "\n",
       "    .dataframe thead th {\n",
       "        text-align: right;\n",
       "    }\n",
       "</style>\n",
       "<table border=\"1\" class=\"dataframe\">\n",
       "  <thead>\n",
       "    <tr style=\"text-align: right;\">\n",
       "      <th></th>\n",
       "      <th>visit_id_n</th>\n",
       "      <th>unser_id_n</th>\n",
       "      <th>visit_number</th>\n",
       "      <th>date</th>\n",
       "      <th>article_name</th>\n",
       "      <th>article_id</th>\n",
       "      <th>ga_category</th>\n",
       "      <th>brand</th>\n",
       "      <th>price</th>\n",
       "      <th>quantity</th>\n",
       "      <th>device_category</th>\n",
       "      <th>device_browser</th>\n",
       "      <th>device_os</th>\n",
       "      <th>country</th>\n",
       "      <th>region</th>\n",
       "      <th>city_id</th>\n",
       "      <th>product_line</th>\n",
       "      <th>product_group</th>\n",
       "      <th>product_line_r</th>\n",
       "      <th>product_group_r</th>\n",
       "      <th>campaign_involved</th>\n",
       "    </tr>\n",
       "  </thead>\n",
       "  <tbody>\n",
       "    <tr>\n",
       "      <th>3016738</th>\n",
       "      <td>33526</td>\n",
       "      <td>316730</td>\n",
       "      <td>2.0</td>\n",
       "      <td>20181122.0</td>\n",
       "      <td>Unifarbener Ösenschal</td>\n",
       "      <td>4260478143821</td>\n",
       "      <td>(not set)</td>\n",
       "      <td>TT_Casual</td>\n",
       "      <td>36.97</td>\n",
       "      <td>1.0</td>\n",
       "      <td>mobile</td>\n",
       "      <td>Chrome</td>\n",
       "      <td>Android</td>\n",
       "      <td>Germany</td>\n",
       "      <td>Berlin</td>\n",
       "      <td>1003854</td>\n",
       "      <td>Home &amp; Living</td>\n",
       "      <td>Vorhänge</td>\n",
       "      <td>Home &amp; Living</td>\n",
       "      <td>Schuhe &amp; Accessoires</td>\n",
       "      <td>True</td>\n",
       "    </tr>\n",
       "    <tr>\n",
       "      <th>3016739</th>\n",
       "      <td>520195</td>\n",
       "      <td>51192</td>\n",
       "      <td>16.0</td>\n",
       "      <td>20181201.0</td>\n",
       "      <td>Unifarbener Ösenschal</td>\n",
       "      <td>4260478143821</td>\n",
       "      <td>Home &amp; Living/Vorhänge</td>\n",
       "      <td>TT_Casual</td>\n",
       "      <td>42.85</td>\n",
       "      <td>2.0</td>\n",
       "      <td>mobile</td>\n",
       "      <td>Safari</td>\n",
       "      <td>iOS</td>\n",
       "      <td>Germany</td>\n",
       "      <td>North Rhine-Westphalia</td>\n",
       "      <td>1004707</td>\n",
       "      <td>Home &amp; Living</td>\n",
       "      <td>Vorhänge</td>\n",
       "      <td>Home &amp; Living</td>\n",
       "      <td>Schuhe &amp; Accessoires</td>\n",
       "      <td>True</td>\n",
       "    </tr>\n",
       "    <tr>\n",
       "      <th>3016740</th>\n",
       "      <td>18132</td>\n",
       "      <td>393215</td>\n",
       "      <td>2.0</td>\n",
       "      <td>20181124.0</td>\n",
       "      <td>Unifarbener Ösenschal</td>\n",
       "      <td>4260478143821</td>\n",
       "      <td>(not set)</td>\n",
       "      <td>TT_Casual</td>\n",
       "      <td>37.39</td>\n",
       "      <td>2.0</td>\n",
       "      <td>mobile</td>\n",
       "      <td>Safari</td>\n",
       "      <td>iOS</td>\n",
       "      <td>Germany</td>\n",
       "      <td>Berlin</td>\n",
       "      <td>1003854</td>\n",
       "      <td>Home &amp; Living</td>\n",
       "      <td>Vorhänge</td>\n",
       "      <td>Home &amp; Living</td>\n",
       "      <td>Schuhe &amp; Accessoires</td>\n",
       "      <td>True</td>\n",
       "    </tr>\n",
       "    <tr>\n",
       "      <th>3016741</th>\n",
       "      <td>7155</td>\n",
       "      <td>211171</td>\n",
       "      <td>NaN</td>\n",
       "      <td>NaN</td>\n",
       "      <td>NaN</td>\n",
       "      <td>anonymized</td>\n",
       "      <td>NaN</td>\n",
       "      <td>NaN</td>\n",
       "      <td>NaN</td>\n",
       "      <td>NaN</td>\n",
       "      <td>NaN</td>\n",
       "      <td>NaN</td>\n",
       "      <td>NaN</td>\n",
       "      <td>NaN</td>\n",
       "      <td>NaN</td>\n",
       "      <td>NaN</td>\n",
       "      <td>Shirts unter 20 Euro</td>\n",
       "      <td>Shirts unter 20 Euro</td>\n",
       "      <td>Shirts unter 20 €</td>\n",
       "      <td>T-Shirts &amp; Langarmshirts</td>\n",
       "      <td>NaN</td>\n",
       "    </tr>\n",
       "    <tr>\n",
       "      <th>3016742</th>\n",
       "      <td>7155</td>\n",
       "      <td>211171</td>\n",
       "      <td>NaN</td>\n",
       "      <td>NaN</td>\n",
       "      <td>NaN</td>\n",
       "      <td>cliqz.com/tracking</td>\n",
       "      <td>NaN</td>\n",
       "      <td>NaN</td>\n",
       "      <td>NaN</td>\n",
       "      <td>NaN</td>\n",
       "      <td>NaN</td>\n",
       "      <td>NaN</td>\n",
       "      <td>NaN</td>\n",
       "      <td>NaN</td>\n",
       "      <td>NaN</td>\n",
       "      <td>NaN</td>\n",
       "      <td>Damen</td>\n",
       "      <td>langarm</td>\n",
       "      <td>Damen</td>\n",
       "      <td>T-Shirts &amp; Langarmshirts</td>\n",
       "      <td>NaN</td>\n",
       "    </tr>\n",
       "  </tbody>\n",
       "</table>\n",
       "</div>"
      ],
      "text/plain": [
       "         visit_id_n  unser_id_n  visit_number        date  \\\n",
       "3016738       33526      316730           2.0  20181122.0   \n",
       "3016739      520195       51192          16.0  20181201.0   \n",
       "3016740       18132      393215           2.0  20181124.0   \n",
       "3016741        7155      211171           NaN         NaN   \n",
       "3016742        7155      211171           NaN         NaN   \n",
       "\n",
       "                  article_name          article_id             ga_category  \\\n",
       "3016738  Unifarbener Ösenschal       4260478143821               (not set)   \n",
       "3016739  Unifarbener Ösenschal       4260478143821  Home & Living/Vorhänge   \n",
       "3016740  Unifarbener Ösenschal       4260478143821               (not set)   \n",
       "3016741                    NaN          anonymized                     NaN   \n",
       "3016742                    NaN  cliqz.com/tracking                     NaN   \n",
       "\n",
       "             brand  price  quantity device_category device_browser device_os  \\\n",
       "3016738  TT_Casual  36.97       1.0          mobile         Chrome   Android   \n",
       "3016739  TT_Casual  42.85       2.0          mobile         Safari       iOS   \n",
       "3016740  TT_Casual  37.39       2.0          mobile         Safari       iOS   \n",
       "3016741        NaN    NaN       NaN             NaN            NaN       NaN   \n",
       "3016742        NaN    NaN       NaN             NaN            NaN       NaN   \n",
       "\n",
       "         country                  region  city_id          product_line  \\\n",
       "3016738  Germany                  Berlin  1003854         Home & Living   \n",
       "3016739  Germany  North Rhine-Westphalia  1004707         Home & Living   \n",
       "3016740  Germany                  Berlin  1003854         Home & Living   \n",
       "3016741      NaN                     NaN      NaN  Shirts unter 20 Euro   \n",
       "3016742      NaN                     NaN      NaN                 Damen   \n",
       "\n",
       "                product_group     product_line_r           product_group_r  \\\n",
       "3016738              Vorhänge      Home & Living      Schuhe & Accessoires   \n",
       "3016739              Vorhänge      Home & Living      Schuhe & Accessoires   \n",
       "3016740              Vorhänge      Home & Living      Schuhe & Accessoires   \n",
       "3016741  Shirts unter 20 Euro  Shirts unter 20 €  T-Shirts & Langarmshirts   \n",
       "3016742               langarm              Damen  T-Shirts & Langarmshirts   \n",
       "\n",
       "        campaign_involved  \n",
       "3016738              True  \n",
       "3016739              True  \n",
       "3016740              True  \n",
       "3016741               NaN  \n",
       "3016742               NaN  "
      ]
     },
     "execution_count": 12,
     "metadata": {},
     "output_type": "execute_result"
    }
   ],
   "source": [
    "df.tail()"
   ]
  },
  {
   "cell_type": "code",
   "execution_count": 13,
   "metadata": {
    "scrolled": true
   },
   "outputs": [
    {
     "data": {
      "text/plain": [
       "(3016743, 21)"
      ]
     },
     "execution_count": 13,
     "metadata": {},
     "output_type": "execute_result"
    }
   ],
   "source": [
    "df.shape"
   ]
  },
  {
   "cell_type": "code",
   "execution_count": 14,
   "metadata": {
    "scrolled": true
   },
   "outputs": [
    {
     "name": "stdout",
     "output_type": "stream",
     "text": [
      "<class 'pandas.core.frame.DataFrame'>\n",
      "RangeIndex: 3016743 entries, 0 to 3016742\n",
      "Data columns (total 21 columns):\n",
      "visit_id_n           int64\n",
      "unser_id_n           int64\n",
      "visit_number         float64\n",
      "date                 float64\n",
      "article_name         object\n",
      "article_id           object\n",
      "ga_category          object\n",
      "brand                object\n",
      "price                float64\n",
      "quantity             float64\n",
      "device_category      object\n",
      "device_browser       object\n",
      "device_os            object\n",
      "country              object\n",
      "region               object\n",
      "city_id              object\n",
      "product_line         object\n",
      "product_group        object\n",
      "product_line_r       object\n",
      "product_group_r      object\n",
      "campaign_involved    object\n",
      "dtypes: float64(4), int64(2), object(15)\n",
      "memory usage: 483.3+ MB\n"
     ]
    }
   ],
   "source": [
    "df.info()"
   ]
  },
  {
   "cell_type": "code",
   "execution_count": 15,
   "metadata": {},
   "outputs": [
    {
     "data": {
      "text/html": [
       "<div>\n",
       "<style scoped>\n",
       "    .dataframe tbody tr th:only-of-type {\n",
       "        vertical-align: middle;\n",
       "    }\n",
       "\n",
       "    .dataframe tbody tr th {\n",
       "        vertical-align: top;\n",
       "    }\n",
       "\n",
       "    .dataframe thead th {\n",
       "        text-align: right;\n",
       "    }\n",
       "</style>\n",
       "<table border=\"1\" class=\"dataframe\">\n",
       "  <thead>\n",
       "    <tr style=\"text-align: right;\">\n",
       "      <th></th>\n",
       "      <th>visit_id_n</th>\n",
       "      <th>unser_id_n</th>\n",
       "      <th>visit_number</th>\n",
       "      <th>date</th>\n",
       "      <th>price</th>\n",
       "      <th>quantity</th>\n",
       "    </tr>\n",
       "  </thead>\n",
       "  <tbody>\n",
       "    <tr>\n",
       "      <th>count</th>\n",
       "      <td>3.016743e+06</td>\n",
       "      <td>3.016743e+06</td>\n",
       "      <td>3.016732e+06</td>\n",
       "      <td>3.016732e+06</td>\n",
       "      <td>3.016732e+06</td>\n",
       "      <td>3.016732e+06</td>\n",
       "    </tr>\n",
       "    <tr>\n",
       "      <th>mean</th>\n",
       "      <td>4.102715e+05</td>\n",
       "      <td>3.108908e+05</td>\n",
       "      <td>1.058004e+01</td>\n",
       "      <td>2.018055e+07</td>\n",
       "      <td>2.668266e+01</td>\n",
       "      <td>1.018650e+00</td>\n",
       "    </tr>\n",
       "    <tr>\n",
       "      <th>std</th>\n",
       "      <td>2.366932e+05</td>\n",
       "      <td>1.795393e+05</td>\n",
       "      <td>2.962561e+01</td>\n",
       "      <td>4.429808e+03</td>\n",
       "      <td>1.790388e+01</td>\n",
       "      <td>1.586700e-01</td>\n",
       "    </tr>\n",
       "    <tr>\n",
       "      <th>min</th>\n",
       "      <td>1.000000e+00</td>\n",
       "      <td>1.000000e+00</td>\n",
       "      <td>1.000000e+00</td>\n",
       "      <td>2.017110e+07</td>\n",
       "      <td>0.000000e+00</td>\n",
       "      <td>1.000000e+00</td>\n",
       "    </tr>\n",
       "    <tr>\n",
       "      <th>25%</th>\n",
       "      <td>2.053810e+05</td>\n",
       "      <td>1.551850e+05</td>\n",
       "      <td>1.000000e+00</td>\n",
       "      <td>2.018032e+07</td>\n",
       "      <td>1.445000e+01</td>\n",
       "      <td>1.000000e+00</td>\n",
       "    </tr>\n",
       "    <tr>\n",
       "      <th>50%</th>\n",
       "      <td>4.107240e+05</td>\n",
       "      <td>3.107390e+05</td>\n",
       "      <td>3.000000e+00</td>\n",
       "      <td>2.018071e+07</td>\n",
       "      <td>2.420000e+01</td>\n",
       "      <td>1.000000e+00</td>\n",
       "    </tr>\n",
       "    <tr>\n",
       "      <th>75%</th>\n",
       "      <td>6.152210e+05</td>\n",
       "      <td>4.659450e+05</td>\n",
       "      <td>9.000000e+00</td>\n",
       "      <td>2.018103e+07</td>\n",
       "      <td>3.361000e+01</td>\n",
       "      <td>1.000000e+00</td>\n",
       "    </tr>\n",
       "    <tr>\n",
       "      <th>max</th>\n",
       "      <td>8.201950e+05</td>\n",
       "      <td>6.226180e+05</td>\n",
       "      <td>1.616000e+03</td>\n",
       "      <td>2.019023e+07</td>\n",
       "      <td>2.512600e+02</td>\n",
       "      <td>1.000000e+01</td>\n",
       "    </tr>\n",
       "  </tbody>\n",
       "</table>\n",
       "</div>"
      ],
      "text/plain": [
       "         visit_id_n    unser_id_n  visit_number          date         price  \\\n",
       "count  3.016743e+06  3.016743e+06  3.016732e+06  3.016732e+06  3.016732e+06   \n",
       "mean   4.102715e+05  3.108908e+05  1.058004e+01  2.018055e+07  2.668266e+01   \n",
       "std    2.366932e+05  1.795393e+05  2.962561e+01  4.429808e+03  1.790388e+01   \n",
       "min    1.000000e+00  1.000000e+00  1.000000e+00  2.017110e+07  0.000000e+00   \n",
       "25%    2.053810e+05  1.551850e+05  1.000000e+00  2.018032e+07  1.445000e+01   \n",
       "50%    4.107240e+05  3.107390e+05  3.000000e+00  2.018071e+07  2.420000e+01   \n",
       "75%    6.152210e+05  4.659450e+05  9.000000e+00  2.018103e+07  3.361000e+01   \n",
       "max    8.201950e+05  6.226180e+05  1.616000e+03  2.019023e+07  2.512600e+02   \n",
       "\n",
       "           quantity  \n",
       "count  3.016732e+06  \n",
       "mean   1.018650e+00  \n",
       "std    1.586700e-01  \n",
       "min    1.000000e+00  \n",
       "25%    1.000000e+00  \n",
       "50%    1.000000e+00  \n",
       "75%    1.000000e+00  \n",
       "max    1.000000e+01  "
      ]
     },
     "execution_count": 15,
     "metadata": {},
     "output_type": "execute_result"
    }
   ],
   "source": [
    "df.describe()"
   ]
  },
  {
   "cell_type": "code",
   "execution_count": 16,
   "metadata": {
    "scrolled": true
   },
   "outputs": [
    {
     "data": {
      "text/html": [
       "<div>\n",
       "<style scoped>\n",
       "    .dataframe tbody tr th:only-of-type {\n",
       "        vertical-align: middle;\n",
       "    }\n",
       "\n",
       "    .dataframe tbody tr th {\n",
       "        vertical-align: top;\n",
       "    }\n",
       "\n",
       "    .dataframe thead th {\n",
       "        text-align: right;\n",
       "    }\n",
       "</style>\n",
       "<table border=\"1\" class=\"dataframe\">\n",
       "  <thead>\n",
       "    <tr style=\"text-align: right;\">\n",
       "      <th></th>\n",
       "      <th>visit_id_n</th>\n",
       "      <th>unser_id_n</th>\n",
       "      <th>visit_number</th>\n",
       "      <th>date</th>\n",
       "      <th>article_name</th>\n",
       "      <th>article_id</th>\n",
       "      <th>ga_category</th>\n",
       "      <th>brand</th>\n",
       "      <th>price</th>\n",
       "      <th>quantity</th>\n",
       "      <th>device_category</th>\n",
       "      <th>device_browser</th>\n",
       "      <th>device_os</th>\n",
       "      <th>country</th>\n",
       "      <th>region</th>\n",
       "      <th>city_id</th>\n",
       "      <th>product_line</th>\n",
       "      <th>product_group</th>\n",
       "      <th>product_line_r</th>\n",
       "      <th>product_group_r</th>\n",
       "      <th>campaign_involved</th>\n",
       "    </tr>\n",
       "  </thead>\n",
       "  <tbody>\n",
       "    <tr>\n",
       "      <th>785418</th>\n",
       "      <td>180148</td>\n",
       "      <td>391682</td>\n",
       "      <td>1.0</td>\n",
       "      <td>20171116.0</td>\n",
       "      <td>Alexa Skinny Jeans</td>\n",
       "      <td>4059953530467</td>\n",
       "      <td>Damen/Damenmode/Jeans/Skinny</td>\n",
       "      <td>TT_Casual</td>\n",
       "      <td>40.34</td>\n",
       "      <td>1.0</td>\n",
       "      <td>desktop</td>\n",
       "      <td>Safari</td>\n",
       "      <td>Macintosh</td>\n",
       "      <td>Germany</td>\n",
       "      <td>Bavaria</td>\n",
       "      <td>9068764</td>\n",
       "      <td>Damen</td>\n",
       "      <td>Skinny</td>\n",
       "      <td>Damen</td>\n",
       "      <td>Jeans</td>\n",
       "      <td>True</td>\n",
       "    </tr>\n",
       "    <tr>\n",
       "      <th>2446982</th>\n",
       "      <td>277567</td>\n",
       "      <td>114124</td>\n",
       "      <td>4.0</td>\n",
       "      <td>20180623.0</td>\n",
       "      <td>T-Shirt in Melange-Optik mit Print</td>\n",
       "      <td>4062105082301</td>\n",
       "      <td>Herren/Print Shirts</td>\n",
       "      <td>TT_Casual</td>\n",
       "      <td>9.40</td>\n",
       "      <td>1.0</td>\n",
       "      <td>desktop</td>\n",
       "      <td>Opera</td>\n",
       "      <td>Windows</td>\n",
       "      <td>Germany</td>\n",
       "      <td>North Rhine-Westphalia</td>\n",
       "      <td>1004682</td>\n",
       "      <td>Herren</td>\n",
       "      <td>Print Shirts</td>\n",
       "      <td>Herren</td>\n",
       "      <td>T-Shirts &amp; Langarmshirts</td>\n",
       "      <td>True</td>\n",
       "    </tr>\n",
       "    <tr>\n",
       "      <th>1983080</th>\n",
       "      <td>676600</td>\n",
       "      <td>293503</td>\n",
       "      <td>4.0</td>\n",
       "      <td>20180719.0</td>\n",
       "      <td>Bluse mit floralem Muster</td>\n",
       "      <td>4060868270560</td>\n",
       "      <td>Damen/Damenmode/Blusen/ärmellos</td>\n",
       "      <td>TT_Denim</td>\n",
       "      <td>24.99</td>\n",
       "      <td>1.0</td>\n",
       "      <td>desktop</td>\n",
       "      <td>Firefox</td>\n",
       "      <td>Windows</td>\n",
       "      <td>Austria</td>\n",
       "      <td>Vienna</td>\n",
       "      <td>1000997</td>\n",
       "      <td>Damen</td>\n",
       "      <td>ärmellos</td>\n",
       "      <td>Damen</td>\n",
       "      <td>Ãrmelloses</td>\n",
       "      <td>True</td>\n",
       "    </tr>\n",
       "    <tr>\n",
       "      <th>968955</th>\n",
       "      <td>220926</td>\n",
       "      <td>166167</td>\n",
       "      <td>20.0</td>\n",
       "      <td>20180319.0</td>\n",
       "      <td>Sweatshirt in Melange-Optik mit Print</td>\n",
       "      <td>4060463011124</td>\n",
       "      <td>Kinder/Kindermode/Baby Mädchen 0 - 17 Monate/S...</td>\n",
       "      <td>(not set)</td>\n",
       "      <td>10.74</td>\n",
       "      <td>1.0</td>\n",
       "      <td>mobile</td>\n",
       "      <td>Samsung Internet</td>\n",
       "      <td>Android</td>\n",
       "      <td>Germany</td>\n",
       "      <td>Berlin</td>\n",
       "      <td>1003854</td>\n",
       "      <td>Kinder</td>\n",
       "      <td>Sweatshirts &amp; Strickwaren</td>\n",
       "      <td>Kinder</td>\n",
       "      <td>Sweatshirts &amp; Strickwaren</td>\n",
       "      <td>True</td>\n",
       "    </tr>\n",
       "    <tr>\n",
       "      <th>2835668</th>\n",
       "      <td>495432</td>\n",
       "      <td>276222</td>\n",
       "      <td>2.0</td>\n",
       "      <td>20181117.0</td>\n",
       "      <td>Hemd mit Struktur</td>\n",
       "      <td>4062105675886</td>\n",
       "      <td>Herren</td>\n",
       "      <td>TT_Casual</td>\n",
       "      <td>25.20</td>\n",
       "      <td>1.0</td>\n",
       "      <td>desktop</td>\n",
       "      <td>Edge</td>\n",
       "      <td>Windows</td>\n",
       "      <td>Germany</td>\n",
       "      <td>Saxony</td>\n",
       "      <td>1004916</td>\n",
       "      <td>Baumwoll Hemden</td>\n",
       "      <td>Baumwoll Hemden</td>\n",
       "      <td>Herren</td>\n",
       "      <td>Hemden</td>\n",
       "      <td>False</td>\n",
       "    </tr>\n",
       "    <tr>\n",
       "      <th>2701234</th>\n",
       "      <td>223749</td>\n",
       "      <td>473927</td>\n",
       "      <td>1.0</td>\n",
       "      <td>20181030.0</td>\n",
       "      <td>T-Shirt mit Logo-Print</td>\n",
       "      <td>4062105515564</td>\n",
       "      <td>Herren/Herrenmode/T-Shirts &amp; Langarmshirts/T-S...</td>\n",
       "      <td>TT_Casual</td>\n",
       "      <td>7.56</td>\n",
       "      <td>1.0</td>\n",
       "      <td>desktop</td>\n",
       "      <td>Firefox</td>\n",
       "      <td>Windows</td>\n",
       "      <td>Germany</td>\n",
       "      <td>North Rhine-Westphalia</td>\n",
       "      <td>1004702</td>\n",
       "      <td>Herren</td>\n",
       "      <td>T-Shirts</td>\n",
       "      <td>Herren</td>\n",
       "      <td>T-Shirts &amp; Langarmshirts</td>\n",
       "      <td>False</td>\n",
       "    </tr>\n",
       "    <tr>\n",
       "      <th>626523</th>\n",
       "      <td>63396</td>\n",
       "      <td>216891</td>\n",
       "      <td>18.0</td>\n",
       "      <td>20171124.0</td>\n",
       "      <td>Sweatshirt mit Schleifen-Detail</td>\n",
       "      <td>4059953136935</td>\n",
       "      <td>Damen/Damenmode/Pullover &amp; Sweatshirts/Sweatsh...</td>\n",
       "      <td>TT_Denim</td>\n",
       "      <td>12.60</td>\n",
       "      <td>1.0</td>\n",
       "      <td>mobile</td>\n",
       "      <td>Chrome</td>\n",
       "      <td>Android</td>\n",
       "      <td>Germany</td>\n",
       "      <td>Hamburg</td>\n",
       "      <td>1004437</td>\n",
       "      <td>Damen</td>\n",
       "      <td>Sweatshirts</td>\n",
       "      <td>Damen</td>\n",
       "      <td>Pullover &amp; Sweatshirts</td>\n",
       "      <td>True</td>\n",
       "    </tr>\n",
       "    <tr>\n",
       "      <th>1115323</th>\n",
       "      <td>570681</td>\n",
       "      <td>307201</td>\n",
       "      <td>1.0</td>\n",
       "      <td>20181004.0</td>\n",
       "      <td>gemustertes T-Shirt</td>\n",
       "      <td>4060586088928</td>\n",
       "      <td>Baumwoll-Shirts</td>\n",
       "      <td>TT_Casual</td>\n",
       "      <td>5.04</td>\n",
       "      <td>1.0</td>\n",
       "      <td>mobile</td>\n",
       "      <td>Samsung Internet</td>\n",
       "      <td>Android</td>\n",
       "      <td>Germany</td>\n",
       "      <td>North Rhine-Westphalia</td>\n",
       "      <td>1004703</td>\n",
       "      <td>Damen</td>\n",
       "      <td>T-Shirts</td>\n",
       "      <td>Damen</td>\n",
       "      <td>T-Shirts &amp; Langarmshirts</td>\n",
       "      <td>False</td>\n",
       "    </tr>\n",
       "    <tr>\n",
       "      <th>1267382</th>\n",
       "      <td>45473</td>\n",
       "      <td>49109</td>\n",
       "      <td>66.0</td>\n",
       "      <td>20180516.0</td>\n",
       "      <td>T-Shirt im Materialmix</td>\n",
       "      <td>4060586215300</td>\n",
       "      <td>Damen/Damenmode/T-Shirts &amp; Langarmshirts/T-Shirts</td>\n",
       "      <td>TT_Casual</td>\n",
       "      <td>20.16</td>\n",
       "      <td>1.0</td>\n",
       "      <td>desktop</td>\n",
       "      <td>Firefox</td>\n",
       "      <td>Windows</td>\n",
       "      <td>Germany</td>\n",
       "      <td>Bavaria</td>\n",
       "      <td>1004280</td>\n",
       "      <td>Damen</td>\n",
       "      <td>T-Shirts</td>\n",
       "      <td>Damen</td>\n",
       "      <td>T-Shirts &amp; Langarmshirts</td>\n",
       "      <td>True</td>\n",
       "    </tr>\n",
       "    <tr>\n",
       "      <th>1059779</th>\n",
       "      <td>290073</td>\n",
       "      <td>62631</td>\n",
       "      <td>23.0</td>\n",
       "      <td>20190122.0</td>\n",
       "      <td>T-Shirt mit Artwork</td>\n",
       "      <td>4060463174805</td>\n",
       "      <td>Kinder/Kindermode/Mädchen 1,5 - 7  Jahre/T-Shi...</td>\n",
       "      <td>TT_Casual</td>\n",
       "      <td>4.12</td>\n",
       "      <td>1.0</td>\n",
       "      <td>mobile</td>\n",
       "      <td>Chrome</td>\n",
       "      <td>Android</td>\n",
       "      <td>Germany</td>\n",
       "      <td>Hesse</td>\n",
       "      <td>1004363</td>\n",
       "      <td>Kinder</td>\n",
       "      <td>T-Shirts, Tops &amp; Poloshirts</td>\n",
       "      <td>Kinder</td>\n",
       "      <td>T-Shirts, Tops &amp; Poloshirts</td>\n",
       "      <td>True</td>\n",
       "    </tr>\n",
       "    <tr>\n",
       "      <th>1744021</th>\n",
       "      <td>454467</td>\n",
       "      <td>566487</td>\n",
       "      <td>5.0</td>\n",
       "      <td>20180406.0</td>\n",
       "      <td>Shirt mit Details aus Spitze</td>\n",
       "      <td>4060586866571</td>\n",
       "      <td>Damen/Damenmode/T-Shirts &amp; Langarmshirts/T-Shirts</td>\n",
       "      <td>(not set)</td>\n",
       "      <td>17.47</td>\n",
       "      <td>1.0</td>\n",
       "      <td>mobile</td>\n",
       "      <td>Samsung Internet</td>\n",
       "      <td>Android</td>\n",
       "      <td>Germany</td>\n",
       "      <td>Berlin</td>\n",
       "      <td>1003854</td>\n",
       "      <td>Damen</td>\n",
       "      <td>T-Shirts</td>\n",
       "      <td>Damen</td>\n",
       "      <td>T-Shirts &amp; Langarmshirts</td>\n",
       "      <td>False</td>\n",
       "    </tr>\n",
       "    <tr>\n",
       "      <th>1400484</th>\n",
       "      <td>701657</td>\n",
       "      <td>355312</td>\n",
       "      <td>2.0</td>\n",
       "      <td>20180914.0</td>\n",
       "      <td>Marvin Straight Jeans</td>\n",
       "      <td>4060586342686</td>\n",
       "      <td>Herren/Herrenmode/Jeans/Regular</td>\n",
       "      <td>TT_Casual</td>\n",
       "      <td>42.01</td>\n",
       "      <td>1.0</td>\n",
       "      <td>desktop</td>\n",
       "      <td>Firefox</td>\n",
       "      <td>Windows</td>\n",
       "      <td>Germany</td>\n",
       "      <td>Bavaria</td>\n",
       "      <td>1004150</td>\n",
       "      <td>Herren</td>\n",
       "      <td>Regular</td>\n",
       "      <td>Herren</td>\n",
       "      <td>Jeans</td>\n",
       "      <td>True</td>\n",
       "    </tr>\n",
       "    <tr>\n",
       "      <th>1373484</th>\n",
       "      <td>453768</td>\n",
       "      <td>602537</td>\n",
       "      <td>4.0</td>\n",
       "      <td>20180716.0</td>\n",
       "      <td>Alexa Skinny Capri Jeans</td>\n",
       "      <td>4060586274444</td>\n",
       "      <td>Damen/Neu im Sale</td>\n",
       "      <td>TT_Casual</td>\n",
       "      <td>29.40</td>\n",
       "      <td>1.0</td>\n",
       "      <td>desktop</td>\n",
       "      <td>Chrome</td>\n",
       "      <td>Windows</td>\n",
       "      <td>Germany</td>\n",
       "      <td>Saarland</td>\n",
       "      <td>1004890</td>\n",
       "      <td>Damen</td>\n",
       "      <td>Neu im Sale</td>\n",
       "      <td>Damen</td>\n",
       "      <td>Neu im Sale</td>\n",
       "      <td>True</td>\n",
       "    </tr>\n",
       "    <tr>\n",
       "      <th>637326</th>\n",
       "      <td>599081</td>\n",
       "      <td>309555</td>\n",
       "      <td>3.0</td>\n",
       "      <td>20171101.0</td>\n",
       "      <td>kariertes Hemd</td>\n",
       "      <td>4059953172797</td>\n",
       "      <td>Herren/Herrenmode/Hemden/langarm</td>\n",
       "      <td>TT_Denim</td>\n",
       "      <td>33.61</td>\n",
       "      <td>1.0</td>\n",
       "      <td>desktop</td>\n",
       "      <td>Chrome</td>\n",
       "      <td>Windows</td>\n",
       "      <td>Germany</td>\n",
       "      <td>Hesse</td>\n",
       "      <td>(not set)</td>\n",
       "      <td>Herren</td>\n",
       "      <td>langarm</td>\n",
       "      <td>Herren</td>\n",
       "      <td>T-Shirts &amp; Langarmshirts</td>\n",
       "      <td>False</td>\n",
       "    </tr>\n",
       "    <tr>\n",
       "      <th>2227451</th>\n",
       "      <td>758783</td>\n",
       "      <td>224226</td>\n",
       "      <td>2.0</td>\n",
       "      <td>20181017.0</td>\n",
       "      <td>Cord-Hose mit Knopfleiste</td>\n",
       "      <td>4060868697374</td>\n",
       "      <td>Hosen</td>\n",
       "      <td>TT_Casual</td>\n",
       "      <td>58.82</td>\n",
       "      <td>1.0</td>\n",
       "      <td>tablet</td>\n",
       "      <td>Chrome</td>\n",
       "      <td>Android</td>\n",
       "      <td>Germany</td>\n",
       "      <td>Lower Saxony</td>\n",
       "      <td>1004507</td>\n",
       "      <td>Damen</td>\n",
       "      <td>Hosen</td>\n",
       "      <td>Damen</td>\n",
       "      <td>Hosen</td>\n",
       "      <td>True</td>\n",
       "    </tr>\n",
       "  </tbody>\n",
       "</table>\n",
       "</div>"
      ],
      "text/plain": [
       "         visit_id_n  unser_id_n  visit_number        date  \\\n",
       "785418       180148      391682           1.0  20171116.0   \n",
       "2446982      277567      114124           4.0  20180623.0   \n",
       "1983080      676600      293503           4.0  20180719.0   \n",
       "968955       220926      166167          20.0  20180319.0   \n",
       "2835668      495432      276222           2.0  20181117.0   \n",
       "2701234      223749      473927           1.0  20181030.0   \n",
       "626523        63396      216891          18.0  20171124.0   \n",
       "1115323      570681      307201           1.0  20181004.0   \n",
       "1267382       45473       49109          66.0  20180516.0   \n",
       "1059779      290073       62631          23.0  20190122.0   \n",
       "1744021      454467      566487           5.0  20180406.0   \n",
       "1400484      701657      355312           2.0  20180914.0   \n",
       "1373484      453768      602537           4.0  20180716.0   \n",
       "637326       599081      309555           3.0  20171101.0   \n",
       "2227451      758783      224226           2.0  20181017.0   \n",
       "\n",
       "                                  article_name     article_id  \\\n",
       "785418                      Alexa Skinny Jeans  4059953530467   \n",
       "2446982     T-Shirt in Melange-Optik mit Print  4062105082301   \n",
       "1983080              Bluse mit floralem Muster  4060868270560   \n",
       "968955   Sweatshirt in Melange-Optik mit Print  4060463011124   \n",
       "2835668                      Hemd mit Struktur  4062105675886   \n",
       "2701234                 T-Shirt mit Logo-Print  4062105515564   \n",
       "626523         Sweatshirt mit Schleifen-Detail  4059953136935   \n",
       "1115323                    gemustertes T-Shirt  4060586088928   \n",
       "1267382                 T-Shirt im Materialmix  4060586215300   \n",
       "1059779                    T-Shirt mit Artwork  4060463174805   \n",
       "1744021           Shirt mit Details aus Spitze  4060586866571   \n",
       "1400484                  Marvin Straight Jeans  4060586342686   \n",
       "1373484               Alexa Skinny Capri Jeans  4060586274444   \n",
       "637326                          kariertes Hemd  4059953172797   \n",
       "2227451              Cord-Hose mit Knopfleiste  4060868697374   \n",
       "\n",
       "                                               ga_category      brand  price  \\\n",
       "785418                        Damen/Damenmode/Jeans/Skinny  TT_Casual  40.34   \n",
       "2446982                                Herren/Print Shirts  TT_Casual   9.40   \n",
       "1983080                    Damen/Damenmode/Blusen/ärmellos   TT_Denim  24.99   \n",
       "968955   Kinder/Kindermode/Baby Mädchen 0 - 17 Monate/S...  (not set)  10.74   \n",
       "2835668                                             Herren  TT_Casual  25.20   \n",
       "2701234  Herren/Herrenmode/T-Shirts & Langarmshirts/T-S...  TT_Casual   7.56   \n",
       "626523   Damen/Damenmode/Pullover & Sweatshirts/Sweatsh...   TT_Denim  12.60   \n",
       "1115323                                    Baumwoll-Shirts  TT_Casual   5.04   \n",
       "1267382  Damen/Damenmode/T-Shirts & Langarmshirts/T-Shirts  TT_Casual  20.16   \n",
       "1059779  Kinder/Kindermode/Mädchen 1,5 - 7  Jahre/T-Shi...  TT_Casual   4.12   \n",
       "1744021  Damen/Damenmode/T-Shirts & Langarmshirts/T-Shirts  (not set)  17.47   \n",
       "1400484                    Herren/Herrenmode/Jeans/Regular  TT_Casual  42.01   \n",
       "1373484                                  Damen/Neu im Sale  TT_Casual  29.40   \n",
       "637326                    Herren/Herrenmode/Hemden/langarm   TT_Denim  33.61   \n",
       "2227451                                              Hosen  TT_Casual  58.82   \n",
       "\n",
       "         quantity device_category    device_browser  device_os  country  \\\n",
       "785418        1.0         desktop            Safari  Macintosh  Germany   \n",
       "2446982       1.0         desktop             Opera    Windows  Germany   \n",
       "1983080       1.0         desktop           Firefox    Windows  Austria   \n",
       "968955        1.0          mobile  Samsung Internet    Android  Germany   \n",
       "2835668       1.0         desktop              Edge    Windows  Germany   \n",
       "2701234       1.0         desktop           Firefox    Windows  Germany   \n",
       "626523        1.0          mobile            Chrome    Android  Germany   \n",
       "1115323       1.0          mobile  Samsung Internet    Android  Germany   \n",
       "1267382       1.0         desktop           Firefox    Windows  Germany   \n",
       "1059779       1.0          mobile            Chrome    Android  Germany   \n",
       "1744021       1.0          mobile  Samsung Internet    Android  Germany   \n",
       "1400484       1.0         desktop           Firefox    Windows  Germany   \n",
       "1373484       1.0         desktop            Chrome    Windows  Germany   \n",
       "637326        1.0         desktop            Chrome    Windows  Germany   \n",
       "2227451       1.0          tablet            Chrome    Android  Germany   \n",
       "\n",
       "                         region    city_id     product_line  \\\n",
       "785418                  Bavaria    9068764            Damen   \n",
       "2446982  North Rhine-Westphalia    1004682           Herren   \n",
       "1983080                  Vienna    1000997            Damen   \n",
       "968955                   Berlin    1003854           Kinder   \n",
       "2835668                  Saxony    1004916  Baumwoll Hemden   \n",
       "2701234  North Rhine-Westphalia    1004702           Herren   \n",
       "626523                  Hamburg    1004437            Damen   \n",
       "1115323  North Rhine-Westphalia    1004703            Damen   \n",
       "1267382                 Bavaria    1004280            Damen   \n",
       "1059779                   Hesse    1004363           Kinder   \n",
       "1744021                  Berlin    1003854            Damen   \n",
       "1400484                 Bavaria    1004150           Herren   \n",
       "1373484                Saarland    1004890            Damen   \n",
       "637326                    Hesse  (not set)           Herren   \n",
       "2227451            Lower Saxony    1004507            Damen   \n",
       "\n",
       "                       product_group product_line_r  \\\n",
       "785418                        Skinny          Damen   \n",
       "2446982                 Print Shirts         Herren   \n",
       "1983080                     ärmellos          Damen   \n",
       "968955     Sweatshirts & Strickwaren         Kinder   \n",
       "2835668              Baumwoll Hemden         Herren   \n",
       "2701234                     T-Shirts         Herren   \n",
       "626523                   Sweatshirts          Damen   \n",
       "1115323                     T-Shirts          Damen   \n",
       "1267382                     T-Shirts          Damen   \n",
       "1059779  T-Shirts, Tops & Poloshirts         Kinder   \n",
       "1744021                     T-Shirts          Damen   \n",
       "1400484                      Regular         Herren   \n",
       "1373484                  Neu im Sale          Damen   \n",
       "637326                       langarm         Herren   \n",
       "2227451                        Hosen          Damen   \n",
       "\n",
       "                     product_group_r campaign_involved  \n",
       "785418                         Jeans              True  \n",
       "2446982     T-Shirts & Langarmshirts              True  \n",
       "1983080                   Ãrmelloses              True  \n",
       "968955     Sweatshirts & Strickwaren              True  \n",
       "2835668                       Hemden             False  \n",
       "2701234     T-Shirts & Langarmshirts             False  \n",
       "626523        Pullover & Sweatshirts              True  \n",
       "1115323     T-Shirts & Langarmshirts             False  \n",
       "1267382     T-Shirts & Langarmshirts              True  \n",
       "1059779  T-Shirts, Tops & Poloshirts              True  \n",
       "1744021     T-Shirts & Langarmshirts             False  \n",
       "1400484                        Jeans              True  \n",
       "1373484                  Neu im Sale              True  \n",
       "637326      T-Shirts & Langarmshirts             False  \n",
       "2227451                        Hosen              True  "
      ]
     },
     "execution_count": 16,
     "metadata": {},
     "output_type": "execute_result"
    }
   ],
   "source": [
    "df.sample(n=15)"
   ]
  },
  {
   "cell_type": "markdown",
   "metadata": {},
   "source": [
    "<a id='2.1'></a>"
   ]
  },
  {
   "cell_type": "markdown",
   "metadata": {},
   "source": [
    "## Feature dictionary ( my impressions )\n",
    "\n",
    "| Feature No. | Feature Name | Description |\n",
    "| :-: | :-: | :-: |\n",
    "| 1 | visit_id_n | Unique ID of a single shopping cart |\n",
    "| 2 | unser_id_n | Unique ID of a user (misstyped obviously) |\n",
    "| 3 | visit_number | Not entirely clear; either number of visits to the shop or number of total purchases |\n",
    "| 4 | date | date the purchase was made |\n",
    "| 5 | article_name | Name of the article that was bought |\n",
    "| 6 | article_id | ID of the article that was bought |\n",
    "| 7 | ga_category | Category the article falls in ( partly the path in the webshop to the article ) |\n",
    "| 8 | brand | Brand of the article |\n",
    "| 9 | price | Price of the article |\n",
    "| 10 | quantity | Number of the article that were bought |\n",
    "| 11 | device_category | Category the user device falls in |\n",
    "| 12 | device_browser | Category the user browser falls in |\n",
    "| 13 | device_os | Category the user OS falls in |\n",
    "| 14 | country | country location of the user |\n",
    "| 15 | region | region location of the user |\n",
    "| 16 | city_id | geoID of the town location of the user |\n",
    "| 17 | product_line | Product line of the article |\n",
    "| 18 | product_group | Product group of the article |\n",
    "| 19 | product_line_r | not clear what the r stands for; might stand for retail |\n",
    "| 20 | product_group_r | not clear what the r stands for; might stand for retail |\n",
    "| 21 | campaign_involved | not clear what the campaign stands for |"
   ]
  },
  {
   "cell_type": "markdown",
   "metadata": {},
   "source": [
    "<a id='3'></a>"
   ]
  },
  {
   "cell_type": "markdown",
   "metadata": {},
   "source": [
    "# 3. Data cleaning"
   ]
  },
  {
   "cell_type": "code",
   "execution_count": 17,
   "metadata": {},
   "outputs": [],
   "source": [
    "#rename columns\n",
    "df.rename(columns={'visit_id_n':'visit_id',\n",
    "                          'unser_id_n':'user_id',\n",
    "                          'ga_category':'category'}, inplace=True)"
   ]
  },
  {
   "cell_type": "markdown",
   "metadata": {},
   "source": [
    "<a id='3.1'></a>"
   ]
  },
  {
   "cell_type": "markdown",
   "metadata": {},
   "source": [
    "## 3.1 Correcting Visit ID\n",
    "After extensive research in a later part of the project it came up, that some visit id's were assigned to multiple users. Probably because the german and austrian webshop data were just put together and not filtered. As such define visit id as the sum of visit id and user id to get a unique number."
   ]
  },
  {
   "cell_type": "code",
   "execution_count": 18,
   "metadata": {},
   "outputs": [],
   "source": [
    "df[\"visit_id\"] = df[\"visit_id\"].apply(lambda x: str(x)) + df[\"user_id\"].apply(lambda x: str(x))\n",
    "df = df.astype({\"visit_id\": \"int64\"})"
   ]
  },
  {
   "cell_type": "markdown",
   "metadata": {},
   "source": [
    "<a id='3.2'></a>"
   ]
  },
  {
   "cell_type": "markdown",
   "metadata": {},
   "source": [
    "## 3.2 Correcting Product group and line"
   ]
  },
  {
   "cell_type": "markdown",
   "metadata": {},
   "source": [
    "After a talk with the people responsible for the data they concluded that product_line_r and product_group_r are the correct features, hence the ones without _r will be dropped."
   ]
  },
  {
   "cell_type": "code",
   "execution_count": 19,
   "metadata": {},
   "outputs": [],
   "source": [
    "df = df.drop(columns=[\"product_line\", \"product_group\"])\n",
    "df.rename(columns={\"product_line_r\": \"product_line\", \"product_group_r\": \"product_group\"}, inplace=True)"
   ]
  },
  {
   "cell_type": "markdown",
   "metadata": {},
   "source": [
    "<a id='3.3'></a>"
   ]
  },
  {
   "cell_type": "markdown",
   "metadata": {},
   "source": [
    "## 3.3 NaNs"
   ]
  },
  {
   "cell_type": "code",
   "execution_count": 20,
   "metadata": {
    "scrolled": true
   },
   "outputs": [
    {
     "data": {
      "text/plain": [
       "visit_id              0\n",
       "user_id               0\n",
       "visit_number         11\n",
       "date                 11\n",
       "article_name         11\n",
       "article_id            0\n",
       "category             11\n",
       "brand                11\n",
       "price                11\n",
       "quantity             11\n",
       "device_category      11\n",
       "device_browser       11\n",
       "device_os            11\n",
       "country              11\n",
       "region               11\n",
       "city_id              11\n",
       "product_line          0\n",
       "product_group         0\n",
       "campaign_involved    11\n",
       "dtype: int64"
      ]
     },
     "execution_count": 20,
     "metadata": {},
     "output_type": "execute_result"
    }
   ],
   "source": [
    "df.isna().sum()"
   ]
  },
  {
   "cell_type": "code",
   "execution_count": 21,
   "metadata": {},
   "outputs": [],
   "source": [
    "df.dropna(inplace=True) #just 11 , so drop them"
   ]
  },
  {
   "cell_type": "code",
   "execution_count": 22,
   "metadata": {
    "scrolled": true
   },
   "outputs": [
    {
     "data": {
      "text/plain": [
       "visit_id             0\n",
       "user_id              0\n",
       "visit_number         0\n",
       "date                 0\n",
       "article_name         0\n",
       "article_id           0\n",
       "category             0\n",
       "brand                0\n",
       "price                0\n",
       "quantity             0\n",
       "device_category      0\n",
       "device_browser       0\n",
       "device_os            0\n",
       "country              0\n",
       "region               0\n",
       "city_id              0\n",
       "product_line         0\n",
       "product_group        0\n",
       "campaign_involved    0\n",
       "dtype: int64"
      ]
     },
     "execution_count": 22,
     "metadata": {},
     "output_type": "execute_result"
    }
   ],
   "source": [
    "df.isna().sum()"
   ]
  },
  {
   "cell_type": "code",
   "execution_count": 23,
   "metadata": {
    "scrolled": true
   },
   "outputs": [
    {
     "data": {
      "text/plain": [
       "visit_id                  0\n",
       "user_id                   0\n",
       "visit_number              0\n",
       "date                      0\n",
       "article_name              0\n",
       "article_id                0\n",
       "category              41935\n",
       "brand                398925\n",
       "price                     0\n",
       "quantity                  0\n",
       "device_category           0\n",
       "device_browser            0\n",
       "device_os                75\n",
       "country                1178\n",
       "region                 7731\n",
       "city_id               93307\n",
       "product_line          31227\n",
       "product_group         31227\n",
       "campaign_involved         0\n",
       "dtype: int64"
      ]
     },
     "execution_count": 23,
     "metadata": {},
     "output_type": "execute_result"
    }
   ],
   "source": [
    "#number of (not set)\n",
    "df.isin(['(not set)']).sum(axis=0)"
   ]
  },
  {
   "cell_type": "markdown",
   "metadata": {},
   "source": [
    "<a id='3.4'></a>"
   ]
  },
  {
   "cell_type": "markdown",
   "metadata": {},
   "source": [
    "## 3.4 Datatypes"
   ]
  },
  {
   "cell_type": "code",
   "execution_count": 24,
   "metadata": {
    "scrolled": true
   },
   "outputs": [],
   "source": [
    "#change visit_number and quantity to int as float does not make sense\n",
    "df = df.astype({'visit_number': 'int64', \"quantity\": \"int64\", \"article_id\": \"int64\"})\n",
    "#device stuff and brand to category\n",
    "df = df.astype({'device_category': 'category', \"device_browser\": \"category\", \"device_os\": \"category\", \"brand\": \"category\"})\n",
    "#campaign_involved to bool\n",
    "df.campaign_involved = df.campaign_involved.astype(\"bool\")"
   ]
  },
  {
   "cell_type": "code",
   "execution_count": 25,
   "metadata": {},
   "outputs": [],
   "source": [
    "#change objects to string for starters\n",
    "#df[df.select_dtypes('object').columns] = df[df.select_dtypes('object').columns].astype(np.str) \n",
    "#does not work"
   ]
  },
  {
   "cell_type": "code",
   "execution_count": 26,
   "metadata": {
    "scrolled": true
   },
   "outputs": [],
   "source": [
    "#date to date format\n",
    "df[\"date\"]= pd.to_datetime(df[\"date\"],format='%Y%m%d')"
   ]
  },
  {
   "cell_type": "code",
   "execution_count": 27,
   "metadata": {
    "scrolled": true
   },
   "outputs": [
    {
     "name": "stdout",
     "output_type": "stream",
     "text": [
      "<class 'pandas.core.frame.DataFrame'>\n",
      "Int64Index: 3016732 entries, 0 to 3016740\n",
      "Data columns (total 19 columns):\n",
      "visit_id             int64\n",
      "user_id              int64\n",
      "visit_number         int64\n",
      "date                 datetime64[ns]\n",
      "article_name         object\n",
      "article_id           int64\n",
      "category             object\n",
      "brand                category\n",
      "price                float64\n",
      "quantity             int64\n",
      "device_category      category\n",
      "device_browser       category\n",
      "device_os            category\n",
      "country              object\n",
      "region               object\n",
      "city_id              object\n",
      "product_line         object\n",
      "product_group        object\n",
      "campaign_involved    bool\n",
      "dtypes: bool(1), category(4), datetime64[ns](1), float64(1), int64(5), object(7)\n",
      "memory usage: 359.6+ MB\n"
     ]
    }
   ],
   "source": [
    "df.info()"
   ]
  },
  {
   "cell_type": "markdown",
   "metadata": {},
   "source": [
    "### Price seems wrong for the following, as the original price is around 5-8, so discounts are in the price already"
   ]
  },
  {
   "cell_type": "code",
   "execution_count": 28,
   "metadata": {
    "scrolled": false
   },
   "outputs": [
    {
     "data": {
      "text/plain": [
       "visit_id                                                  424670120783\n",
       "user_id                                                         120783\n",
       "visit_number                                                         4\n",
       "date                                               2018-07-29 00:00:00\n",
       "article_name                                  Bandana in Melange-Optik\n",
       "article_id                                               4059953239858\n",
       "category             Kinder/Kindermode/Baby Mädchen 0 - 17 Monate/A...\n",
       "brand                                                        TT_Casual\n",
       "price                                                             0.38\n",
       "quantity                                                             1\n",
       "device_category                                                desktop\n",
       "device_browser                                                 Firefox\n",
       "device_os                                                      Windows\n",
       "country                                                        Germany\n",
       "region                                                    Lower Saxony\n",
       "city_id                                                        1004514\n",
       "product_line                                                    Kinder\n",
       "product_group                                     Schuhe & Accessoires\n",
       "campaign_involved                                                 True\n",
       "Name: 658646, dtype: object"
      ]
     },
     "execution_count": 28,
     "metadata": {},
     "output_type": "execute_result"
    }
   ],
   "source": [
    "df.iloc[658646]"
   ]
  },
  {
   "cell_type": "markdown",
   "metadata": {},
   "source": [
    "### Renaming a particular article"
   ]
  },
  {
   "cell_type": "code",
   "execution_count": 29,
   "metadata": {},
   "outputs": [],
   "source": [
    "d = {'Geschenk Gutschein 10 EUR':'Geschenkgutschein 10 EUR','Geschenk Gutschein 20 EUR':'Geschenkgutschein 20 EUR','Geschenk Gutschein 50 EUR':'Geschenkgutschein 50 EUR'}\n",
    "df = df.replace(d)"
   ]
  },
  {
   "cell_type": "markdown",
   "metadata": {},
   "source": [
    "<a id='3.5'></a>"
   ]
  },
  {
   "cell_type": "markdown",
   "metadata": {},
   "source": [
    "## 3.5 Duplicates"
   ]
  },
  {
   "cell_type": "markdown",
   "metadata": {},
   "source": [
    "### Duplicated rows"
   ]
  },
  {
   "cell_type": "code",
   "execution_count": 30,
   "metadata": {},
   "outputs": [
    {
     "data": {
      "text/plain": [
       "632"
      ]
     },
     "execution_count": 30,
     "metadata": {},
     "output_type": "execute_result"
    }
   ],
   "source": [
    "df.duplicated().sum()"
   ]
  },
  {
   "cell_type": "code",
   "execution_count": 31,
   "metadata": {},
   "outputs": [],
   "source": [
    "duplicateRowsDF = df[df.duplicated(keep=False)]"
   ]
  },
  {
   "cell_type": "code",
   "execution_count": 32,
   "metadata": {},
   "outputs": [
    {
     "data": {
      "text/html": [
       "<div>\n",
       "<style scoped>\n",
       "    .dataframe tbody tr th:only-of-type {\n",
       "        vertical-align: middle;\n",
       "    }\n",
       "\n",
       "    .dataframe tbody tr th {\n",
       "        vertical-align: top;\n",
       "    }\n",
       "\n",
       "    .dataframe thead th {\n",
       "        text-align: right;\n",
       "    }\n",
       "</style>\n",
       "<table border=\"1\" class=\"dataframe\">\n",
       "  <thead>\n",
       "    <tr style=\"text-align: right;\">\n",
       "      <th></th>\n",
       "      <th>visit_id</th>\n",
       "      <th>user_id</th>\n",
       "      <th>visit_number</th>\n",
       "      <th>date</th>\n",
       "      <th>article_name</th>\n",
       "      <th>article_id</th>\n",
       "      <th>category</th>\n",
       "      <th>brand</th>\n",
       "      <th>price</th>\n",
       "      <th>quantity</th>\n",
       "      <th>device_category</th>\n",
       "      <th>device_browser</th>\n",
       "      <th>device_os</th>\n",
       "      <th>country</th>\n",
       "      <th>region</th>\n",
       "      <th>city_id</th>\n",
       "      <th>product_line</th>\n",
       "      <th>product_group</th>\n",
       "      <th>campaign_involved</th>\n",
       "    </tr>\n",
       "  </thead>\n",
       "  <tbody>\n",
       "    <tr>\n",
       "      <th>118</th>\n",
       "      <td>22892413921</td>\n",
       "      <td>413921</td>\n",
       "      <td>45</td>\n",
       "      <td>2018-07-11</td>\n",
       "      <td>Geschenkgutschein 20 EUR</td>\n",
       "      <td>200000000020</td>\n",
       "      <td>Herren</td>\n",
       "      <td>(not set)</td>\n",
       "      <td>20.00</td>\n",
       "      <td>1</td>\n",
       "      <td>desktop</td>\n",
       "      <td>Chrome</td>\n",
       "      <td>Windows</td>\n",
       "      <td>Austria</td>\n",
       "      <td>Upper Austria</td>\n",
       "      <td>1000827</td>\n",
       "      <td>Herren</td>\n",
       "      <td>Herren</td>\n",
       "      <td>False</td>\n",
       "    </tr>\n",
       "    <tr>\n",
       "      <th>119</th>\n",
       "      <td>22892413921</td>\n",
       "      <td>413921</td>\n",
       "      <td>45</td>\n",
       "      <td>2018-07-11</td>\n",
       "      <td>Geschenkgutschein 20 EUR</td>\n",
       "      <td>200000000020</td>\n",
       "      <td>Herren</td>\n",
       "      <td>(not set)</td>\n",
       "      <td>20.00</td>\n",
       "      <td>1</td>\n",
       "      <td>desktop</td>\n",
       "      <td>Chrome</td>\n",
       "      <td>Windows</td>\n",
       "      <td>Austria</td>\n",
       "      <td>Upper Austria</td>\n",
       "      <td>1000827</td>\n",
       "      <td>Herren</td>\n",
       "      <td>Herren</td>\n",
       "      <td>False</td>\n",
       "    </tr>\n",
       "    <tr>\n",
       "      <th>675</th>\n",
       "      <td>177945413228</td>\n",
       "      <td>413228</td>\n",
       "      <td>1</td>\n",
       "      <td>2019-01-01</td>\n",
       "      <td>Sneaker-Socken im Doppelpack</td>\n",
       "      <td>4002702123007</td>\n",
       "      <td>Kinder/Kindermode/Mädchen 1,5 - 7  Jahre/Schuh...</td>\n",
       "      <td>TT_Casual</td>\n",
       "      <td>2.31</td>\n",
       "      <td>1</td>\n",
       "      <td>mobile</td>\n",
       "      <td>Chrome</td>\n",
       "      <td>Android</td>\n",
       "      <td>Germany</td>\n",
       "      <td>Berlin</td>\n",
       "      <td>1003854</td>\n",
       "      <td>Kinder</td>\n",
       "      <td>Schuhe &amp; Accessoires</td>\n",
       "      <td>True</td>\n",
       "    </tr>\n",
       "    <tr>\n",
       "      <th>676</th>\n",
       "      <td>177945413228</td>\n",
       "      <td>413228</td>\n",
       "      <td>1</td>\n",
       "      <td>2019-01-01</td>\n",
       "      <td>Sneaker-Socken im Doppelpack</td>\n",
       "      <td>4002702123007</td>\n",
       "      <td>Kinder/Kindermode/Mädchen 1,5 - 7  Jahre/Schuh...</td>\n",
       "      <td>TT_Casual</td>\n",
       "      <td>2.31</td>\n",
       "      <td>1</td>\n",
       "      <td>mobile</td>\n",
       "      <td>Chrome</td>\n",
       "      <td>Android</td>\n",
       "      <td>Germany</td>\n",
       "      <td>Berlin</td>\n",
       "      <td>1003854</td>\n",
       "      <td>Kinder</td>\n",
       "      <td>Schuhe &amp; Accessoires</td>\n",
       "      <td>True</td>\n",
       "    </tr>\n",
       "    <tr>\n",
       "      <th>1010</th>\n",
       "      <td>601457557264</td>\n",
       "      <td>557264</td>\n",
       "      <td>1</td>\n",
       "      <td>2018-12-25</td>\n",
       "      <td>Sneaker-Socken im Doppelpack</td>\n",
       "      <td>4002702123014</td>\n",
       "      <td>Kinder/Kindermode/Mädchen 1,5 - 7  Jahre/Schuh...</td>\n",
       "      <td>TT_Casual</td>\n",
       "      <td>3.18</td>\n",
       "      <td>10</td>\n",
       "      <td>mobile</td>\n",
       "      <td>Chrome</td>\n",
       "      <td>iOS</td>\n",
       "      <td>Germany</td>\n",
       "      <td>Baden-Wurttemberg</td>\n",
       "      <td>1004022</td>\n",
       "      <td>Kinder</td>\n",
       "      <td>Schuhe &amp; Accessoires</td>\n",
       "      <td>False</td>\n",
       "    </tr>\n",
       "  </tbody>\n",
       "</table>\n",
       "</div>"
      ],
      "text/plain": [
       "          visit_id  user_id  visit_number       date  \\\n",
       "118    22892413921   413921            45 2018-07-11   \n",
       "119    22892413921   413921            45 2018-07-11   \n",
       "675   177945413228   413228             1 2019-01-01   \n",
       "676   177945413228   413228             1 2019-01-01   \n",
       "1010  601457557264   557264             1 2018-12-25   \n",
       "\n",
       "                      article_name     article_id  \\\n",
       "118       Geschenkgutschein 20 EUR   200000000020   \n",
       "119       Geschenkgutschein 20 EUR   200000000020   \n",
       "675   Sneaker-Socken im Doppelpack  4002702123007   \n",
       "676   Sneaker-Socken im Doppelpack  4002702123007   \n",
       "1010  Sneaker-Socken im Doppelpack  4002702123014   \n",
       "\n",
       "                                               category      brand  price  \\\n",
       "118                                              Herren  (not set)  20.00   \n",
       "119                                              Herren  (not set)  20.00   \n",
       "675   Kinder/Kindermode/Mädchen 1,5 - 7  Jahre/Schuh...  TT_Casual   2.31   \n",
       "676   Kinder/Kindermode/Mädchen 1,5 - 7  Jahre/Schuh...  TT_Casual   2.31   \n",
       "1010  Kinder/Kindermode/Mädchen 1,5 - 7  Jahre/Schuh...  TT_Casual   3.18   \n",
       "\n",
       "      quantity device_category device_browser device_os  country  \\\n",
       "118          1         desktop         Chrome   Windows  Austria   \n",
       "119          1         desktop         Chrome   Windows  Austria   \n",
       "675          1          mobile         Chrome   Android  Germany   \n",
       "676          1          mobile         Chrome   Android  Germany   \n",
       "1010        10          mobile         Chrome       iOS  Germany   \n",
       "\n",
       "                 region  city_id product_line         product_group  \\\n",
       "118       Upper Austria  1000827       Herren                Herren   \n",
       "119       Upper Austria  1000827       Herren                Herren   \n",
       "675              Berlin  1003854       Kinder  Schuhe & Accessoires   \n",
       "676              Berlin  1003854       Kinder  Schuhe & Accessoires   \n",
       "1010  Baden-Wurttemberg  1004022       Kinder  Schuhe & Accessoires   \n",
       "\n",
       "      campaign_involved  \n",
       "118               False  \n",
       "119               False  \n",
       "675                True  \n",
       "676                True  \n",
       "1010              False  "
      ]
     },
     "execution_count": 32,
     "metadata": {},
     "output_type": "execute_result"
    }
   ],
   "source": [
    "duplicateRowsDF.head()"
   ]
  },
  {
   "cell_type": "markdown",
   "metadata": {},
   "source": [
    "Note that it is not sure whether these rows are truly duplicates or just multiple purchases where the quantity wasn't set properly or the articles have the same name and price and for example different colors which this data does not tell us."
   ]
  },
  {
   "cell_type": "code",
   "execution_count": 33,
   "metadata": {
    "scrolled": true
   },
   "outputs": [],
   "source": [
    "#df.drop_duplicates(keep=\"first\", inplace=True)\n",
    "#df.reset_index()"
   ]
  },
  {
   "cell_type": "markdown",
   "metadata": {},
   "source": [
    "checking number of visits to number of entries (45 for this user)"
   ]
  },
  {
   "cell_type": "code",
   "execution_count": 34,
   "metadata": {},
   "outputs": [
    {
     "data": {
      "text/plain": [
       "230677"
      ]
     },
     "execution_count": 34,
     "metadata": {},
     "output_type": "execute_result"
    }
   ],
   "source": [
    "df.user_id[413921]"
   ]
  },
  {
   "cell_type": "code",
   "execution_count": 35,
   "metadata": {
    "scrolled": true
   },
   "outputs": [
    {
     "data": {
      "text/plain": [
       "(27, 19)"
      ]
     },
     "execution_count": 35,
     "metadata": {},
     "output_type": "execute_result"
    }
   ],
   "source": [
    "df[df['user_id'] == 413921].shape"
   ]
  },
  {
   "cell_type": "markdown",
   "metadata": {},
   "source": [
    "### Duplicates in visit_id"
   ]
  },
  {
   "cell_type": "code",
   "execution_count": 36,
   "metadata": {},
   "outputs": [
    {
     "data": {
      "text/plain": [
       "820195135969"
      ]
     },
     "execution_count": 36,
     "metadata": {},
     "output_type": "execute_result"
    }
   ],
   "source": [
    "df.visit_id.max()"
   ]
  },
  {
   "cell_type": "code",
   "execution_count": 37,
   "metadata": {},
   "outputs": [
    {
     "data": {
      "text/plain": [
       "2181687"
      ]
     },
     "execution_count": 37,
     "metadata": {},
     "output_type": "execute_result"
    }
   ],
   "source": [
    "df.visit_id.duplicated().sum()"
   ]
  },
  {
   "cell_type": "code",
   "execution_count": 38,
   "metadata": {},
   "outputs": [],
   "source": [
    "df_visits = df[df.duplicated(subset=\"visit_id\") == True]"
   ]
  },
  {
   "cell_type": "code",
   "execution_count": 39,
   "metadata": {},
   "outputs": [],
   "source": [
    "df_uniquevisits = df.drop_duplicates(subset=\"visit_id\")"
   ]
  },
  {
   "cell_type": "code",
   "execution_count": 40,
   "metadata": {},
   "outputs": [
    {
     "data": {
      "text/plain": [
       "(2181687, 19)"
      ]
     },
     "execution_count": 40,
     "metadata": {},
     "output_type": "execute_result"
    }
   ],
   "source": [
    "df_visits.shape"
   ]
  },
  {
   "cell_type": "code",
   "execution_count": 41,
   "metadata": {},
   "outputs": [
    {
     "data": {
      "text/plain": [
       "(835045, 19)"
      ]
     },
     "execution_count": 41,
     "metadata": {},
     "output_type": "execute_result"
    }
   ],
   "source": [
    "df_uniquevisits.shape"
   ]
  },
  {
   "cell_type": "code",
   "execution_count": 42,
   "metadata": {
    "scrolled": false
   },
   "outputs": [
    {
     "data": {
      "text/html": [
       "<div>\n",
       "<style scoped>\n",
       "    .dataframe tbody tr th:only-of-type {\n",
       "        vertical-align: middle;\n",
       "    }\n",
       "\n",
       "    .dataframe tbody tr th {\n",
       "        vertical-align: top;\n",
       "    }\n",
       "\n",
       "    .dataframe thead th {\n",
       "        text-align: right;\n",
       "    }\n",
       "</style>\n",
       "<table border=\"1\" class=\"dataframe\">\n",
       "  <thead>\n",
       "    <tr style=\"text-align: right;\">\n",
       "      <th></th>\n",
       "      <th>visit_id</th>\n",
       "      <th>user_id</th>\n",
       "      <th>visit_number</th>\n",
       "      <th>date</th>\n",
       "      <th>article_name</th>\n",
       "      <th>article_id</th>\n",
       "      <th>category</th>\n",
       "      <th>brand</th>\n",
       "      <th>price</th>\n",
       "      <th>quantity</th>\n",
       "      <th>device_category</th>\n",
       "      <th>device_browser</th>\n",
       "      <th>device_os</th>\n",
       "      <th>country</th>\n",
       "      <th>region</th>\n",
       "      <th>city_id</th>\n",
       "      <th>product_line</th>\n",
       "      <th>product_group</th>\n",
       "      <th>campaign_involved</th>\n",
       "    </tr>\n",
       "  </thead>\n",
       "  <tbody>\n",
       "    <tr>\n",
       "      <th>2972494</th>\n",
       "      <td>234440</td>\n",
       "      <td>40</td>\n",
       "      <td>1</td>\n",
       "      <td>2018-11-18</td>\n",
       "      <td>Schlichter Snood</td>\n",
       "      <td>4062105772851</td>\n",
       "      <td>Hoodies/Herren</td>\n",
       "      <td>TT_Denim</td>\n",
       "      <td>17.99</td>\n",
       "      <td>1</td>\n",
       "      <td>mobile</td>\n",
       "      <td>Chrome</td>\n",
       "      <td>Android</td>\n",
       "      <td>Austria</td>\n",
       "      <td>Lower Austria</td>\n",
       "      <td>1000750</td>\n",
       "      <td>Herren</td>\n",
       "      <td>Pullover &amp; Sweatshirts</td>\n",
       "      <td>True</td>\n",
       "    </tr>\n",
       "    <tr>\n",
       "      <th>2817928</th>\n",
       "      <td>234440</td>\n",
       "      <td>40</td>\n",
       "      <td>1</td>\n",
       "      <td>2018-11-18</td>\n",
       "      <td>Hoodie mit Print</td>\n",
       "      <td>4062105670652</td>\n",
       "      <td>Hoodies/Herren</td>\n",
       "      <td>TT_Casual</td>\n",
       "      <td>15.00</td>\n",
       "      <td>1</td>\n",
       "      <td>mobile</td>\n",
       "      <td>Chrome</td>\n",
       "      <td>Android</td>\n",
       "      <td>Austria</td>\n",
       "      <td>Lower Austria</td>\n",
       "      <td>1000750</td>\n",
       "      <td>Herren</td>\n",
       "      <td>Herren</td>\n",
       "      <td>True</td>\n",
       "    </tr>\n",
       "    <tr>\n",
       "      <th>2538377</th>\n",
       "      <td>234440</td>\n",
       "      <td>40</td>\n",
       "      <td>1</td>\n",
       "      <td>2018-11-18</td>\n",
       "      <td>Basic Herren-Strick-Pullover</td>\n",
       "      <td>4062105188904</td>\n",
       "      <td>Herren</td>\n",
       "      <td>TT_Casual</td>\n",
       "      <td>14.99</td>\n",
       "      <td>1</td>\n",
       "      <td>mobile</td>\n",
       "      <td>Chrome</td>\n",
       "      <td>Android</td>\n",
       "      <td>Austria</td>\n",
       "      <td>Lower Austria</td>\n",
       "      <td>1000750</td>\n",
       "      <td>Herren</td>\n",
       "      <td>Pullover &amp; Sweatshirts</td>\n",
       "      <td>True</td>\n",
       "    </tr>\n",
       "    <tr>\n",
       "      <th>2375327</th>\n",
       "      <td>276103</td>\n",
       "      <td>76103</td>\n",
       "      <td>22</td>\n",
       "      <td>2019-02-21</td>\n",
       "      <td>Culver Skinny Jeans</td>\n",
       "      <td>4061945274082</td>\n",
       "      <td>Herren/Herrenmode/Jeans/Skinny</td>\n",
       "      <td>TT_Denim</td>\n",
       "      <td>42.01</td>\n",
       "      <td>1</td>\n",
       "      <td>mobile</td>\n",
       "      <td>Safari</td>\n",
       "      <td>iOS</td>\n",
       "      <td>Germany</td>\n",
       "      <td>Berlin</td>\n",
       "      <td>1003854</td>\n",
       "      <td>Herren</td>\n",
       "      <td>Jeans</td>\n",
       "      <td>True</td>\n",
       "    </tr>\n",
       "    <tr>\n",
       "      <th>2647054</th>\n",
       "      <td>290200</td>\n",
       "      <td>200</td>\n",
       "      <td>43</td>\n",
       "      <td>2018-11-03</td>\n",
       "      <td>Steppjacke</td>\n",
       "      <td>4062105383903</td>\n",
       "      <td>Steppjacken</td>\n",
       "      <td>TT_Casual</td>\n",
       "      <td>31.51</td>\n",
       "      <td>1</td>\n",
       "      <td>mobile</td>\n",
       "      <td>Chrome</td>\n",
       "      <td>Android</td>\n",
       "      <td>Germany</td>\n",
       "      <td>Brandenburg</td>\n",
       "      <td>1003866</td>\n",
       "      <td>Herbst Outfits</td>\n",
       "      <td>Herbst Outfits</td>\n",
       "      <td>True</td>\n",
       "    </tr>\n",
       "  </tbody>\n",
       "</table>\n",
       "</div>"
      ],
      "text/plain": [
       "         visit_id  user_id  visit_number       date  \\\n",
       "2972494    234440       40             1 2018-11-18   \n",
       "2817928    234440       40             1 2018-11-18   \n",
       "2538377    234440       40             1 2018-11-18   \n",
       "2375327    276103    76103            22 2019-02-21   \n",
       "2647054    290200      200            43 2018-11-03   \n",
       "\n",
       "                         article_name     article_id  \\\n",
       "2972494              Schlichter Snood  4062105772851   \n",
       "2817928              Hoodie mit Print  4062105670652   \n",
       "2538377  Basic Herren-Strick-Pullover  4062105188904   \n",
       "2375327          Culver Skinny Jeans   4061945274082   \n",
       "2647054                    Steppjacke  4062105383903   \n",
       "\n",
       "                               category      brand  price  quantity  \\\n",
       "2972494                  Hoodies/Herren   TT_Denim  17.99         1   \n",
       "2817928                  Hoodies/Herren  TT_Casual  15.00         1   \n",
       "2538377                          Herren  TT_Casual  14.99         1   \n",
       "2375327  Herren/Herrenmode/Jeans/Skinny   TT_Denim  42.01         1   \n",
       "2647054                     Steppjacken  TT_Casual  31.51         1   \n",
       "\n",
       "        device_category device_browser device_os  country         region  \\\n",
       "2972494          mobile         Chrome   Android  Austria  Lower Austria   \n",
       "2817928          mobile         Chrome   Android  Austria  Lower Austria   \n",
       "2538377          mobile         Chrome   Android  Austria  Lower Austria   \n",
       "2375327          mobile         Safari       iOS  Germany         Berlin   \n",
       "2647054          mobile         Chrome   Android  Germany    Brandenburg   \n",
       "\n",
       "         city_id    product_line           product_group  campaign_involved  \n",
       "2972494  1000750          Herren  Pullover & Sweatshirts               True  \n",
       "2817928  1000750          Herren                  Herren               True  \n",
       "2538377  1000750          Herren  Pullover & Sweatshirts               True  \n",
       "2375327  1003854          Herren                   Jeans               True  \n",
       "2647054  1003866  Herbst Outfits          Herbst Outfits               True  "
      ]
     },
     "execution_count": 42,
     "metadata": {},
     "output_type": "execute_result"
    }
   ],
   "source": [
    "df_visits.sort_values(by=['visit_id']).head()"
   ]
  },
  {
   "cell_type": "code",
   "execution_count": 43,
   "metadata": {
    "scrolled": true
   },
   "outputs": [
    {
     "data": {
      "text/html": [
       "<div>\n",
       "<style scoped>\n",
       "    .dataframe tbody tr th:only-of-type {\n",
       "        vertical-align: middle;\n",
       "    }\n",
       "\n",
       "    .dataframe tbody tr th {\n",
       "        vertical-align: top;\n",
       "    }\n",
       "\n",
       "    .dataframe thead th {\n",
       "        text-align: right;\n",
       "    }\n",
       "</style>\n",
       "<table border=\"1\" class=\"dataframe\">\n",
       "  <thead>\n",
       "    <tr style=\"text-align: right;\">\n",
       "      <th></th>\n",
       "      <th>visit_id</th>\n",
       "      <th>user_id</th>\n",
       "      <th>visit_number</th>\n",
       "      <th>date</th>\n",
       "      <th>article_name</th>\n",
       "      <th>article_id</th>\n",
       "      <th>category</th>\n",
       "      <th>brand</th>\n",
       "      <th>price</th>\n",
       "      <th>quantity</th>\n",
       "      <th>device_category</th>\n",
       "      <th>device_browser</th>\n",
       "      <th>device_os</th>\n",
       "      <th>country</th>\n",
       "      <th>region</th>\n",
       "      <th>city_id</th>\n",
       "      <th>product_line</th>\n",
       "      <th>product_group</th>\n",
       "      <th>campaign_involved</th>\n",
       "    </tr>\n",
       "  </thead>\n",
       "  <tbody>\n",
       "    <tr>\n",
       "      <th>320852</th>\n",
       "      <td>234440</td>\n",
       "      <td>40</td>\n",
       "      <td>1</td>\n",
       "      <td>2018-11-18</td>\n",
       "      <td>Basic Herren-Strick-Pullover</td>\n",
       "      <td>4059491520210</td>\n",
       "      <td>Herren</td>\n",
       "      <td>TT_Casual</td>\n",
       "      <td>14.99</td>\n",
       "      <td>1</td>\n",
       "      <td>mobile</td>\n",
       "      <td>Chrome</td>\n",
       "      <td>Android</td>\n",
       "      <td>Austria</td>\n",
       "      <td>Lower Austria</td>\n",
       "      <td>1000750</td>\n",
       "      <td>Herren</td>\n",
       "      <td>Pullover &amp; Sweatshirts</td>\n",
       "      <td>True</td>\n",
       "    </tr>\n",
       "    <tr>\n",
       "      <th>2079241</th>\n",
       "      <td>276103</td>\n",
       "      <td>76103</td>\n",
       "      <td>22</td>\n",
       "      <td>2019-02-21</td>\n",
       "      <td>Henley T-Shirt</td>\n",
       "      <td>4060868345305</td>\n",
       "      <td>Herren/Herrenmode/T-Shirts &amp; Langarmshirts/T-S...</td>\n",
       "      <td>TT_Casual</td>\n",
       "      <td>10.91</td>\n",
       "      <td>1</td>\n",
       "      <td>mobile</td>\n",
       "      <td>Safari</td>\n",
       "      <td>iOS</td>\n",
       "      <td>Germany</td>\n",
       "      <td>Berlin</td>\n",
       "      <td>1003854</td>\n",
       "      <td>Herren</td>\n",
       "      <td>T-Shirts &amp; Langarmshirts</td>\n",
       "      <td>True</td>\n",
       "    </tr>\n",
       "    <tr>\n",
       "      <th>2645748</th>\n",
       "      <td>290200</td>\n",
       "      <td>200</td>\n",
       "      <td>43</td>\n",
       "      <td>2018-11-03</td>\n",
       "      <td>Steppjacke</td>\n",
       "      <td>4062105383569</td>\n",
       "      <td>Steppjacken/Damen</td>\n",
       "      <td>TT_Casual</td>\n",
       "      <td>31.50</td>\n",
       "      <td>1</td>\n",
       "      <td>mobile</td>\n",
       "      <td>Chrome</td>\n",
       "      <td>Android</td>\n",
       "      <td>Germany</td>\n",
       "      <td>Brandenburg</td>\n",
       "      <td>1003866</td>\n",
       "      <td>Damen</td>\n",
       "      <td>Jacken, Mäntel &amp; Westen</td>\n",
       "      <td>True</td>\n",
       "    </tr>\n",
       "    <tr>\n",
       "      <th>2830805</th>\n",
       "      <td>336120</td>\n",
       "      <td>20</td>\n",
       "      <td>2</td>\n",
       "      <td>2018-10-25</td>\n",
       "      <td>Nela Extra Skinny Jeans</td>\n",
       "      <td>4062105674247</td>\n",
       "      <td>Damen/Damenmode/Jeans/Skinny</td>\n",
       "      <td>TT_Denim</td>\n",
       "      <td>33.61</td>\n",
       "      <td>1</td>\n",
       "      <td>mobile</td>\n",
       "      <td>Chrome</td>\n",
       "      <td>Android</td>\n",
       "      <td>Germany</td>\n",
       "      <td>Saarland</td>\n",
       "      <td>9048444</td>\n",
       "      <td>Damen</td>\n",
       "      <td>Jeans</td>\n",
       "      <td>True</td>\n",
       "    </tr>\n",
       "    <tr>\n",
       "      <th>321178</th>\n",
       "      <td>366022</td>\n",
       "      <td>6022</td>\n",
       "      <td>8</td>\n",
       "      <td>2017-12-30</td>\n",
       "      <td>Basic Herren-Strick-Pullover</td>\n",
       "      <td>4059491520241</td>\n",
       "      <td>Feeling Blue Men</td>\n",
       "      <td>TT_Casual</td>\n",
       "      <td>16.80</td>\n",
       "      <td>1</td>\n",
       "      <td>desktop</td>\n",
       "      <td>Safari</td>\n",
       "      <td>Macintosh</td>\n",
       "      <td>Germany</td>\n",
       "      <td>Berlin</td>\n",
       "      <td>1003854</td>\n",
       "      <td>Feeling Blue Men</td>\n",
       "      <td>Feeling Blue Men</td>\n",
       "      <td>True</td>\n",
       "    </tr>\n",
       "  </tbody>\n",
       "</table>\n",
       "</div>"
      ],
      "text/plain": [
       "         visit_id  user_id  visit_number       date  \\\n",
       "320852     234440       40             1 2018-11-18   \n",
       "2079241    276103    76103            22 2019-02-21   \n",
       "2645748    290200      200            43 2018-11-03   \n",
       "2830805    336120       20             2 2018-10-25   \n",
       "321178     366022     6022             8 2017-12-30   \n",
       "\n",
       "                         article_name     article_id  \\\n",
       "320852   Basic Herren-Strick-Pullover  4059491520210   \n",
       "2079241               Henley T-Shirt   4060868345305   \n",
       "2645748                    Steppjacke  4062105383569   \n",
       "2830805       Nela Extra Skinny Jeans  4062105674247   \n",
       "321178   Basic Herren-Strick-Pullover  4059491520241   \n",
       "\n",
       "                                                  category      brand  price  \\\n",
       "320852                                              Herren  TT_Casual  14.99   \n",
       "2079241  Herren/Herrenmode/T-Shirts & Langarmshirts/T-S...  TT_Casual  10.91   \n",
       "2645748                                  Steppjacken/Damen  TT_Casual  31.50   \n",
       "2830805                       Damen/Damenmode/Jeans/Skinny   TT_Denim  33.61   \n",
       "321178                                    Feeling Blue Men  TT_Casual  16.80   \n",
       "\n",
       "         quantity device_category device_browser  device_os  country  \\\n",
       "320852          1          mobile         Chrome    Android  Austria   \n",
       "2079241         1          mobile         Safari        iOS  Germany   \n",
       "2645748         1          mobile         Chrome    Android  Germany   \n",
       "2830805         1          mobile         Chrome    Android  Germany   \n",
       "321178          1         desktop         Safari  Macintosh  Germany   \n",
       "\n",
       "                region  city_id      product_line             product_group  \\\n",
       "320852   Lower Austria  1000750            Herren    Pullover & Sweatshirts   \n",
       "2079241         Berlin  1003854            Herren  T-Shirts & Langarmshirts   \n",
       "2645748    Brandenburg  1003866             Damen   Jacken, Mäntel & Westen   \n",
       "2830805       Saarland  9048444             Damen                     Jeans   \n",
       "321178          Berlin  1003854  Feeling Blue Men          Feeling Blue Men   \n",
       "\n",
       "         campaign_involved  \n",
       "320852                True  \n",
       "2079241               True  \n",
       "2645748               True  \n",
       "2830805               True  \n",
       "321178                True  "
      ]
     },
     "execution_count": 43,
     "metadata": {},
     "output_type": "execute_result"
    }
   ],
   "source": [
    "df_uniquevisits.sort_values(by=[\"visit_id\"]).head()"
   ]
  },
  {
   "cell_type": "markdown",
   "metadata": {},
   "source": [
    "Duplicates in the visit_id surely denote multiple articles that were bought at the same visit, thus dropping any will not make sense. Also there were 820194 unique visit_id's, hence we know that the data consists of this number of shopping cart purchases."
   ]
  },
  {
   "cell_type": "markdown",
   "metadata": {},
   "source": [
    "<a id='4'></a>"
   ]
  },
  {
   "cell_type": "markdown",
   "metadata": {},
   "source": [
    "# 4. Understanding particular Features in Detail"
   ]
  },
  {
   "cell_type": "markdown",
   "metadata": {},
   "source": [
    "## Article names and id"
   ]
  },
  {
   "cell_type": "code",
   "execution_count": 44,
   "metadata": {},
   "outputs": [
    {
     "data": {
      "text/plain": [
       "Alexa Slim Jeans                          62458\n",
       "Josh Regular Slim Jeans                   41092\n",
       "T-Shirt mit Schrift-Print                 38895\n",
       "T-Shirt mit Print                         29257\n",
       "T-Shirt mit Logo-Print                    28231\n",
       "Marvin Straight Jeans                     27405\n",
       "Alexa Straight Jeans                      22816\n",
       "Damen-Basic-Pullover mit V-Ausschnitt     19512\n",
       "Jim Slim Bermuda Shorts                   18002\n",
       "Basic Herren-Pullover mit V-Ausschnitt    17812\n",
       "Name: article_name, dtype: int64"
      ]
     },
     "execution_count": 44,
     "metadata": {},
     "output_type": "execute_result"
    }
   ],
   "source": [
    "df.article_name.value_counts().head(10)"
   ]
  },
  {
   "cell_type": "code",
   "execution_count": 45,
   "metadata": {},
   "outputs": [
    {
     "data": {
      "text/plain": [
       "4059066698719    1728\n",
       "4059066698511    1284\n",
       "4002702235090    1215\n",
       "4059066698726    1176\n",
       "4059066698733    1054\n",
       "4059953383155     998\n",
       "4059953383148     908\n",
       "4059953383162     887\n",
       "4059953383179     861\n",
       "4059491897060     819\n",
       "Name: article_id, dtype: int64"
      ]
     },
     "execution_count": 45,
     "metadata": {},
     "output_type": "execute_result"
    }
   ],
   "source": [
    "df.article_id.value_counts().head(10)"
   ]
  },
  {
   "cell_type": "markdown",
   "metadata": {},
   "source": [
    "## Unique devices \n",
    "lets check the entries and number of occurance of the elements of the device features"
   ]
  },
  {
   "cell_type": "code",
   "execution_count": 46,
   "metadata": {},
   "outputs": [
    {
     "data": {
      "text/plain": [
       "Chrome                      994731\n",
       "Safari                      793300\n",
       "Firefox                     589700\n",
       "Samsung Internet            256273\n",
       "Edge                        155931\n",
       "Internet Explorer            88370\n",
       "Android Webview              63918\n",
       "Opera                        29834\n",
       "Safari (in-app)              28517\n",
       "Amazon Silk                  14662\n",
       "YaBrowser                      354\n",
       "SeaMonkey                      337\n",
       "Puffin                         235\n",
       "Maxthon                        217\n",
       "Android Browser                 94\n",
       "Mozilla Compatible Agent        85\n",
       "Iron                            58\n",
       "UC Browser                      43\n",
       "Playstation 4                   26\n",
       "BlackBerry                      14\n",
       "MRCHROME                        12\n",
       "Seznam                          12\n",
       "Coc Coc                          4\n",
       "Opera 9.4                        3\n",
       "Nintendo Browser                 2\n",
       "Name: device_browser, dtype: int64"
      ]
     },
     "execution_count": 46,
     "metadata": {},
     "output_type": "execute_result"
    }
   ],
   "source": [
    "df.device_browser.value_counts()"
   ]
  },
  {
   "cell_type": "code",
   "execution_count": 47,
   "metadata": {},
   "outputs": [
    {
     "data": {
      "text/plain": [
       "desktop    1371610\n",
       "mobile     1091610\n",
       "tablet      553512\n",
       "Name: device_category, dtype: int64"
      ]
     },
     "execution_count": 47,
     "metadata": {},
     "output_type": "execute_result"
    }
   ],
   "source": [
    "df.device_category.value_counts()"
   ]
  },
  {
   "cell_type": "code",
   "execution_count": 48,
   "metadata": {},
   "outputs": [
    {
     "data": {
      "text/plain": [
       "Windows          1204420\n",
       "Android           923303\n",
       "iOS               718614\n",
       "Macintosh         156569\n",
       "Linux              11633\n",
       "Chrome OS           1778\n",
       "BlackBerry           222\n",
       "(not set)             75\n",
       "Windows Phone         70\n",
       "Playstation 4         26\n",
       "Tizen                 19\n",
       "Nintendo WiiU          2\n",
       "FreeBSD                1\n",
       "Name: device_os, dtype: int64"
      ]
     },
     "execution_count": 48,
     "metadata": {},
     "output_type": "execute_result"
    }
   ],
   "source": [
    "df.device_os.value_counts()"
   ]
  },
  {
   "cell_type": "markdown",
   "metadata": {},
   "source": [
    "Nothing too surprising so far. Later we can check if there were differences in the purchases between the different features."
   ]
  },
  {
   "cell_type": "markdown",
   "metadata": {},
   "source": [
    "## Campaign_involved:"
   ]
  },
  {
   "cell_type": "code",
   "execution_count": 49,
   "metadata": {},
   "outputs": [],
   "source": [
    "camp_true = df[df.campaign_involved == True]"
   ]
  },
  {
   "cell_type": "code",
   "execution_count": 50,
   "metadata": {},
   "outputs": [
    {
     "data": {
      "text/plain": [
       "2278279"
      ]
     },
     "execution_count": 50,
     "metadata": {},
     "output_type": "execute_result"
    }
   ],
   "source": [
    "len(camp_true)"
   ]
  },
  {
   "cell_type": "code",
   "execution_count": 51,
   "metadata": {},
   "outputs": [
    {
     "data": {
      "text/html": [
       "<div>\n",
       "<style scoped>\n",
       "    .dataframe tbody tr th:only-of-type {\n",
       "        vertical-align: middle;\n",
       "    }\n",
       "\n",
       "    .dataframe tbody tr th {\n",
       "        vertical-align: top;\n",
       "    }\n",
       "\n",
       "    .dataframe thead th {\n",
       "        text-align: right;\n",
       "    }\n",
       "</style>\n",
       "<table border=\"1\" class=\"dataframe\">\n",
       "  <thead>\n",
       "    <tr style=\"text-align: right;\">\n",
       "      <th></th>\n",
       "      <th>visit_id</th>\n",
       "      <th>user_id</th>\n",
       "      <th>visit_number</th>\n",
       "      <th>date</th>\n",
       "      <th>article_name</th>\n",
       "      <th>article_id</th>\n",
       "      <th>category</th>\n",
       "      <th>brand</th>\n",
       "      <th>price</th>\n",
       "      <th>quantity</th>\n",
       "      <th>device_category</th>\n",
       "      <th>device_browser</th>\n",
       "      <th>device_os</th>\n",
       "      <th>country</th>\n",
       "      <th>region</th>\n",
       "      <th>city_id</th>\n",
       "      <th>product_line</th>\n",
       "      <th>product_group</th>\n",
       "      <th>campaign_involved</th>\n",
       "    </tr>\n",
       "  </thead>\n",
       "  <tbody>\n",
       "    <tr>\n",
       "      <th>211198</th>\n",
       "      <td>68710245653</td>\n",
       "      <td>245653</td>\n",
       "      <td>12</td>\n",
       "      <td>2018-06-23</td>\n",
       "      <td>Slipper mit Schleife</td>\n",
       "      <td>4058219402630</td>\n",
       "      <td>Schuhe</td>\n",
       "      <td>TT_Denim</td>\n",
       "      <td>26.63</td>\n",
       "      <td>1</td>\n",
       "      <td>mobile</td>\n",
       "      <td>Chrome</td>\n",
       "      <td>Android</td>\n",
       "      <td>Austria</td>\n",
       "      <td>Vienna</td>\n",
       "      <td>1000997</td>\n",
       "      <td>Schuhe &amp; Accessoires</td>\n",
       "      <td>Schuhe &amp; Accessoires</td>\n",
       "      <td>True</td>\n",
       "    </tr>\n",
       "    <tr>\n",
       "      <th>1548856</th>\n",
       "      <td>424622297659</td>\n",
       "      <td>297659</td>\n",
       "      <td>75</td>\n",
       "      <td>2018-08-22</td>\n",
       "      <td>Sweatshirt mit floraler Stickerei</td>\n",
       "      <td>4060586637874</td>\n",
       "      <td>Damen/Damenmode/Pullover &amp; Sweatshirts/Sweatsh...</td>\n",
       "      <td>TT_Denim</td>\n",
       "      <td>10.08</td>\n",
       "      <td>1</td>\n",
       "      <td>mobile</td>\n",
       "      <td>Chrome</td>\n",
       "      <td>Android</td>\n",
       "      <td>Germany</td>\n",
       "      <td>North Rhine-Westphalia</td>\n",
       "      <td>1004607</td>\n",
       "      <td>Damen</td>\n",
       "      <td>Pullover &amp; Sweatshirts</td>\n",
       "      <td>True</td>\n",
       "    </tr>\n",
       "    <tr>\n",
       "      <th>1651421</th>\n",
       "      <td>19840287065</td>\n",
       "      <td>87065</td>\n",
       "      <td>7</td>\n",
       "      <td>2018-03-20</td>\n",
       "      <td>Tapered Relaxed Hose</td>\n",
       "      <td>4060586736782</td>\n",
       "      <td>Damen/Damenmode/Hosen</td>\n",
       "      <td>TT_Casual</td>\n",
       "      <td>47.05</td>\n",
       "      <td>1</td>\n",
       "      <td>mobile</td>\n",
       "      <td>Chrome</td>\n",
       "      <td>Android</td>\n",
       "      <td>Germany</td>\n",
       "      <td>Bavaria</td>\n",
       "      <td>1004242</td>\n",
       "      <td>Damen</td>\n",
       "      <td>Hosen</td>\n",
       "      <td>True</td>\n",
       "    </tr>\n",
       "    <tr>\n",
       "      <th>2778814</th>\n",
       "      <td>756228225980</td>\n",
       "      <td>225980</td>\n",
       "      <td>15</td>\n",
       "      <td>2019-01-16</td>\n",
       "      <td>Pullover mit Strukturmuster</td>\n",
       "      <td>4062105573335</td>\n",
       "      <td>Damen/Damenmode/Pullover &amp; Sweatshirts/Pullover</td>\n",
       "      <td>TT_Casual</td>\n",
       "      <td>29.40</td>\n",
       "      <td>1</td>\n",
       "      <td>mobile</td>\n",
       "      <td>Chrome</td>\n",
       "      <td>Android</td>\n",
       "      <td>Germany</td>\n",
       "      <td>Lower Saxony</td>\n",
       "      <td>1004537</td>\n",
       "      <td>Damen</td>\n",
       "      <td>Pullover &amp; Sweatshirts</td>\n",
       "      <td>True</td>\n",
       "    </tr>\n",
       "    <tr>\n",
       "      <th>2147697</th>\n",
       "      <td>381538211367</td>\n",
       "      <td>211367</td>\n",
       "      <td>5</td>\n",
       "      <td>2018-10-17</td>\n",
       "      <td>Gemustertes Shirt</td>\n",
       "      <td>4060868496137</td>\n",
       "      <td>Langarmshirts</td>\n",
       "      <td>TT_Casual</td>\n",
       "      <td>24.99</td>\n",
       "      <td>1</td>\n",
       "      <td>mobile</td>\n",
       "      <td>Chrome</td>\n",
       "      <td>Android</td>\n",
       "      <td>Austria</td>\n",
       "      <td>Carinthia</td>\n",
       "      <td>1000700</td>\n",
       "      <td>Damen</td>\n",
       "      <td>T-Shirts &amp; Langarmshirts</td>\n",
       "      <td>True</td>\n",
       "    </tr>\n",
       "  </tbody>\n",
       "</table>\n",
       "</div>"
      ],
      "text/plain": [
       "             visit_id  user_id  visit_number       date  \\\n",
       "211198    68710245653   245653            12 2018-06-23   \n",
       "1548856  424622297659   297659            75 2018-08-22   \n",
       "1651421   19840287065    87065             7 2018-03-20   \n",
       "2778814  756228225980   225980            15 2019-01-16   \n",
       "2147697  381538211367   211367             5 2018-10-17   \n",
       "\n",
       "                              article_name     article_id  \\\n",
       "211198                Slipper mit Schleife  4058219402630   \n",
       "1548856  Sweatshirt mit floraler Stickerei  4060586637874   \n",
       "1651421               Tapered Relaxed Hose  4060586736782   \n",
       "2778814        Pullover mit Strukturmuster  4062105573335   \n",
       "2147697                  Gemustertes Shirt  4060868496137   \n",
       "\n",
       "                                                  category      brand  price  \\\n",
       "211198                                              Schuhe   TT_Denim  26.63   \n",
       "1548856  Damen/Damenmode/Pullover & Sweatshirts/Sweatsh...   TT_Denim  10.08   \n",
       "1651421                              Damen/Damenmode/Hosen  TT_Casual  47.05   \n",
       "2778814    Damen/Damenmode/Pullover & Sweatshirts/Pullover  TT_Casual  29.40   \n",
       "2147697                                      Langarmshirts  TT_Casual  24.99   \n",
       "\n",
       "         quantity device_category device_browser device_os  country  \\\n",
       "211198          1          mobile         Chrome   Android  Austria   \n",
       "1548856         1          mobile         Chrome   Android  Germany   \n",
       "1651421         1          mobile         Chrome   Android  Germany   \n",
       "2778814         1          mobile         Chrome   Android  Germany   \n",
       "2147697         1          mobile         Chrome   Android  Austria   \n",
       "\n",
       "                         region  city_id          product_line  \\\n",
       "211198                   Vienna  1000997  Schuhe & Accessoires   \n",
       "1548856  North Rhine-Westphalia  1004607                 Damen   \n",
       "1651421                 Bavaria  1004242                 Damen   \n",
       "2778814            Lower Saxony  1004537                 Damen   \n",
       "2147697               Carinthia  1000700                 Damen   \n",
       "\n",
       "                    product_group  campaign_involved  \n",
       "211198       Schuhe & Accessoires               True  \n",
       "1548856    Pullover & Sweatshirts               True  \n",
       "1651421                     Hosen               True  \n",
       "2778814    Pullover & Sweatshirts               True  \n",
       "2147697  T-Shirts & Langarmshirts               True  "
      ]
     },
     "execution_count": 51,
     "metadata": {},
     "output_type": "execute_result"
    }
   ],
   "source": [
    "camp_true.sample(n=5)"
   ]
  },
  {
   "cell_type": "code",
   "execution_count": 52,
   "metadata": {},
   "outputs": [],
   "source": [
    "camp_false = df[df.campaign_involved == False]"
   ]
  },
  {
   "cell_type": "code",
   "execution_count": 53,
   "metadata": {},
   "outputs": [
    {
     "data": {
      "text/plain": [
       "738453"
      ]
     },
     "execution_count": 53,
     "metadata": {},
     "output_type": "execute_result"
    }
   ],
   "source": [
    "len(camp_false)"
   ]
  },
  {
   "cell_type": "code",
   "execution_count": 54,
   "metadata": {
    "scrolled": true
   },
   "outputs": [
    {
     "data": {
      "text/html": [
       "<div>\n",
       "<style scoped>\n",
       "    .dataframe tbody tr th:only-of-type {\n",
       "        vertical-align: middle;\n",
       "    }\n",
       "\n",
       "    .dataframe tbody tr th {\n",
       "        vertical-align: top;\n",
       "    }\n",
       "\n",
       "    .dataframe thead th {\n",
       "        text-align: right;\n",
       "    }\n",
       "</style>\n",
       "<table border=\"1\" class=\"dataframe\">\n",
       "  <thead>\n",
       "    <tr style=\"text-align: right;\">\n",
       "      <th></th>\n",
       "      <th>visit_id</th>\n",
       "      <th>user_id</th>\n",
       "      <th>visit_number</th>\n",
       "      <th>date</th>\n",
       "      <th>article_name</th>\n",
       "      <th>article_id</th>\n",
       "      <th>category</th>\n",
       "      <th>brand</th>\n",
       "      <th>price</th>\n",
       "      <th>quantity</th>\n",
       "      <th>device_category</th>\n",
       "      <th>device_browser</th>\n",
       "      <th>device_os</th>\n",
       "      <th>country</th>\n",
       "      <th>region</th>\n",
       "      <th>city_id</th>\n",
       "      <th>product_line</th>\n",
       "      <th>product_group</th>\n",
       "      <th>campaign_involved</th>\n",
       "    </tr>\n",
       "  </thead>\n",
       "  <tbody>\n",
       "    <tr>\n",
       "      <th>35271</th>\n",
       "      <td>505889355464</td>\n",
       "      <td>355464</td>\n",
       "      <td>5</td>\n",
       "      <td>2017-11-13</td>\n",
       "      <td>Hip-Pants im 3er-Pack</td>\n",
       "      <td>4011694579266</td>\n",
       "      <td>Herren/Herrenmode/Underwear &amp; Pyjamas</td>\n",
       "      <td>TT_Casual</td>\n",
       "      <td>15.12</td>\n",
       "      <td>1</td>\n",
       "      <td>mobile</td>\n",
       "      <td>Firefox</td>\n",
       "      <td>Android</td>\n",
       "      <td>Germany</td>\n",
       "      <td>Berlin</td>\n",
       "      <td>1003854</td>\n",
       "      <td>Herren</td>\n",
       "      <td>Underwear &amp; Pyjamas</td>\n",
       "      <td>False</td>\n",
       "    </tr>\n",
       "    <tr>\n",
       "      <th>35274</th>\n",
       "      <td>383063313091</td>\n",
       "      <td>313091</td>\n",
       "      <td>2</td>\n",
       "      <td>2018-03-24</td>\n",
       "      <td>Hip-Pants im 3er-Pack</td>\n",
       "      <td>4011694579266</td>\n",
       "      <td>Herren/Herrenmode/Underwear &amp; Pyjamas</td>\n",
       "      <td>TT_Casual</td>\n",
       "      <td>18.90</td>\n",
       "      <td>1</td>\n",
       "      <td>tablet</td>\n",
       "      <td>Safari</td>\n",
       "      <td>iOS</td>\n",
       "      <td>Germany</td>\n",
       "      <td>Schleswig-Holstein</td>\n",
       "      <td>9048708</td>\n",
       "      <td>Herren</td>\n",
       "      <td>Underwear &amp; Pyjamas</td>\n",
       "      <td>False</td>\n",
       "    </tr>\n",
       "    <tr>\n",
       "      <th>35277</th>\n",
       "      <td>201946434776</td>\n",
       "      <td>434776</td>\n",
       "      <td>6</td>\n",
       "      <td>2018-07-29</td>\n",
       "      <td>Hip-Pants im 3er-Pack</td>\n",
       "      <td>4011694579266</td>\n",
       "      <td>Herren/Herrenmode/Underwear &amp; Pyjamas</td>\n",
       "      <td>TT_Casual</td>\n",
       "      <td>25.20</td>\n",
       "      <td>1</td>\n",
       "      <td>desktop</td>\n",
       "      <td>Firefox</td>\n",
       "      <td>Windows</td>\n",
       "      <td>Germany</td>\n",
       "      <td>Schleswig-Holstein</td>\n",
       "      <td>1004866</td>\n",
       "      <td>Herren</td>\n",
       "      <td>Underwear &amp; Pyjamas</td>\n",
       "      <td>False</td>\n",
       "    </tr>\n",
       "    <tr>\n",
       "      <th>35281</th>\n",
       "      <td>333769606504</td>\n",
       "      <td>606504</td>\n",
       "      <td>1</td>\n",
       "      <td>2018-09-17</td>\n",
       "      <td>Hip-Pants im 3er-Pack</td>\n",
       "      <td>4011694579266</td>\n",
       "      <td>Herren/Herrenmode/Underwear &amp; Pyjamas</td>\n",
       "      <td>TT_Casual</td>\n",
       "      <td>20.16</td>\n",
       "      <td>1</td>\n",
       "      <td>desktop</td>\n",
       "      <td>Chrome</td>\n",
       "      <td>Macintosh</td>\n",
       "      <td>Germany</td>\n",
       "      <td>Berlin</td>\n",
       "      <td>1003854</td>\n",
       "      <td>Herren</td>\n",
       "      <td>Underwear &amp; Pyjamas</td>\n",
       "      <td>False</td>\n",
       "    </tr>\n",
       "    <tr>\n",
       "      <th>35295</th>\n",
       "      <td>14858564131</td>\n",
       "      <td>564131</td>\n",
       "      <td>1</td>\n",
       "      <td>2019-02-04</td>\n",
       "      <td>Hip-Pants im 3er-Pack</td>\n",
       "      <td>4011694579266</td>\n",
       "      <td>Herren/Herrenmode/Underwear &amp; Pyjamas</td>\n",
       "      <td>TT_Casual</td>\n",
       "      <td>16.80</td>\n",
       "      <td>1</td>\n",
       "      <td>desktop</td>\n",
       "      <td>Firefox</td>\n",
       "      <td>Macintosh</td>\n",
       "      <td>Germany</td>\n",
       "      <td>Lower Saxony</td>\n",
       "      <td>1004536</td>\n",
       "      <td>Herren</td>\n",
       "      <td>Underwear &amp; Pyjamas</td>\n",
       "      <td>False</td>\n",
       "    </tr>\n",
       "  </tbody>\n",
       "</table>\n",
       "</div>"
      ],
      "text/plain": [
       "           visit_id  user_id  visit_number       date           article_name  \\\n",
       "35271  505889355464   355464             5 2017-11-13  Hip-Pants im 3er-Pack   \n",
       "35274  383063313091   313091             2 2018-03-24  Hip-Pants im 3er-Pack   \n",
       "35277  201946434776   434776             6 2018-07-29  Hip-Pants im 3er-Pack   \n",
       "35281  333769606504   606504             1 2018-09-17  Hip-Pants im 3er-Pack   \n",
       "35295   14858564131   564131             1 2019-02-04  Hip-Pants im 3er-Pack   \n",
       "\n",
       "          article_id                               category      brand  price  \\\n",
       "35271  4011694579266  Herren/Herrenmode/Underwear & Pyjamas  TT_Casual  15.12   \n",
       "35274  4011694579266  Herren/Herrenmode/Underwear & Pyjamas  TT_Casual  18.90   \n",
       "35277  4011694579266  Herren/Herrenmode/Underwear & Pyjamas  TT_Casual  25.20   \n",
       "35281  4011694579266  Herren/Herrenmode/Underwear & Pyjamas  TT_Casual  20.16   \n",
       "35295  4011694579266  Herren/Herrenmode/Underwear & Pyjamas  TT_Casual  16.80   \n",
       "\n",
       "       quantity device_category device_browser  device_os  country  \\\n",
       "35271         1          mobile        Firefox    Android  Germany   \n",
       "35274         1          tablet         Safari        iOS  Germany   \n",
       "35277         1         desktop        Firefox    Windows  Germany   \n",
       "35281         1         desktop         Chrome  Macintosh  Germany   \n",
       "35295         1         desktop        Firefox  Macintosh  Germany   \n",
       "\n",
       "                   region  city_id product_line        product_group  \\\n",
       "35271              Berlin  1003854       Herren  Underwear & Pyjamas   \n",
       "35274  Schleswig-Holstein  9048708       Herren  Underwear & Pyjamas   \n",
       "35277  Schleswig-Holstein  1004866       Herren  Underwear & Pyjamas   \n",
       "35281              Berlin  1003854       Herren  Underwear & Pyjamas   \n",
       "35295        Lower Saxony  1004536       Herren  Underwear & Pyjamas   \n",
       "\n",
       "       campaign_involved  \n",
       "35271              False  \n",
       "35274              False  \n",
       "35277              False  \n",
       "35281              False  \n",
       "35295              False  "
      ]
     },
     "execution_count": 54,
     "metadata": {},
     "output_type": "execute_result"
    }
   ],
   "source": [
    "camp_false[camp_false[\"article_id\"]==4011694579266].head()"
   ]
  },
  {
   "cell_type": "code",
   "execution_count": 55,
   "metadata": {},
   "outputs": [
    {
     "data": {
      "text/html": [
       "<div>\n",
       "<style scoped>\n",
       "    .dataframe tbody tr th:only-of-type {\n",
       "        vertical-align: middle;\n",
       "    }\n",
       "\n",
       "    .dataframe tbody tr th {\n",
       "        vertical-align: top;\n",
       "    }\n",
       "\n",
       "    .dataframe thead th {\n",
       "        text-align: right;\n",
       "    }\n",
       "</style>\n",
       "<table border=\"1\" class=\"dataframe\">\n",
       "  <thead>\n",
       "    <tr style=\"text-align: right;\">\n",
       "      <th></th>\n",
       "      <th>visit_id</th>\n",
       "      <th>user_id</th>\n",
       "      <th>visit_number</th>\n",
       "      <th>date</th>\n",
       "      <th>article_name</th>\n",
       "      <th>article_id</th>\n",
       "      <th>category</th>\n",
       "      <th>brand</th>\n",
       "      <th>price</th>\n",
       "      <th>quantity</th>\n",
       "      <th>device_category</th>\n",
       "      <th>device_browser</th>\n",
       "      <th>device_os</th>\n",
       "      <th>country</th>\n",
       "      <th>region</th>\n",
       "      <th>city_id</th>\n",
       "      <th>product_line</th>\n",
       "      <th>product_group</th>\n",
       "      <th>campaign_involved</th>\n",
       "    </tr>\n",
       "  </thead>\n",
       "  <tbody>\n",
       "    <tr>\n",
       "      <th>35270</th>\n",
       "      <td>723099348206</td>\n",
       "      <td>348206</td>\n",
       "      <td>6</td>\n",
       "      <td>2017-11-13</td>\n",
       "      <td>Hip-Pants im 3er-Pack</td>\n",
       "      <td>4011694579266</td>\n",
       "      <td>Herren/Herrenmode/Underwear &amp; Pyjamas</td>\n",
       "      <td>TT_Casual</td>\n",
       "      <td>21.42</td>\n",
       "      <td>1</td>\n",
       "      <td>mobile</td>\n",
       "      <td>Samsung Internet</td>\n",
       "      <td>Android</td>\n",
       "      <td>Germany</td>\n",
       "      <td>Berlin</td>\n",
       "      <td>1003854</td>\n",
       "      <td>Herren</td>\n",
       "      <td>Underwear &amp; Pyjamas</td>\n",
       "      <td>True</td>\n",
       "    </tr>\n",
       "    <tr>\n",
       "      <th>35272</th>\n",
       "      <td>539377527591</td>\n",
       "      <td>527591</td>\n",
       "      <td>6</td>\n",
       "      <td>2018-08-29</td>\n",
       "      <td>Hip-Pants im 3er-Pack</td>\n",
       "      <td>4011694579266</td>\n",
       "      <td>Herren/Herrenmode/Underwear &amp; Pyjamas</td>\n",
       "      <td>TT_Casual</td>\n",
       "      <td>25.21</td>\n",
       "      <td>1</td>\n",
       "      <td>mobile</td>\n",
       "      <td>Samsung Internet</td>\n",
       "      <td>Android</td>\n",
       "      <td>Germany</td>\n",
       "      <td>Bavaria</td>\n",
       "      <td>1004269</td>\n",
       "      <td>Herren</td>\n",
       "      <td>Underwear &amp; Pyjamas</td>\n",
       "      <td>True</td>\n",
       "    </tr>\n",
       "    <tr>\n",
       "      <th>35273</th>\n",
       "      <td>54340111696</td>\n",
       "      <td>111696</td>\n",
       "      <td>2</td>\n",
       "      <td>2018-09-08</td>\n",
       "      <td>Hip-Pants im 3er-Pack</td>\n",
       "      <td>4011694579266</td>\n",
       "      <td>Herren/Herrenmode/Underwear &amp; Pyjamas</td>\n",
       "      <td>TT_Casual</td>\n",
       "      <td>18.90</td>\n",
       "      <td>1</td>\n",
       "      <td>desktop</td>\n",
       "      <td>Chrome</td>\n",
       "      <td>Chrome OS</td>\n",
       "      <td>Germany</td>\n",
       "      <td>Lower Saxony</td>\n",
       "      <td>9048874</td>\n",
       "      <td>Herren</td>\n",
       "      <td>Underwear &amp; Pyjamas</td>\n",
       "      <td>True</td>\n",
       "    </tr>\n",
       "    <tr>\n",
       "      <th>35275</th>\n",
       "      <td>492320350403</td>\n",
       "      <td>350403</td>\n",
       "      <td>6</td>\n",
       "      <td>2018-10-26</td>\n",
       "      <td>Hip-Pants im 3er-Pack</td>\n",
       "      <td>4011694579266</td>\n",
       "      <td>Herren/Herrenmode/Underwear &amp; Pyjamas</td>\n",
       "      <td>TT_Casual</td>\n",
       "      <td>14.70</td>\n",
       "      <td>2</td>\n",
       "      <td>desktop</td>\n",
       "      <td>Chrome</td>\n",
       "      <td>Windows</td>\n",
       "      <td>Germany</td>\n",
       "      <td>North Rhine-Westphalia</td>\n",
       "      <td>1004761</td>\n",
       "      <td>Herren</td>\n",
       "      <td>Underwear &amp; Pyjamas</td>\n",
       "      <td>True</td>\n",
       "    </tr>\n",
       "    <tr>\n",
       "      <th>35276</th>\n",
       "      <td>31699418198</td>\n",
       "      <td>418198</td>\n",
       "      <td>1</td>\n",
       "      <td>2018-09-13</td>\n",
       "      <td>Hip-Pants im 3er-Pack</td>\n",
       "      <td>4011694579266</td>\n",
       "      <td>Herren/Herrenmode/Underwear &amp; Pyjamas</td>\n",
       "      <td>TT_Casual</td>\n",
       "      <td>18.90</td>\n",
       "      <td>1</td>\n",
       "      <td>mobile</td>\n",
       "      <td>Chrome</td>\n",
       "      <td>Android</td>\n",
       "      <td>Germany</td>\n",
       "      <td>Thuringia</td>\n",
       "      <td>1004999</td>\n",
       "      <td>Herren</td>\n",
       "      <td>Underwear &amp; Pyjamas</td>\n",
       "      <td>True</td>\n",
       "    </tr>\n",
       "  </tbody>\n",
       "</table>\n",
       "</div>"
      ],
      "text/plain": [
       "           visit_id  user_id  visit_number       date           article_name  \\\n",
       "35270  723099348206   348206             6 2017-11-13  Hip-Pants im 3er-Pack   \n",
       "35272  539377527591   527591             6 2018-08-29  Hip-Pants im 3er-Pack   \n",
       "35273   54340111696   111696             2 2018-09-08  Hip-Pants im 3er-Pack   \n",
       "35275  492320350403   350403             6 2018-10-26  Hip-Pants im 3er-Pack   \n",
       "35276   31699418198   418198             1 2018-09-13  Hip-Pants im 3er-Pack   \n",
       "\n",
       "          article_id                               category      brand  price  \\\n",
       "35270  4011694579266  Herren/Herrenmode/Underwear & Pyjamas  TT_Casual  21.42   \n",
       "35272  4011694579266  Herren/Herrenmode/Underwear & Pyjamas  TT_Casual  25.21   \n",
       "35273  4011694579266  Herren/Herrenmode/Underwear & Pyjamas  TT_Casual  18.90   \n",
       "35275  4011694579266  Herren/Herrenmode/Underwear & Pyjamas  TT_Casual  14.70   \n",
       "35276  4011694579266  Herren/Herrenmode/Underwear & Pyjamas  TT_Casual  18.90   \n",
       "\n",
       "       quantity device_category    device_browser  device_os  country  \\\n",
       "35270         1          mobile  Samsung Internet    Android  Germany   \n",
       "35272         1          mobile  Samsung Internet    Android  Germany   \n",
       "35273         1         desktop            Chrome  Chrome OS  Germany   \n",
       "35275         2         desktop            Chrome    Windows  Germany   \n",
       "35276         1          mobile            Chrome    Android  Germany   \n",
       "\n",
       "                       region  city_id product_line        product_group  \\\n",
       "35270                  Berlin  1003854       Herren  Underwear & Pyjamas   \n",
       "35272                 Bavaria  1004269       Herren  Underwear & Pyjamas   \n",
       "35273            Lower Saxony  9048874       Herren  Underwear & Pyjamas   \n",
       "35275  North Rhine-Westphalia  1004761       Herren  Underwear & Pyjamas   \n",
       "35276               Thuringia  1004999       Herren  Underwear & Pyjamas   \n",
       "\n",
       "       campaign_involved  \n",
       "35270               True  \n",
       "35272               True  \n",
       "35273               True  \n",
       "35275               True  \n",
       "35276               True  "
      ]
     },
     "execution_count": 55,
     "metadata": {},
     "output_type": "execute_result"
    }
   ],
   "source": [
    "camp_true[camp_true[\"article_id\"]==4011694579266].head()"
   ]
  },
  {
   "cell_type": "markdown",
   "metadata": {},
   "source": [
    "we see, that campaign_involved can not mean discounts"
   ]
  },
  {
   "cell_type": "markdown",
   "metadata": {},
   "source": [
    "## Number of occurence of countries"
   ]
  },
  {
   "cell_type": "code",
   "execution_count": 56,
   "metadata": {
    "scrolled": true
   },
   "outputs": [
    {
     "data": {
      "text/plain": [
       "Germany        2756836\n",
       "Austria         196950\n",
       "Netherlands      22547\n",
       "Switzerland       5425\n",
       "Belgium           2434\n",
       "Name: country, dtype: int64"
      ]
     },
     "execution_count": 56,
     "metadata": {},
     "output_type": "execute_result"
    }
   ],
   "source": [
    "df.country.value_counts().head()"
   ]
  },
  {
   "cell_type": "markdown",
   "metadata": {},
   "source": [
    "## Check for missing dates "
   ]
  },
  {
   "cell_type": "code",
   "execution_count": 57,
   "metadata": {},
   "outputs": [
    {
     "data": {
      "text/plain": [
       "[]"
      ]
     },
     "execution_count": 57,
     "metadata": {},
     "output_type": "execute_result"
    }
   ],
   "source": [
    "from datetime import date, timedelta\n",
    "date_set = set(df.date.min() + timedelta(x) for x in range((df.date.max() - df.date.min()).days))\n",
    "missing = sorted(date_set - set(df.date))\n",
    "missing"
   ]
  },
  {
   "cell_type": "markdown",
   "metadata": {},
   "source": [
    "As we can see there are no missing days in the date Data."
   ]
  },
  {
   "cell_type": "markdown",
   "metadata": {},
   "source": [
    "<a id='5'></a>"
   ]
  },
  {
   "cell_type": "markdown",
   "metadata": {},
   "source": [
    "# 5. Feature Engineering"
   ]
  },
  {
   "cell_type": "markdown",
   "metadata": {},
   "source": [
    "<a id='5.1'></a>"
   ]
  },
  {
   "cell_type": "markdown",
   "metadata": {},
   "source": [
    "## 5.1 Cities by Code"
   ]
  },
  {
   "cell_type": "code",
   "execution_count": 58,
   "metadata": {
    "scrolled": false
   },
   "outputs": [
    {
     "data": {
      "text/html": [
       "<div>\n",
       "<style scoped>\n",
       "    .dataframe tbody tr th:only-of-type {\n",
       "        vertical-align: middle;\n",
       "    }\n",
       "\n",
       "    .dataframe tbody tr th {\n",
       "        vertical-align: top;\n",
       "    }\n",
       "\n",
       "    .dataframe thead th {\n",
       "        text-align: right;\n",
       "    }\n",
       "</style>\n",
       "<table border=\"1\" class=\"dataframe\">\n",
       "  <thead>\n",
       "    <tr style=\"text-align: right;\">\n",
       "      <th></th>\n",
       "      <th>Criteria ID</th>\n",
       "      <th>Name</th>\n",
       "      <th>Canonical Name</th>\n",
       "      <th>Parent ID</th>\n",
       "      <th>Country Code</th>\n",
       "      <th>Target Type</th>\n",
       "      <th>Status</th>\n",
       "    </tr>\n",
       "  </thead>\n",
       "  <tbody>\n",
       "    <tr>\n",
       "      <th>0</th>\n",
       "      <td>1000002</td>\n",
       "      <td>Kabul</td>\n",
       "      <td>Kabul,Kabul,Afghanistan</td>\n",
       "      <td>9075393.0</td>\n",
       "      <td>AF</td>\n",
       "      <td>City</td>\n",
       "      <td>Active</td>\n",
       "    </tr>\n",
       "    <tr>\n",
       "      <th>1</th>\n",
       "      <td>1000003</td>\n",
       "      <td>Luanda</td>\n",
       "      <td>Luanda,Luanda Province,Angola</td>\n",
       "      <td>9070431.0</td>\n",
       "      <td>AO</td>\n",
       "      <td>City</td>\n",
       "      <td>Active</td>\n",
       "    </tr>\n",
       "    <tr>\n",
       "      <th>2</th>\n",
       "      <td>1000004</td>\n",
       "      <td>The Valley</td>\n",
       "      <td>The Valley,Anguilla</td>\n",
       "      <td>2660.0</td>\n",
       "      <td>AI</td>\n",
       "      <td>City</td>\n",
       "      <td>Active</td>\n",
       "    </tr>\n",
       "    <tr>\n",
       "      <th>3</th>\n",
       "      <td>1000010</td>\n",
       "      <td>Abu Dhabi</td>\n",
       "      <td>Abu Dhabi,Abu Dhabi,United Arab Emirates</td>\n",
       "      <td>9041082.0</td>\n",
       "      <td>AE</td>\n",
       "      <td>City</td>\n",
       "      <td>Active</td>\n",
       "    </tr>\n",
       "    <tr>\n",
       "      <th>4</th>\n",
       "      <td>1000011</td>\n",
       "      <td>Ajman</td>\n",
       "      <td>Ajman,Ajman,United Arab Emirates</td>\n",
       "      <td>9047096.0</td>\n",
       "      <td>AE</td>\n",
       "      <td>City</td>\n",
       "      <td>Active</td>\n",
       "    </tr>\n",
       "  </tbody>\n",
       "</table>\n",
       "</div>"
      ],
      "text/plain": [
       "   Criteria ID        Name                            Canonical Name  \\\n",
       "0      1000002       Kabul                   Kabul,Kabul,Afghanistan   \n",
       "1      1000003      Luanda             Luanda,Luanda Province,Angola   \n",
       "2      1000004  The Valley                       The Valley,Anguilla   \n",
       "3      1000010   Abu Dhabi  Abu Dhabi,Abu Dhabi,United Arab Emirates   \n",
       "4      1000011       Ajman          Ajman,Ajman,United Arab Emirates   \n",
       "\n",
       "   Parent ID Country Code Target Type  Status  \n",
       "0  9075393.0           AF        City  Active  \n",
       "1  9070431.0           AO        City  Active  \n",
       "2     2660.0           AI        City  Active  \n",
       "3  9041082.0           AE        City  Active  \n",
       "4  9047096.0           AE        City  Active  "
      ]
     },
     "execution_count": 58,
     "metadata": {},
     "output_type": "execute_result"
    }
   ],
   "source": [
    "df_geotargets.head()"
   ]
  },
  {
   "cell_type": "code",
   "execution_count": 59,
   "metadata": {},
   "outputs": [],
   "source": [
    "#Criteria ID as index\n",
    "df_geotargets_clean = df_geotargets.set_index(\"Criteria ID\")"
   ]
  },
  {
   "cell_type": "code",
   "execution_count": 60,
   "metadata": {},
   "outputs": [],
   "source": [
    "#take just the Name column\n",
    "df_geotargets_clean = df_geotargets_clean[\"Name\"]"
   ]
  },
  {
   "cell_type": "code",
   "execution_count": 61,
   "metadata": {},
   "outputs": [],
   "source": [
    "#get a dictionary from the dataframe\n",
    "geodic = df_geotargets_clean.to_dict()"
   ]
  },
  {
   "cell_type": "code",
   "execution_count": 62,
   "metadata": {},
   "outputs": [],
   "source": [
    "#entry for not set ids\n",
    "geodic[0] = \"(not set)\""
   ]
  },
  {
   "cell_type": "code",
   "execution_count": 63,
   "metadata": {},
   "outputs": [],
   "source": [
    "#replace not set with a number for a moment to change to int\n",
    "df[\"city_id\"] = df[\"city_id\"].replace({\"(not set)\": 0})"
   ]
  },
  {
   "cell_type": "code",
   "execution_count": 64,
   "metadata": {},
   "outputs": [],
   "source": [
    "#change city_id type to int\n",
    "df = df.astype({'city_id': 'int64'})"
   ]
  },
  {
   "cell_type": "code",
   "execution_count": 65,
   "metadata": {},
   "outputs": [],
   "source": [
    "#map cities to dataframe with new column city\n",
    "df[\"city\"] = df[\"city_id\"].map(geodic)"
   ]
  },
  {
   "cell_type": "code",
   "execution_count": 66,
   "metadata": {
    "scrolled": true
   },
   "outputs": [
    {
     "data": {
      "text/plain": [
       "visit_id               0\n",
       "user_id                0\n",
       "visit_number           0\n",
       "date                   0\n",
       "article_name           0\n",
       "article_id             0\n",
       "category               0\n",
       "brand                  0\n",
       "price                  0\n",
       "quantity               0\n",
       "device_category        0\n",
       "device_browser         0\n",
       "device_os              0\n",
       "country                0\n",
       "region                 0\n",
       "city_id                0\n",
       "product_line           0\n",
       "product_group          0\n",
       "campaign_involved      0\n",
       "city                 640\n",
       "dtype: int64"
      ]
     },
     "execution_count": 66,
     "metadata": {},
     "output_type": "execute_result"
    }
   ],
   "source": [
    "#nans in cities by ids that were not found\n",
    "df.isna().sum()"
   ]
  },
  {
   "cell_type": "code",
   "execution_count": 67,
   "metadata": {},
   "outputs": [],
   "source": [
    "#df[df[\"city\"].isnull()]"
   ]
  },
  {
   "cell_type": "code",
   "execution_count": 68,
   "metadata": {},
   "outputs": [],
   "source": [
    "#fill the nans with (not set)\n",
    "df.fillna(value={\"city\": \"(not set)\"}, inplace=True)"
   ]
  },
  {
   "cell_type": "code",
   "execution_count": 69,
   "metadata": {
    "scrolled": false
   },
   "outputs": [],
   "source": [
    "#df[df[\"city\"].isnull()][\"country\"].value_counts()"
   ]
  },
  {
   "cell_type": "code",
   "execution_count": 70,
   "metadata": {
    "scrolled": true
   },
   "outputs": [
    {
     "data": {
      "text/plain": [
       "Postal Code               48391\n",
       "City                      38097\n",
       "Neighborhood               4631\n",
       "County                     3417\n",
       "Municipality               2124\n",
       "Province                   1131\n",
       "District                    948\n",
       "Region                      909\n",
       "Congressional District      441\n",
       "Airport                     395\n",
       "Department                  240\n",
       "State                       235\n",
       "University                  219\n",
       "Country                     213\n",
       "City Region                 183\n",
       "Governorate                 121\n",
       "National Park                96\n",
       "Borough                      88\n",
       "Prefecture                   49\n",
       "Okrug                        28\n",
       "Canton                       26\n",
       "Autonomous Community         22\n",
       "TV Region                    14\n",
       "Union Territory               7\n",
       "Territory                     4\n",
       "Name: Target Type, dtype: int64"
      ]
     },
     "execution_count": 70,
     "metadata": {},
     "output_type": "execute_result"
    }
   ],
   "source": [
    "df_geotargets[\"Target Type\"].value_counts()"
   ]
  },
  {
   "cell_type": "code",
   "execution_count": 71,
   "metadata": {},
   "outputs": [],
   "source": [
    "# check of the postal codes for germany ( not useful )\n",
    "#df_geotargets[df_geotargets[\"Target Type\"] == \"Postal Code\"][df_geotargets[\"Country Code\"]==\"DE\"].head()"
   ]
  },
  {
   "cell_type": "markdown",
   "metadata": {},
   "source": [
    "<a id='5.2'></a>"
   ]
  },
  {
   "cell_type": "markdown",
   "metadata": {},
   "source": [
    "## 5.2 Timespan"
   ]
  },
  {
   "cell_type": "code",
   "execution_count": 72,
   "metadata": {},
   "outputs": [],
   "source": [
    "year_list = pd.DatetimeIndex(df['date']).year  "
   ]
  },
  {
   "cell_type": "code",
   "execution_count": 73,
   "metadata": {
    "scrolled": false
   },
   "outputs": [
    {
     "data": {
      "text/plain": [
       "Int64Index([2018, 2017, 2019], dtype='int64', name='date')"
      ]
     },
     "execution_count": 73,
     "metadata": {},
     "output_type": "execute_result"
    }
   ],
   "source": [
    "year_list.unique()"
   ]
  },
  {
   "cell_type": "code",
   "execution_count": 74,
   "metadata": {},
   "outputs": [
    {
     "data": {
      "text/plain": [
       "Timestamp('2019-02-28 00:00:00')"
      ]
     },
     "execution_count": 74,
     "metadata": {},
     "output_type": "execute_result"
    }
   ],
   "source": [
    "df.date.max()"
   ]
  },
  {
   "cell_type": "code",
   "execution_count": 75,
   "metadata": {},
   "outputs": [
    {
     "data": {
      "text/plain": [
       "Timestamp('2017-11-01 00:00:00')"
      ]
     },
     "execution_count": 75,
     "metadata": {},
     "output_type": "execute_result"
    }
   ],
   "source": [
    "df.date.min()"
   ]
  },
  {
   "cell_type": "markdown",
   "metadata": {},
   "source": [
    "We have data from 2017-11-01 till 2019-02-28"
   ]
  },
  {
   "cell_type": "markdown",
   "metadata": {},
   "source": [
    "<a id='5.3'></a>"
   ]
  },
  {
   "cell_type": "markdown",
   "metadata": {},
   "source": [
    "## 5.3 Weekdays\n",
    "monday 0 , ... , sunday 6"
   ]
  },
  {
   "cell_type": "code",
   "execution_count": 76,
   "metadata": {},
   "outputs": [],
   "source": [
    "df[\"day_of_week\"] = pd.to_datetime(df[\"date\"]).dt.dayofweek"
   ]
  },
  {
   "cell_type": "markdown",
   "metadata": {},
   "source": [
    "<a id='5.4'></a>"
   ]
  },
  {
   "cell_type": "markdown",
   "metadata": {},
   "source": [
    "## 5.4 Article Genre"
   ]
  },
  {
   "cell_type": "code",
   "execution_count": 77,
   "metadata": {},
   "outputs": [],
   "source": [
    "#put all features describing the article type together for easier use\n",
    "df[\"genre_column_placeholder\"] = df[\"article_name\"] + \"/\" + df[\"category\"] + \"/\" + df[\"product_line\"] + \"/\" + df[\"product_group\"]"
   ]
  },
  {
   "cell_type": "code",
   "execution_count": 78,
   "metadata": {},
   "outputs": [],
   "source": [
    "df.genre_column_placeholder = df.genre_column_placeholder.astype(\"str\")"
   ]
  },
  {
   "cell_type": "code",
   "execution_count": 79,
   "metadata": {},
   "outputs": [],
   "source": [
    "#new column for articles of women genre\n",
    "def check_women(item):\n",
    "    return \"\" if re.search(r\"([Dd]{1}ame[ns]{1})|([Ww]{1}om[ea]{1}n)\", item) == None else \"Women\"\n",
    "\n",
    "df['women_article'] = df['genre_column_placeholder'].apply(check_women)\n"
   ]
  },
  {
   "cell_type": "code",
   "execution_count": 80,
   "metadata": {},
   "outputs": [],
   "source": [
    "#new column for articles of men genre\n",
    "def check_men(item):\n",
    "    return \"\" if re.search(r\"([Hh]{1}e[r]{1,2}en)|(Men\\b)|(\\b[Mm]en\\b)\", item) == None else \"Men\"\n",
    "\n",
    "df['men_article'] = df['genre_column_placeholder'].apply(check_men)\n"
   ]
  },
  {
   "cell_type": "code",
   "execution_count": 81,
   "metadata": {},
   "outputs": [],
   "source": [
    "#new column for articles of kids/teenager/babies genre\n",
    "def check_kids(item):\n",
    "    return \"\" if re.search(r\"([Kk]{1}inder)|(\\b[Kk]{1}id[s]{0,1})|([Jj]{1}ungen)|([Mm]{1}ädchen)|([Tt]{1}een[s]{0,1})|([Bb]{1}aby)|([Bb]{1}abies)\", item) == None else \"Kids\"\n",
    "\n",
    "df['kids_article'] = df['genre_column_placeholder'].apply(check_kids)\n"
   ]
  },
  {
   "cell_type": "code",
   "execution_count": 82,
   "metadata": {},
   "outputs": [],
   "source": [
    "#new column for articles of home&living genre\n",
    "def check_hl(item):\n",
    "    return \"\" if re.search(r\"([Hh]{1}ome)|([Ll]iving)\", item) == None else \"Home&living\"\n",
    "\n",
    "df['homeandliving_article'] = df['genre_column_placeholder'].apply(check_hl)\n"
   ]
  },
  {
   "cell_type": "code",
   "execution_count": 83,
   "metadata": {},
   "outputs": [],
   "source": [
    "df = df.assign(category_slim = df.women_article + df.men_article + df.kids_article + df.homeandliving_article)"
   ]
  },
  {
   "cell_type": "code",
   "execution_count": 84,
   "metadata": {},
   "outputs": [],
   "source": [
    "def putslash(item): \n",
    "  \n",
    "    # regex [A-Z][a-z]* means any string starting  \n",
    "    # with capital character followed by many  \n",
    "    # lowercase letters  \n",
    "    words = re.findall('[A-Z][a-z]*', item) \n",
    "  \n",
    "    # Change first letter of each word into lower \n",
    "    # case \n",
    "    result = [] \n",
    "    for word in words: \n",
    "        word = chr( ord (word[0]) + 32) + word[1:] \n",
    "        result.append(word) \n",
    "    return '/'.join(result)"
   ]
  },
  {
   "cell_type": "code",
   "execution_count": 85,
   "metadata": {},
   "outputs": [],
   "source": [
    "df[\"category_slim\"] = df[\"category_slim\"].apply(putslash)"
   ]
  },
  {
   "cell_type": "code",
   "execution_count": 86,
   "metadata": {},
   "outputs": [],
   "source": [
    "df[\"category_slim\"] = df[\"category_slim\"].replace(\"\", \"(not set)\")"
   ]
  },
  {
   "cell_type": "code",
   "execution_count": 87,
   "metadata": {},
   "outputs": [],
   "source": [
    "df.women_article = df.women_article.replace({\"\": 0, \"Women\": 1})\n",
    "df.men_article = df.men_article.replace({\"\": 0, \"Men\": 1})\n",
    "df.kids_article = df.kids_article.replace({\"\": 0, \"Kids\": 1})\n",
    "df.homeandliving_article = df.homeandliving_article.replace({\"\": 0, \"Home&living\": 1})"
   ]
  },
  {
   "cell_type": "code",
   "execution_count": 88,
   "metadata": {},
   "outputs": [],
   "source": [
    "article_diff = df[(df.women_article + df.men_article + df.kids_article + df.homeandliving_article) == 0]"
   ]
  },
  {
   "cell_type": "code",
   "execution_count": 89,
   "metadata": {},
   "outputs": [
    {
     "data": {
      "text/plain": [
       "Schuhe & Accessoires        7885\n",
       "(not set)                   7284\n",
       "Herbst Outfits              6384\n",
       "T-Shirts & Langarmshirts    1052\n",
       "Neu im Sale                  427\n",
       "Festival Styles              326\n",
       "SAFARI STYLES                212\n",
       "Summer Sale Highlights       121\n",
       "Bold Summer Colors            83\n",
       "Black & White                 46\n",
       "Alles zum halben Preis        24\n",
       "T-Shirts unter 20 €            9\n",
       "Partyoutfits                   3\n",
       "Revolverheld Kollektion        2\n",
       "Mexico Styles                  2\n",
       "Hosen                          1\n",
       "Name: product_group, dtype: int64"
      ]
     },
     "execution_count": 89,
     "metadata": {},
     "output_type": "execute_result"
    }
   ],
   "source": [
    "article_diff.product_group.value_counts()"
   ]
  },
  {
   "cell_type": "code",
   "execution_count": 90,
   "metadata": {},
   "outputs": [
    {
     "data": {
      "text/plain": [
       "(not set)         7000\n",
       "Herbst Outfits    4431\n",
       "Athleisure        3881\n",
       "Schuhe            1812\n",
       "Winterpullover     818\n",
       "Name: category, dtype: int64"
      ]
     },
     "execution_count": 90,
     "metadata": {},
     "output_type": "execute_result"
    }
   ],
   "source": [
    "article_diff.category.value_counts().head()"
   ]
  },
  {
   "cell_type": "code",
   "execution_count": 91,
   "metadata": {
    "scrolled": true
   },
   "outputs": [
    {
     "data": {
      "text/plain": [
       "23861"
      ]
     },
     "execution_count": 91,
     "metadata": {},
     "output_type": "execute_result"
    }
   ],
   "source": [
    "len(article_diff)"
   ]
  },
  {
   "cell_type": "markdown",
   "metadata": {},
   "source": [
    "So we are left with only 23861 articles without any of the new article groups."
   ]
  },
  {
   "cell_type": "code",
   "execution_count": 92,
   "metadata": {},
   "outputs": [],
   "source": [
    "#number of articles that got multiple article groups\n",
    "mult_article = df[df.women_article + df.men_article + df.kids_article + df.homeandliving_article > 1]"
   ]
  },
  {
   "cell_type": "code",
   "execution_count": 93,
   "metadata": {
    "scrolled": true
   },
   "outputs": [
    {
     "data": {
      "text/html": [
       "<div>\n",
       "<style scoped>\n",
       "    .dataframe tbody tr th:only-of-type {\n",
       "        vertical-align: middle;\n",
       "    }\n",
       "\n",
       "    .dataframe tbody tr th {\n",
       "        vertical-align: top;\n",
       "    }\n",
       "\n",
       "    .dataframe thead th {\n",
       "        text-align: right;\n",
       "    }\n",
       "</style>\n",
       "<table border=\"1\" class=\"dataframe\">\n",
       "  <thead>\n",
       "    <tr style=\"text-align: right;\">\n",
       "      <th></th>\n",
       "      <th>visit_id</th>\n",
       "      <th>user_id</th>\n",
       "      <th>visit_number</th>\n",
       "      <th>date</th>\n",
       "      <th>article_name</th>\n",
       "      <th>article_id</th>\n",
       "      <th>category</th>\n",
       "      <th>brand</th>\n",
       "      <th>price</th>\n",
       "      <th>quantity</th>\n",
       "      <th>device_category</th>\n",
       "      <th>device_browser</th>\n",
       "      <th>device_os</th>\n",
       "      <th>country</th>\n",
       "      <th>region</th>\n",
       "      <th>city_id</th>\n",
       "      <th>product_line</th>\n",
       "      <th>product_group</th>\n",
       "      <th>campaign_involved</th>\n",
       "      <th>city</th>\n",
       "      <th>day_of_week</th>\n",
       "      <th>genre_column_placeholder</th>\n",
       "      <th>women_article</th>\n",
       "      <th>men_article</th>\n",
       "      <th>kids_article</th>\n",
       "      <th>homeandliving_article</th>\n",
       "      <th>category_slim</th>\n",
       "    </tr>\n",
       "  </thead>\n",
       "  <tbody>\n",
       "    <tr>\n",
       "      <th>2765945</th>\n",
       "      <td>777425313566</td>\n",
       "      <td>313566</td>\n",
       "      <td>1</td>\n",
       "      <td>2018-11-19</td>\n",
       "      <td>Parka mit Kapuze</td>\n",
       "      <td>4062105565316</td>\n",
       "      <td>Wintermode/Herren</td>\n",
       "      <td>TT_Casual</td>\n",
       "      <td>113.44</td>\n",
       "      <td>1</td>\n",
       "      <td>desktop</td>\n",
       "      <td>Edge</td>\n",
       "      <td>Windows</td>\n",
       "      <td>Germany</td>\n",
       "      <td>Bavaria</td>\n",
       "      <td>1004204</td>\n",
       "      <td>Damen</td>\n",
       "      <td>Herren</td>\n",
       "      <td>True</td>\n",
       "      <td>Karlsfeld</td>\n",
       "      <td>0</td>\n",
       "      <td>Parka mit Kapuze/Wintermode/Herren/Damen/Herren</td>\n",
       "      <td>1</td>\n",
       "      <td>1</td>\n",
       "      <td>0</td>\n",
       "      <td>0</td>\n",
       "      <td>women/men</td>\n",
       "    </tr>\n",
       "    <tr>\n",
       "      <th>2584675</th>\n",
       "      <td>255578243423</td>\n",
       "      <td>243423</td>\n",
       "      <td>1</td>\n",
       "      <td>2018-05-15</td>\n",
       "      <td>Mia Slim 7/8 Hose</td>\n",
       "      <td>4062105311845</td>\n",
       "      <td>Damen/Damenmode/Hosen</td>\n",
       "      <td>(not set)</td>\n",
       "      <td>33.61</td>\n",
       "      <td>1</td>\n",
       "      <td>desktop</td>\n",
       "      <td>Chrome</td>\n",
       "      <td>Windows</td>\n",
       "      <td>Germany</td>\n",
       "      <td>North Rhine-Westphalia</td>\n",
       "      <td>1004761</td>\n",
       "      <td>Herren</td>\n",
       "      <td>Hosen</td>\n",
       "      <td>True</td>\n",
       "      <td>Wermelskirchen</td>\n",
       "      <td>1</td>\n",
       "      <td>Mia Slim 7/8 Hose/Damen/Damenmode/Hosen/Herren...</td>\n",
       "      <td>1</td>\n",
       "      <td>1</td>\n",
       "      <td>0</td>\n",
       "      <td>0</td>\n",
       "      <td>women/men</td>\n",
       "    </tr>\n",
       "    <tr>\n",
       "      <th>266692</th>\n",
       "      <td>820041540406</td>\n",
       "      <td>540406</td>\n",
       "      <td>1</td>\n",
       "      <td>2018-07-14</td>\n",
       "      <td>Skinny Herren-Chino mit Gürtel</td>\n",
       "      <td>4059066379984</td>\n",
       "      <td>Hosen</td>\n",
       "      <td>TT_Denim</td>\n",
       "      <td>25.87</td>\n",
       "      <td>1</td>\n",
       "      <td>desktop</td>\n",
       "      <td>Chrome</td>\n",
       "      <td>Windows</td>\n",
       "      <td>Germany</td>\n",
       "      <td>Baden-Wurttemberg</td>\n",
       "      <td>1004054</td>\n",
       "      <td>Damen</td>\n",
       "      <td>Hosen</td>\n",
       "      <td>False</td>\n",
       "      <td>Stuttgart</td>\n",
       "      <td>5</td>\n",
       "      <td>Skinny Herren-Chino mit Gürtel/Hosen/Damen/Hosen</td>\n",
       "      <td>1</td>\n",
       "      <td>1</td>\n",
       "      <td>0</td>\n",
       "      <td>0</td>\n",
       "      <td>women/men</td>\n",
       "    </tr>\n",
       "    <tr>\n",
       "      <th>2743479</th>\n",
       "      <td>53058419601</td>\n",
       "      <td>19601</td>\n",
       "      <td>2</td>\n",
       "      <td>2018-10-28</td>\n",
       "      <td>Gefütterter Steppmantel</td>\n",
       "      <td>4062105536705</td>\n",
       "      <td>Steppjacken/Damen</td>\n",
       "      <td>TT_Casual</td>\n",
       "      <td>135.98</td>\n",
       "      <td>1</td>\n",
       "      <td>mobile</td>\n",
       "      <td>Samsung Internet</td>\n",
       "      <td>Android</td>\n",
       "      <td>Germany</td>\n",
       "      <td>Thuringia</td>\n",
       "      <td>9048414</td>\n",
       "      <td>Herren</td>\n",
       "      <td>Damen</td>\n",
       "      <td>True</td>\n",
       "      <td>Heilbad Heiligenstadt</td>\n",
       "      <td>6</td>\n",
       "      <td>Gefütterter Steppmantel/Steppjacken/Damen/Herr...</td>\n",
       "      <td>1</td>\n",
       "      <td>1</td>\n",
       "      <td>0</td>\n",
       "      <td>0</td>\n",
       "      <td>women/men</td>\n",
       "    </tr>\n",
       "    <tr>\n",
       "      <th>2340228</th>\n",
       "      <td>192234417025</td>\n",
       "      <td>417025</td>\n",
       "      <td>1</td>\n",
       "      <td>2018-11-16</td>\n",
       "      <td>Alexa Slim Jeans mit seitlichem Tape</td>\n",
       "      <td>4061945170261</td>\n",
       "      <td>denimflash/Damen</td>\n",
       "      <td>TT_Casual</td>\n",
       "      <td>42.01</td>\n",
       "      <td>1</td>\n",
       "      <td>mobile</td>\n",
       "      <td>Safari</td>\n",
       "      <td>iOS</td>\n",
       "      <td>Germany</td>\n",
       "      <td>North Rhine-Westphalia</td>\n",
       "      <td>1004611</td>\n",
       "      <td>Herren</td>\n",
       "      <td>Damen</td>\n",
       "      <td>True</td>\n",
       "      <td>Dortmund</td>\n",
       "      <td>4</td>\n",
       "      <td>Alexa Slim Jeans mit seitlichem Tape/denimflas...</td>\n",
       "      <td>1</td>\n",
       "      <td>1</td>\n",
       "      <td>0</td>\n",
       "      <td>0</td>\n",
       "      <td>women/men</td>\n",
       "    </tr>\n",
       "  </tbody>\n",
       "</table>\n",
       "</div>"
      ],
      "text/plain": [
       "             visit_id  user_id  visit_number       date  \\\n",
       "2765945  777425313566   313566             1 2018-11-19   \n",
       "2584675  255578243423   243423             1 2018-05-15   \n",
       "266692   820041540406   540406             1 2018-07-14   \n",
       "2743479   53058419601    19601             2 2018-10-28   \n",
       "2340228  192234417025   417025             1 2018-11-16   \n",
       "\n",
       "                                 article_name     article_id  \\\n",
       "2765945                      Parka mit Kapuze  4062105565316   \n",
       "2584675                     Mia Slim 7/8 Hose  4062105311845   \n",
       "266692         Skinny Herren-Chino mit Gürtel  4059066379984   \n",
       "2743479               Gefütterter Steppmantel  4062105536705   \n",
       "2340228  Alexa Slim Jeans mit seitlichem Tape  4061945170261   \n",
       "\n",
       "                      category      brand   price  quantity device_category  \\\n",
       "2765945      Wintermode/Herren  TT_Casual  113.44         1         desktop   \n",
       "2584675  Damen/Damenmode/Hosen  (not set)   33.61         1         desktop   \n",
       "266692                   Hosen   TT_Denim   25.87         1         desktop   \n",
       "2743479      Steppjacken/Damen  TT_Casual  135.98         1          mobile   \n",
       "2340228       denimflash/Damen  TT_Casual   42.01         1          mobile   \n",
       "\n",
       "           device_browser device_os  country                  region  city_id  \\\n",
       "2765945              Edge   Windows  Germany                 Bavaria  1004204   \n",
       "2584675            Chrome   Windows  Germany  North Rhine-Westphalia  1004761   \n",
       "266692             Chrome   Windows  Germany       Baden-Wurttemberg  1004054   \n",
       "2743479  Samsung Internet   Android  Germany               Thuringia  9048414   \n",
       "2340228            Safari       iOS  Germany  North Rhine-Westphalia  1004611   \n",
       "\n",
       "        product_line product_group  campaign_involved                   city  \\\n",
       "2765945        Damen        Herren               True              Karlsfeld   \n",
       "2584675       Herren         Hosen               True         Wermelskirchen   \n",
       "266692         Damen         Hosen              False              Stuttgart   \n",
       "2743479       Herren         Damen               True  Heilbad Heiligenstadt   \n",
       "2340228       Herren         Damen               True               Dortmund   \n",
       "\n",
       "         day_of_week                           genre_column_placeholder  \\\n",
       "2765945            0    Parka mit Kapuze/Wintermode/Herren/Damen/Herren   \n",
       "2584675            1  Mia Slim 7/8 Hose/Damen/Damenmode/Hosen/Herren...   \n",
       "266692             5   Skinny Herren-Chino mit Gürtel/Hosen/Damen/Hosen   \n",
       "2743479            6  Gefütterter Steppmantel/Steppjacken/Damen/Herr...   \n",
       "2340228            4  Alexa Slim Jeans mit seitlichem Tape/denimflas...   \n",
       "\n",
       "         women_article  men_article  kids_article  homeandliving_article  \\\n",
       "2765945              1            1             0                      0   \n",
       "2584675              1            1             0                      0   \n",
       "266692               1            1             0                      0   \n",
       "2743479              1            1             0                      0   \n",
       "2340228              1            1             0                      0   \n",
       "\n",
       "        category_slim  \n",
       "2765945     women/men  \n",
       "2584675     women/men  \n",
       "266692      women/men  \n",
       "2743479     women/men  \n",
       "2340228     women/men  "
      ]
     },
     "execution_count": 93,
     "metadata": {},
     "output_type": "execute_result"
    }
   ],
   "source": [
    "mult_article.sample(n=5)"
   ]
  },
  {
   "cell_type": "code",
   "execution_count": 94,
   "metadata": {},
   "outputs": [
    {
     "data": {
      "text/plain": [
       "65808"
      ]
     },
     "execution_count": 94,
     "metadata": {},
     "output_type": "execute_result"
    }
   ],
   "source": [
    "len(mult_article)"
   ]
  },
  {
   "cell_type": "markdown",
   "metadata": {},
   "source": [
    "Having 65808 articles with multiple article groups. Most of them do make at least some sense, like a jacket for a teenager also having the product_line Men."
   ]
  },
  {
   "cell_type": "markdown",
   "metadata": {},
   "source": [
    "<a id='5.5'></a>"
   ]
  },
  {
   "cell_type": "markdown",
   "metadata": {},
   "source": [
    "## 5.5 Total price per article purchase"
   ]
  },
  {
   "cell_type": "code",
   "execution_count": 95,
   "metadata": {},
   "outputs": [],
   "source": [
    "df[\"total_price\"] = df[\"price\"] * df[\"quantity\"]"
   ]
  },
  {
   "cell_type": "markdown",
   "metadata": {},
   "source": [
    "## Ordering columns"
   ]
  },
  {
   "cell_type": "code",
   "execution_count": 96,
   "metadata": {},
   "outputs": [
    {
     "data": {
      "text/plain": [
       "8"
      ]
     },
     "execution_count": 96,
     "metadata": {},
     "output_type": "execute_result"
    }
   ],
   "source": [
    "#code for checking the index of a certain column\n",
    "df.columns.get_loc(\"price\")"
   ]
  },
  {
   "cell_type": "code",
   "execution_count": 97,
   "metadata": {},
   "outputs": [
    {
     "data": {
      "text/plain": [
       "'total_price'"
      ]
     },
     "execution_count": 97,
     "metadata": {},
     "output_type": "execute_result"
    }
   ],
   "source": [
    "#check name of certain index\n",
    "df.columns[27]"
   ]
  },
  {
   "cell_type": "code",
   "execution_count": 98,
   "metadata": {},
   "outputs": [
    {
     "name": "stdout",
     "output_type": "stream",
     "text": [
      "Check if any column was skipped when reordering (True: all columns fetched): True\n"
     ]
    }
   ],
   "source": [
    "#reordering the columns\n",
    "cols = df.columns.tolist()\n",
    "cols = cols[0:4] + [cols[20]] + cols[4:6] + cols[8:10] + [cols[27]] \\\n",
    "        + cols[13:15] + [cols[19]] + [cols[15]] + cols[22:26] + [cols[18]] \\\n",
    "        + [cols[6]] + [cols[26]] + cols[7:8] + cols[16:18] + [cols[21]] + cols[10:13]\n",
    "print(\"Check if any column was skipped when reordering (True: all columns fetched):\", len(cols) == len(df.columns))\n",
    "df = df.reindex(columns = cols)"
   ]
  },
  {
   "cell_type": "markdown",
   "metadata": {},
   "source": [
    "<a id='5.6'></a>"
   ]
  },
  {
   "cell_type": "markdown",
   "metadata": {},
   "source": [
    "## 5.6 Value and number of items of shopping carts"
   ]
  },
  {
   "cell_type": "code",
   "execution_count": 99,
   "metadata": {},
   "outputs": [],
   "source": [
    "shopcart = df.groupby([\"visit_id\"]).sum()"
   ]
  },
  {
   "cell_type": "code",
   "execution_count": 100,
   "metadata": {},
   "outputs": [],
   "source": [
    "#take just the Name column\n",
    "df_shopcartvalue_clean = shopcart[\"total_price\"]\n",
    "df_shopcartnumber_clean = shopcart[\"quantity\"]"
   ]
  },
  {
   "cell_type": "code",
   "execution_count": 101,
   "metadata": {},
   "outputs": [],
   "source": [
    "#get a dictionary from the dataframe\n",
    "cartdicval = df_shopcartvalue_clean.to_dict()\n",
    "cartdicnum = df_shopcartnumber_clean.to_dict()\n",
    "cartdiffart = df.visit_id.value_counts().to_dict()"
   ]
  },
  {
   "cell_type": "code",
   "execution_count": 102,
   "metadata": {},
   "outputs": [],
   "source": [
    "df[\"shop_cart_value\"] = df[\"visit_id\"].map(cartdicval)\n",
    "df[\"shop_cart_item_count\"] = df[\"visit_id\"].map(cartdicnum)\n",
    "df[\"shop_cart_unique_articles\"] = df[\"visit_id\"].map(cartdiffart)"
   ]
  },
  {
   "cell_type": "code",
   "execution_count": 103,
   "metadata": {},
   "outputs": [
    {
     "name": "stdout",
     "output_type": "stream",
     "text": [
      "Check if any column was skipped when reordering (True: all columns fetched): True\n"
     ]
    }
   ],
   "source": [
    "#reordering the columns\n",
    "cols = df.columns.tolist()\n",
    "cols = cols[0:10] + cols[28:31] + cols[10:28]\n",
    "print(\"Check if any column was skipped when reordering (True: all columns fetched):\", len(cols) == len(df.columns))\n",
    "df = df.reindex(columns = cols)"
   ]
  },
  {
   "cell_type": "markdown",
   "metadata": {},
   "source": [
    "<a id='5.7'></a>"
   ]
  },
  {
   "cell_type": "markdown",
   "metadata": {},
   "source": [
    "## 5.7 Stockprice per day"
   ]
  },
  {
   "cell_type": "code",
   "execution_count": 104,
   "metadata": {},
   "outputs": [],
   "source": [
    "df_stock[\"timestamp\"]= pd.to_datetime(df_stock[\"timestamp\"],format='%Y-%m-%d')"
   ]
  },
  {
   "cell_type": "code",
   "execution_count": 105,
   "metadata": {},
   "outputs": [],
   "source": [
    "#fill missing days ( weekends )\n",
    "df_stock = df_stock.resample('D',on=\"timestamp\").mean()"
   ]
  },
  {
   "cell_type": "code",
   "execution_count": 106,
   "metadata": {},
   "outputs": [],
   "source": [
    "#fill the nans of the missings above with the average of their direct set neighbours\n",
    "df_stock = (df_stock.ffill() + df_stock.bfill())/2"
   ]
  },
  {
   "cell_type": "code",
   "execution_count": 107,
   "metadata": {},
   "outputs": [
    {
     "data": {
      "text/html": [
       "<div>\n",
       "<style scoped>\n",
       "    .dataframe tbody tr th:only-of-type {\n",
       "        vertical-align: middle;\n",
       "    }\n",
       "\n",
       "    .dataframe tbody tr th {\n",
       "        vertical-align: top;\n",
       "    }\n",
       "\n",
       "    .dataframe thead th {\n",
       "        text-align: right;\n",
       "    }\n",
       "</style>\n",
       "<table border=\"1\" class=\"dataframe\">\n",
       "  <thead>\n",
       "    <tr style=\"text-align: right;\">\n",
       "      <th></th>\n",
       "      <th>open</th>\n",
       "      <th>high</th>\n",
       "      <th>low</th>\n",
       "      <th>close</th>\n",
       "      <th>volume</th>\n",
       "    </tr>\n",
       "    <tr>\n",
       "      <th>timestamp</th>\n",
       "      <th></th>\n",
       "      <th></th>\n",
       "      <th></th>\n",
       "      <th></th>\n",
       "      <th></th>\n",
       "    </tr>\n",
       "  </thead>\n",
       "  <tbody>\n",
       "    <tr>\n",
       "      <th>2010-03-26</th>\n",
       "      <td>11.9637</td>\n",
       "      <td>12.04200</td>\n",
       "      <td>11.4576</td>\n",
       "      <td>11.8257</td>\n",
       "      <td>2767746.0</td>\n",
       "    </tr>\n",
       "    <tr>\n",
       "      <th>2010-03-27</th>\n",
       "      <td>11.8740</td>\n",
       "      <td>11.97755</td>\n",
       "      <td>11.5404</td>\n",
       "      <td>11.8349</td>\n",
       "      <td>1489778.5</td>\n",
       "    </tr>\n",
       "    <tr>\n",
       "      <th>2010-03-28</th>\n",
       "      <td>11.8740</td>\n",
       "      <td>11.97755</td>\n",
       "      <td>11.5404</td>\n",
       "      <td>11.8349</td>\n",
       "      <td>1489778.5</td>\n",
       "    </tr>\n",
       "    <tr>\n",
       "      <th>2010-03-29</th>\n",
       "      <td>11.7843</td>\n",
       "      <td>11.91310</td>\n",
       "      <td>11.6232</td>\n",
       "      <td>11.8441</td>\n",
       "      <td>211811.0</td>\n",
       "    </tr>\n",
       "    <tr>\n",
       "      <th>2010-03-30</th>\n",
       "      <td>11.8073</td>\n",
       "      <td>11.91770</td>\n",
       "      <td>11.6600</td>\n",
       "      <td>11.8717</td>\n",
       "      <td>80096.0</td>\n",
       "    </tr>\n",
       "  </tbody>\n",
       "</table>\n",
       "</div>"
      ],
      "text/plain": [
       "               open      high      low    close     volume\n",
       "timestamp                                                 \n",
       "2010-03-26  11.9637  12.04200  11.4576  11.8257  2767746.0\n",
       "2010-03-27  11.8740  11.97755  11.5404  11.8349  1489778.5\n",
       "2010-03-28  11.8740  11.97755  11.5404  11.8349  1489778.5\n",
       "2010-03-29  11.7843  11.91310  11.6232  11.8441   211811.0\n",
       "2010-03-30  11.8073  11.91770  11.6600  11.8717    80096.0"
      ]
     },
     "execution_count": 107,
     "metadata": {},
     "output_type": "execute_result"
    }
   ],
   "source": [
    "df_stock.head()"
   ]
  },
  {
   "cell_type": "code",
   "execution_count": 108,
   "metadata": {},
   "outputs": [],
   "source": [
    "#take just the close column\n",
    "df_stock_clean = df_stock[\"close\"]"
   ]
  },
  {
   "cell_type": "code",
   "execution_count": 109,
   "metadata": {},
   "outputs": [],
   "source": [
    "#get a dictionary from the dataframe\n",
    "stockdic = df_stock_clean.to_dict()"
   ]
  },
  {
   "cell_type": "code",
   "execution_count": 110,
   "metadata": {},
   "outputs": [],
   "source": [
    "#map stock to dataframe with new column stock_value\n",
    "df[\"stock_value\"] = df[\"date\"].map(stockdic)"
   ]
  },
  {
   "cell_type": "code",
   "execution_count": 111,
   "metadata": {
    "scrolled": true
   },
   "outputs": [
    {
     "data": {
      "text/plain": [
       "visit_id                     0\n",
       "user_id                      0\n",
       "visit_number                 0\n",
       "date                         0\n",
       "day_of_week                  0\n",
       "article_name                 0\n",
       "article_id                   0\n",
       "price                        0\n",
       "quantity                     0\n",
       "total_price                  0\n",
       "shop_cart_value              0\n",
       "shop_cart_item_count         0\n",
       "shop_cart_unique_articles    0\n",
       "country                      0\n",
       "region                       0\n",
       "city                         0\n",
       "city_id                      0\n",
       "women_article                0\n",
       "men_article                  0\n",
       "kids_article                 0\n",
       "homeandliving_article        0\n",
       "campaign_involved            0\n",
       "category                     0\n",
       "category_slim                0\n",
       "brand                        0\n",
       "product_line                 0\n",
       "product_group                0\n",
       "genre_column_placeholder     0\n",
       "device_category              0\n",
       "device_browser               0\n",
       "device_os                    0\n",
       "stock_value                  0\n",
       "dtype: int64"
      ]
     },
     "execution_count": 111,
     "metadata": {},
     "output_type": "execute_result"
    }
   ],
   "source": [
    "#check for nans that were not set \n",
    "df.isna().sum()"
   ]
  },
  {
   "cell_type": "code",
   "execution_count": 112,
   "metadata": {
    "scrolled": true
   },
   "outputs": [
    {
     "data": {
      "text/html": [
       "<div>\n",
       "<style scoped>\n",
       "    .dataframe tbody tr th:only-of-type {\n",
       "        vertical-align: middle;\n",
       "    }\n",
       "\n",
       "    .dataframe tbody tr th {\n",
       "        vertical-align: top;\n",
       "    }\n",
       "\n",
       "    .dataframe thead th {\n",
       "        text-align: right;\n",
       "    }\n",
       "</style>\n",
       "<table border=\"1\" class=\"dataframe\">\n",
       "  <thead>\n",
       "    <tr style=\"text-align: right;\">\n",
       "      <th></th>\n",
       "      <th>visit_id</th>\n",
       "      <th>user_id</th>\n",
       "      <th>visit_number</th>\n",
       "      <th>date</th>\n",
       "      <th>day_of_week</th>\n",
       "      <th>article_name</th>\n",
       "      <th>article_id</th>\n",
       "      <th>price</th>\n",
       "      <th>quantity</th>\n",
       "      <th>total_price</th>\n",
       "      <th>shop_cart_value</th>\n",
       "      <th>shop_cart_item_count</th>\n",
       "      <th>shop_cart_unique_articles</th>\n",
       "      <th>country</th>\n",
       "      <th>region</th>\n",
       "      <th>city</th>\n",
       "      <th>city_id</th>\n",
       "      <th>women_article</th>\n",
       "      <th>men_article</th>\n",
       "      <th>kids_article</th>\n",
       "      <th>homeandliving_article</th>\n",
       "      <th>campaign_involved</th>\n",
       "      <th>category</th>\n",
       "      <th>category_slim</th>\n",
       "      <th>brand</th>\n",
       "      <th>product_line</th>\n",
       "      <th>product_group</th>\n",
       "      <th>genre_column_placeholder</th>\n",
       "      <th>device_category</th>\n",
       "      <th>device_browser</th>\n",
       "      <th>device_os</th>\n",
       "      <th>stock_value</th>\n",
       "    </tr>\n",
       "  </thead>\n",
       "  <tbody>\n",
       "    <tr>\n",
       "      <th>2325</th>\n",
       "      <td>14930374362</td>\n",
       "      <td>374362</td>\n",
       "      <td>3</td>\n",
       "      <td>2017-11-01</td>\n",
       "      <td>2</td>\n",
       "      <td>Tennis-Socken im Dreierpack</td>\n",
       "      <td>4002702234727</td>\n",
       "      <td>5.01</td>\n",
       "      <td>1</td>\n",
       "      <td>5.01</td>\n",
       "      <td>32.69</td>\n",
       "      <td>5</td>\n",
       "      <td>5</td>\n",
       "      <td>Germany</td>\n",
       "      <td>North Rhine-Westphalia</td>\n",
       "      <td>Neuss</td>\n",
       "      <td>1004708</td>\n",
       "      <td>0</td>\n",
       "      <td>1</td>\n",
       "      <td>0</td>\n",
       "      <td>0</td>\n",
       "      <td>True</td>\n",
       "      <td>Herren/Herrenschuhe &amp; Accessoires/Accessoires/...</td>\n",
       "      <td>men</td>\n",
       "      <td>TT_Casual</td>\n",
       "      <td>Herren</td>\n",
       "      <td>Schuhe &amp; Accessoires</td>\n",
       "      <td>Tennis-Socken im Dreierpack/Herren/Herrenschuh...</td>\n",
       "      <td>mobile</td>\n",
       "      <td>Chrome</td>\n",
       "      <td>Android</td>\n",
       "      <td>8.859</td>\n",
       "    </tr>\n",
       "    <tr>\n",
       "      <th>5836</th>\n",
       "      <td>645245525600</td>\n",
       "      <td>525600</td>\n",
       "      <td>2</td>\n",
       "      <td>2017-11-02</td>\n",
       "      <td>3</td>\n",
       "      <td>Basic Socken im Doppelpack</td>\n",
       "      <td>4002702235090</td>\n",
       "      <td>5.84</td>\n",
       "      <td>2</td>\n",
       "      <td>11.68</td>\n",
       "      <td>108.55</td>\n",
       "      <td>5</td>\n",
       "      <td>4</td>\n",
       "      <td>Germany</td>\n",
       "      <td>Baden-Wurttemberg</td>\n",
       "      <td>(not set)</td>\n",
       "      <td>0</td>\n",
       "      <td>0</td>\n",
       "      <td>1</td>\n",
       "      <td>0</td>\n",
       "      <td>0</td>\n",
       "      <td>True</td>\n",
       "      <td>Herren/Herrenschuhe &amp; Accessoires/Accessoires/...</td>\n",
       "      <td>men</td>\n",
       "      <td>TT_Casual</td>\n",
       "      <td>Herren</td>\n",
       "      <td>Schuhe &amp; Accessoires</td>\n",
       "      <td>Basic Socken im Doppelpack/Herren/Herrenschuhe...</td>\n",
       "      <td>desktop</td>\n",
       "      <td>Firefox</td>\n",
       "      <td>Windows</td>\n",
       "      <td>9.131</td>\n",
       "    </tr>\n",
       "    <tr>\n",
       "      <th>2849</th>\n",
       "      <td>448437326618</td>\n",
       "      <td>326618</td>\n",
       "      <td>1</td>\n",
       "      <td>2017-11-03</td>\n",
       "      <td>4</td>\n",
       "      <td>Tennis-Socken im Dreierpack</td>\n",
       "      <td>4002702234765</td>\n",
       "      <td>5.52</td>\n",
       "      <td>2</td>\n",
       "      <td>11.04</td>\n",
       "      <td>83.18</td>\n",
       "      <td>7</td>\n",
       "      <td>6</td>\n",
       "      <td>Germany</td>\n",
       "      <td>North Rhine-Westphalia</td>\n",
       "      <td>Wermelskirchen</td>\n",
       "      <td>1004761</td>\n",
       "      <td>0</td>\n",
       "      <td>1</td>\n",
       "      <td>0</td>\n",
       "      <td>0</td>\n",
       "      <td>False</td>\n",
       "      <td>Herren/Herrenschuhe &amp; Accessoires/Accessoires/...</td>\n",
       "      <td>men</td>\n",
       "      <td>TT_Casual</td>\n",
       "      <td>Herren</td>\n",
       "      <td>Schuhe &amp; Accessoires</td>\n",
       "      <td>Tennis-Socken im Dreierpack/Herren/Herrenschuh...</td>\n",
       "      <td>desktop</td>\n",
       "      <td>Firefox</td>\n",
       "      <td>Windows</td>\n",
       "      <td>9.100</td>\n",
       "    </tr>\n",
       "    <tr>\n",
       "      <th>2512</th>\n",
       "      <td>813967575820</td>\n",
       "      <td>575820</td>\n",
       "      <td>11</td>\n",
       "      <td>2017-11-04</td>\n",
       "      <td>5</td>\n",
       "      <td>Tennis-Socken im Dreierpack</td>\n",
       "      <td>4002702234758</td>\n",
       "      <td>6.68</td>\n",
       "      <td>2</td>\n",
       "      <td>13.36</td>\n",
       "      <td>78.38</td>\n",
       "      <td>4</td>\n",
       "      <td>3</td>\n",
       "      <td>Germany</td>\n",
       "      <td>Baden-Wurttemberg</td>\n",
       "      <td>Esslingen</td>\n",
       "      <td>1003938</td>\n",
       "      <td>0</td>\n",
       "      <td>1</td>\n",
       "      <td>0</td>\n",
       "      <td>0</td>\n",
       "      <td>True</td>\n",
       "      <td>Herren/Herrenschuhe &amp; Accessoires/Accessoires/...</td>\n",
       "      <td>men</td>\n",
       "      <td>TT_Casual</td>\n",
       "      <td>Herren</td>\n",
       "      <td>Schuhe &amp; Accessoires</td>\n",
       "      <td>Tennis-Socken im Dreierpack/Herren/Herrenschuh...</td>\n",
       "      <td>mobile</td>\n",
       "      <td>Samsung Internet</td>\n",
       "      <td>Android</td>\n",
       "      <td>9.090</td>\n",
       "    </tr>\n",
       "    <tr>\n",
       "      <th>455</th>\n",
       "      <td>754081156504</td>\n",
       "      <td>156504</td>\n",
       "      <td>1</td>\n",
       "      <td>2017-11-05</td>\n",
       "      <td>6</td>\n",
       "      <td>Geschenkgutschein 50 EUR</td>\n",
       "      <td>200000000050</td>\n",
       "      <td>50.00</td>\n",
       "      <td>1</td>\n",
       "      <td>50.00</td>\n",
       "      <td>50.00</td>\n",
       "      <td>1</td>\n",
       "      <td>1</td>\n",
       "      <td>Germany</td>\n",
       "      <td>Schleswig-Holstein</td>\n",
       "      <td>Flensburg</td>\n",
       "      <td>1004855</td>\n",
       "      <td>0</td>\n",
       "      <td>1</td>\n",
       "      <td>0</td>\n",
       "      <td>0</td>\n",
       "      <td>False</td>\n",
       "      <td>Herren</td>\n",
       "      <td>men</td>\n",
       "      <td>(not set)</td>\n",
       "      <td>Herren</td>\n",
       "      <td>Herren</td>\n",
       "      <td>Geschenkgutschein 50 EUR/Herren/Herren/Herren</td>\n",
       "      <td>desktop</td>\n",
       "      <td>Firefox</td>\n",
       "      <td>Windows</td>\n",
       "      <td>9.090</td>\n",
       "    </tr>\n",
       "  </tbody>\n",
       "</table>\n",
       "</div>"
      ],
      "text/plain": [
       "          visit_id  user_id  visit_number       date  day_of_week  \\\n",
       "2325   14930374362   374362             3 2017-11-01            2   \n",
       "5836  645245525600   525600             2 2017-11-02            3   \n",
       "2849  448437326618   326618             1 2017-11-03            4   \n",
       "2512  813967575820   575820            11 2017-11-04            5   \n",
       "455   754081156504   156504             1 2017-11-05            6   \n",
       "\n",
       "                     article_name     article_id  price  quantity  \\\n",
       "2325  Tennis-Socken im Dreierpack  4002702234727   5.01         1   \n",
       "5836   Basic Socken im Doppelpack  4002702235090   5.84         2   \n",
       "2849  Tennis-Socken im Dreierpack  4002702234765   5.52         2   \n",
       "2512  Tennis-Socken im Dreierpack  4002702234758   6.68         2   \n",
       "455      Geschenkgutschein 50 EUR   200000000050  50.00         1   \n",
       "\n",
       "      total_price  shop_cart_value  shop_cart_item_count  \\\n",
       "2325         5.01            32.69                     5   \n",
       "5836        11.68           108.55                     5   \n",
       "2849        11.04            83.18                     7   \n",
       "2512        13.36            78.38                     4   \n",
       "455         50.00            50.00                     1   \n",
       "\n",
       "      shop_cart_unique_articles  country                  region  \\\n",
       "2325                          5  Germany  North Rhine-Westphalia   \n",
       "5836                          4  Germany       Baden-Wurttemberg   \n",
       "2849                          6  Germany  North Rhine-Westphalia   \n",
       "2512                          3  Germany       Baden-Wurttemberg   \n",
       "455                           1  Germany      Schleswig-Holstein   \n",
       "\n",
       "                city  city_id  women_article  men_article  kids_article  \\\n",
       "2325           Neuss  1004708              0            1             0   \n",
       "5836       (not set)        0              0            1             0   \n",
       "2849  Wermelskirchen  1004761              0            1             0   \n",
       "2512       Esslingen  1003938              0            1             0   \n",
       "455        Flensburg  1004855              0            1             0   \n",
       "\n",
       "      homeandliving_article  campaign_involved  \\\n",
       "2325                      0               True   \n",
       "5836                      0               True   \n",
       "2849                      0              False   \n",
       "2512                      0               True   \n",
       "455                       0              False   \n",
       "\n",
       "                                               category category_slim  \\\n",
       "2325  Herren/Herrenschuhe & Accessoires/Accessoires/...           men   \n",
       "5836  Herren/Herrenschuhe & Accessoires/Accessoires/...           men   \n",
       "2849  Herren/Herrenschuhe & Accessoires/Accessoires/...           men   \n",
       "2512  Herren/Herrenschuhe & Accessoires/Accessoires/...           men   \n",
       "455                                              Herren           men   \n",
       "\n",
       "          brand product_line         product_group  \\\n",
       "2325  TT_Casual       Herren  Schuhe & Accessoires   \n",
       "5836  TT_Casual       Herren  Schuhe & Accessoires   \n",
       "2849  TT_Casual       Herren  Schuhe & Accessoires   \n",
       "2512  TT_Casual       Herren  Schuhe & Accessoires   \n",
       "455   (not set)       Herren                Herren   \n",
       "\n",
       "                               genre_column_placeholder device_category  \\\n",
       "2325  Tennis-Socken im Dreierpack/Herren/Herrenschuh...          mobile   \n",
       "5836  Basic Socken im Doppelpack/Herren/Herrenschuhe...         desktop   \n",
       "2849  Tennis-Socken im Dreierpack/Herren/Herrenschuh...         desktop   \n",
       "2512  Tennis-Socken im Dreierpack/Herren/Herrenschuh...          mobile   \n",
       "455       Geschenkgutschein 50 EUR/Herren/Herren/Herren         desktop   \n",
       "\n",
       "        device_browser device_os  stock_value  \n",
       "2325            Chrome   Android        8.859  \n",
       "5836           Firefox   Windows        9.131  \n",
       "2849           Firefox   Windows        9.100  \n",
       "2512  Samsung Internet   Android        9.090  \n",
       "455            Firefox   Windows        9.090  "
      ]
     },
     "execution_count": 112,
     "metadata": {},
     "output_type": "execute_result"
    }
   ],
   "source": [
    "#easy dataframe to check the stockprice development \n",
    "df.drop_duplicates(\"date\").sort_values(\"date\").head(5)"
   ]
  },
  {
   "cell_type": "markdown",
   "metadata": {},
   "source": [
    "<a id='5.8'></a>"
   ]
  },
  {
   "cell_type": "markdown",
   "metadata": {},
   "source": [
    "## 5.8 First date of purchase and purchase type"
   ]
  },
  {
   "cell_type": "code",
   "execution_count": 113,
   "metadata": {},
   "outputs": [],
   "source": [
    "#help feature with a edited date\n",
    "df['year_month'] = df['date'].map(lambda date: 100*date.year + date.month)"
   ]
  },
  {
   "cell_type": "code",
   "execution_count": 114,
   "metadata": {},
   "outputs": [],
   "source": [
    "#finding the date where users bought for the first time in our timeline\n",
    "min_purchase = df.groupby(\"user_id\").year_month.min().reset_index()\n",
    "min_purchase.columns = [\"user_id\",\"min_purchase_date\"]\n",
    "\n",
    "#merge\n",
    "df = pd.merge(df, min_purchase, on=\"user_id\")"
   ]
  },
  {
   "cell_type": "code",
   "execution_count": 115,
   "metadata": {},
   "outputs": [],
   "source": [
    "#create a feature user_type with first or established depending on time of purchase\n",
    "df[\"user_type\"] = \"first\"\n",
    "df.loc[df[\"year_month\"]>df[\"min_purchase_date\"], \"user_type\"] = \"established\""
   ]
  },
  {
   "cell_type": "markdown",
   "metadata": {},
   "source": [
    "<a id='5.9'></a>"
   ]
  },
  {
   "cell_type": "markdown",
   "metadata": {},
   "source": [
    "## 5.9 Final Feature dictionary\n",
    "\n",
    "| Feature No. | Feature Name | Description |\n",
    "| :-: | :-: | :-: |\n",
    "| 1 | visit_id | Unique ID consisting of the ID of a single shopping cart and the ID of the user |\n",
    "| 2 | user_id | Unique ID of a user |\n",
    "| 3 | visit_number | Not entirely clear; either number of visits to the shop or number of total purchases |\n",
    "| 4 | date | Date the purchase was made |\n",
    "| 5 | day_of_week | Day when the purchase was made; 0 for monday till 6 for sunday |\n",
    "| 6 | article_name | Name of the article that was bought |\n",
    "| 7 | article_id | ID of the article that was bought |\n",
    "| 8 | price | Price of the article |\n",
    "| 9 | quantity | Number of the article that were bought |\n",
    "| 10 | total_price | Total price of the article purchase consisting of price * quantity |\n",
    "| 11 | shop_cart_value | Value of the whole shopping cart of a single visit_id |\n",
    "| 12 | shop_cart_item_count | Number of items in the shopping cart of a single visit_id |\n",
    "| 13 | shop_cart_unique_articles | Number of unique items in the shopping cart of a single visit_id |\n",
    "| 14 | country | country location of the user |\n",
    "| 15 | region | region location of the user |\n",
    "| 16 | city | city location of the user |\n",
    "| 17 | city_id | geoID of the town location of the user |\n",
    "| 18 | women_article | women category - 1 yes , 0 no |\n",
    "| 19 | men_article | men category - 1 yes , 0 no |\n",
    "| 20 | kids_article | kids category - 1 yes , 0 no |\n",
    "| 21 | homeandliving_article | home & living category - 1 yes , 0 no |\n",
    "| 22 | campaign_involved | still not completely clear but after some research it might stand for the cases where users came to the shop via advertisement. When you get to the shop this way the url contains a part for campaign: for example \"utm_campaign=de_retargeting_criteo\"|\n",
    "| 23 | category | Category the article falls in ( partly the path in the webshop to the article ) |\n",
    "| 24 | category_slim | featured category with women, men, kids and home&living |\n",
    "| 25 | brand | Brand of the article |\n",
    "| 26 | product_line | Product line of the article |\n",
    "| 27 | product_group | Product group of the article |\n",
    "| 28 | genre_column_placeholder | Sum of article name, category and product lines/groups to better work with |\n",
    "| 29 | device_category | Category the user device falls in |\n",
    "| 30 | device_browser | Category the user browser falls in |\n",
    "| 31 | device_os | Category the user OS falls in |\n",
    "| 32 | stock_value | company stock price at this day |\n",
    "| 33 | year_month | feature with year and month as int |\n",
    "| 34 | min_purchase_date | date of the first purchase in our timeline of this user |\n",
    "| 35 | user_type | type of the purchase, first or established |"
   ]
  },
  {
   "cell_type": "markdown",
   "metadata": {},
   "source": [
    "## save dataframe to pickle"
   ]
  },
  {
   "cell_type": "code",
   "execution_count": 116,
   "metadata": {},
   "outputs": [],
   "source": [
    "df.to_pickle('Data/dataframefull.pickle')"
   ]
  },
  {
   "cell_type": "code",
   "execution_count": null,
   "metadata": {},
   "outputs": [],
   "source": []
  }
 ],
 "metadata": {
  "kernelspec": {
   "display_name": "Python 3",
   "language": "python",
   "name": "python3"
  },
  "language_info": {
   "codemirror_mode": {
    "name": "ipython",
    "version": 3
   },
   "file_extension": ".py",
   "mimetype": "text/x-python",
   "name": "python",
   "nbconvert_exporter": "python",
   "pygments_lexer": "ipython3",
   "version": "3.6.6"
  }
 },
 "nbformat": 4,
 "nbformat_minor": 2
}
