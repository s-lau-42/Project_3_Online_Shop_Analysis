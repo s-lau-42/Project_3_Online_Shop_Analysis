{
 "cells": [
  {
   "cell_type": "markdown",
   "metadata": {},
   "source": [
    "# Analyzing Online Shop Data"
   ]
  },
  {
   "cell_type": "markdown",
   "metadata": {},
   "source": [
    "In this Data Science project I will analyze the data given by an Online Shop, containing some data of customers and sales for about one and a half years. The goal is to find results and means that could be used by the owners of this shop to further their sales and profit. The steps to achieve this include the construction of new data from the given and using clustering and prediction methods. <br>\n",
    "<br>\n",
    "As a note: The data provided was heavily cut and anonymized before it was provided for this project. Also the webshop has an option to buy articles without signing in with an account. All of these purchases are missing in this set of data. Hence we sadly have to take all results with not a grain but a handful of salt.\n",
    "<br>\n",
    "<br>\n",
    "The project is divided into multiple jupyter notebooks for easier workflow and readability. It is structured in the following way:"
   ]
  },
  {
   "cell_type": "markdown",
   "metadata": {},
   "source": [
    "1. <b>Part 1: Cleaning and Engineering</b>: The start of this project, where basic data cleaning and exploration takes place. Also first metadata is constructed. \n",
    "2. <b>Part 2: Specialized Dataframes</b>: In this notebook multiple dataframes are build for further use. Here the big part of data engineering takes place.\n",
    "3. <b>Clustering</b>: Notebook for clustering of users and months.\n",
    "4. <b>Customer_Churn</b>: Notebook for the prediction of customer churn"
   ]
  },
  {
   "cell_type": "code",
   "execution_count": null,
   "metadata": {},
   "outputs": [],
   "source": []
  },
  {
   "cell_type": "code",
   "execution_count": null,
   "metadata": {},
   "outputs": [],
   "source": []
  },
  {
   "cell_type": "code",
   "execution_count": null,
   "metadata": {},
   "outputs": [],
   "source": []
  },
  {
   "cell_type": "code",
   "execution_count": null,
   "metadata": {},
   "outputs": [],
   "source": [
    "#packages used:\n",
    "#hpopt /hyperopt sklearn\n",
    "#!pip install hyperopt\n",
    "#!pip install lifetimes\n",
    "#!conda install -c conda-forge fbprophet"
   ]
  }
 ],
 "metadata": {
  "kernelspec": {
   "display_name": "Python [conda env:nf2] *",
   "language": "python",
   "name": "conda-env-nf2-py"
  },
  "language_info": {
   "codemirror_mode": {
    "name": "ipython",
    "version": 3
   },
   "file_extension": ".py",
   "mimetype": "text/x-python",
   "name": "python",
   "nbconvert_exporter": "python",
   "pygments_lexer": "ipython3",
   "version": "3.6.6"
  }
 },
 "nbformat": 4,
 "nbformat_minor": 2
}
