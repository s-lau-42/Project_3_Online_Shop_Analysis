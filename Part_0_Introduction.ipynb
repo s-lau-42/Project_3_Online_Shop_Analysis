{
 "cells": [
  {
   "cell_type": "markdown",
   "metadata": {},
   "source": [
    "# Every Customer Counts ?"
   ]
  },
  {
   "cell_type": "markdown",
   "metadata": {},
   "source": [
    "## How to maximize the use of your customer and sales data."
   ]
  },
  {
   "cell_type": "markdown",
   "metadata": {},
   "source": [
    "In this Data Science project I will analyze the data given by an Online Shop, containing some data of customers and sales for about one and a half years. The goal is to find results and means that could be used by the owners of this shop to further their sales and profit. The steps to achieve this include the construction of new data from the given and using clustering and prediction methods. <br>\n",
    "<br>\n",
    "As a note: The data provided was heavily cut and anonymized before it was provided for this project. Also the webshop has an option to buy articles without signing in with an account. All of these purchases are missing in this set of data. Hence we sadly have to take all results with not a grain but a handful of salt.\n",
    "<br>\n",
    "<br>\n",
    "The project is divided into multiple jupyter notebooks for easier workflow and readability. It is structured in the following way:"
   ]
  },
  {
   "cell_type": "markdown",
   "metadata": {},
   "source": [
    "1. <b>Part 1: Cleaning and Engineering</b>: The start of this project, where basic data cleaning and exploration takes place. Also first metadata is constructed. \n",
    "2. <b>Part 2: Specialized Dataframes</b>: In this notebook multiple dataframes are build for further use. Here the big part of data engineering takes place.\n",
    "3. <b>Part 3: Clustering</b>: Notebook for clustering of users.\n",
    "4. <b>Part 4: Customer Lifetime Value</b>: Notebook for predicting Customer Lifetime Value.\n",
    "5. <b>Part 5: Sales Prediction</b>: Notebook for Sales Prediction\n",
    "6. <b>Part 6: Customer_Churn</b>: Notebook for the prediction of customer churn.\n",
    "7. <b>Part 7: Plots</b>: Notebook for all kinds of plots."
   ]
  },
  {
   "cell_type": "markdown",
   "metadata": {},
   "source": [
    "packages used:\n",
    "```py\n",
    "hpopt /hyperopt sklearn\n",
    "!pip install --upgrade https://storage.googleapis.com/tensorflow/mac/cpu/tensorflow-1.6.0-py3-none-any.whl\n",
    "!pip install hyperopt\n",
    "!pip install lifetimes\n",
    "!conda install -c conda-forge fbprophet\n",
    "```"
   ]
  },
  {
   "cell_type": "code",
   "execution_count": 4,
   "metadata": {},
   "outputs": [
    {
     "name": "stdout",
     "output_type": "stream",
     "text": [
      "Requirement already satisfied: lifetimes in /anaconda3/lib/python3.7/site-packages (0.11.1)\r\n",
      "Requirement already satisfied: dill>=0.2.6 in /anaconda3/lib/python3.7/site-packages (from lifetimes) (0.3.1.1)\r\n",
      "Requirement already satisfied: numpy>=1.10.0 in /anaconda3/lib/python3.7/site-packages (from lifetimes) (1.16.4)\r\n",
      "Requirement already satisfied: pandas>=0.24.0 in /anaconda3/lib/python3.7/site-packages (from lifetimes) (0.24.2)\r\n",
      "Requirement already satisfied: autograd>=1.2.0 in /anaconda3/lib/python3.7/site-packages (from lifetimes) (1.3)\r\n",
      "Requirement already satisfied: scipy>=1.0.0 in /anaconda3/lib/python3.7/site-packages (from lifetimes) (1.3.0)\r\n",
      "Requirement already satisfied: python-dateutil>=2.5.0 in /anaconda3/lib/python3.7/site-packages (from pandas>=0.24.0->lifetimes) (2.8.0)\r\n",
      "Requirement already satisfied: pytz>=2011k in /anaconda3/lib/python3.7/site-packages (from pandas>=0.24.0->lifetimes) (2019.1)\r\n",
      "Requirement already satisfied: future>=0.15.2 in /anaconda3/lib/python3.7/site-packages (from autograd>=1.2.0->lifetimes) (0.17.1)\r\n",
      "Requirement already satisfied: six>=1.5 in /anaconda3/lib/python3.7/site-packages (from python-dateutil>=2.5.0->pandas>=0.24.0->lifetimes) (1.12.0)\r\n"
     ]
    }
   ],
   "source": [
    "!pip install lifetimes"
   ]
  },
  {
   "cell_type": "code",
   "execution_count": 6,
   "metadata": {},
   "outputs": [
    {
     "ename": "ModuleNotFoundError",
     "evalue": "No module named 'lifetimes'",
     "output_type": "error",
     "traceback": [
      "\u001b[0;31m---------------------------------------------------------------------------\u001b[0m",
      "\u001b[0;31mModuleNotFoundError\u001b[0m                       Traceback (most recent call last)",
      "\u001b[0;32m<ipython-input-6-dd0d4646e465>\u001b[0m in \u001b[0;36m<module>\u001b[0;34m()\u001b[0m\n\u001b[0;32m----> 1\u001b[0;31m \u001b[0;32mimport\u001b[0m \u001b[0mlifetimes\u001b[0m\u001b[0;34m\u001b[0m\u001b[0m\n\u001b[0m",
      "\u001b[0;31mModuleNotFoundError\u001b[0m: No module named 'lifetimes'"
     ]
    }
   ],
   "source": [
    "import lifetimes"
   ]
  },
  {
   "cell_type": "code",
   "execution_count": null,
   "metadata": {},
   "outputs": [],
   "source": []
  }
 ],
 "metadata": {
  "kernelspec": {
   "display_name": "Python [conda env:nf2] *",
   "language": "python",
   "name": "conda-env-nf2-py"
  },
  "language_info": {
   "codemirror_mode": {
    "name": "ipython",
    "version": 3
   },
   "file_extension": ".py",
   "mimetype": "text/x-python",
   "name": "python",
   "nbconvert_exporter": "python",
   "pygments_lexer": "ipython3",
   "version": "3.6.6"
  }
 },
 "nbformat": 4,
 "nbformat_minor": 2
}
