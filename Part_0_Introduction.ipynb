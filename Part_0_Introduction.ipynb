{
 "cells": [
  {
   "cell_type": "markdown",
   "metadata": {},
   "source": [
    "# Every Customer Counts ?"
   ]
  },
  {
   "cell_type": "markdown",
   "metadata": {},
   "source": [
    "## How to maximize the use of your customer and sales data."
   ]
  },
  {
   "cell_type": "markdown",
   "metadata": {},
   "source": [
    "Online shops gather a multitude of data every time a customer visits their shop or buys something.  How to process and analyze this data is the topic of this project. It incorporates building metadata, clustering and predicting to the end of finding results which could be used as a mean to further the success of the business.\n",
    "<br>\n",
    "<br>\n",
    "The data provided consists of sales data of about one and a half years. But note that it was heavily cut and anonymized before it was provided for this project. Also the webshop in question has an option to buy articles without signing in with an account. All of these purchases are missing in this set of data. <br>\n",
    "Hence, sadly, take all results with not a grain but a handful of salt.\n",
    "<br>\n",
    "<br>\n",
    "The project is divided into multiple jupyter notebooks for easier workflow and readability. It is structured in the following way:"
   ]
  },
  {
   "cell_type": "markdown",
   "metadata": {},
   "source": [
    "1. <b>Part 1: Cleaning and Engineering</b>: The start of this project, where basic data cleaning and exploration takes place. Also first metadata is constructed. \n",
    "2. <b>Part 2: Specialized Dataframes</b>: In this notebook multiple dataframes are build for further use. Here the big part of data engineering takes place.\n",
    "3. <b>Part 3: Clustering</b>: Notebook for clustering of users.\n",
    "4. <b>Part 4: Customer Lifetime Value</b>: Notebook for predicting Customer Lifetime Value.\n",
    "5. <b>Part 5: Sales Prediction</b>: Notebook for Sales Prediction\n",
    "6. <b>Part 6: Customer Churn</b>: Notebook for the prediction of customer churn.\n",
    "7. <b>Part 7: Plots</b>: Notebook for all kinds of plots."
   ]
  },
  {
   "cell_type": "markdown",
   "metadata": {},
   "source": [
    "<b>uncommon packages used:</b>\n",
    "```py\n",
    "!pip install --upgrade https://storage.googleapis.com/tensorflow/mac/cpu/tensorflow-1.6.0-py3-none-any.whl\n",
    "!pip install hyperopt\n",
    "!pip install lifetimes\n",
    "!conda install -c conda-forge fbprophet\n",
    "```"
   ]
  }
 ],
 "metadata": {
  "kernelspec": {
   "display_name": "Python [conda env:nf2]",
   "language": "python",
   "name": "conda-env-nf2-py"
  },
  "language_info": {
   "codemirror_mode": {
    "name": "ipython",
    "version": 3
   },
   "file_extension": ".py",
   "mimetype": "text/x-python",
   "name": "python",
   "nbconvert_exporter": "python",
   "pygments_lexer": "ipython3",
   "version": "3.6.6"
  }
 },
 "nbformat": 4,
 "nbformat_minor": 2
}
